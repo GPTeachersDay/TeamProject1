{
 "cells": [
  {
   "cell_type": "code",
   "execution_count": 1,
   "metadata": {},
   "outputs": [],
   "source": [
    "# 라이브러리 추출\n",
    "import pandas as pd\n",
    "import numpy as np\n",
    "import tensorflow as tf"
   ]
  },
  {
   "cell_type": "code",
   "execution_count": 2,
   "metadata": {},
   "outputs": [],
   "source": [
    "# 메서드 정의\n",
    "def main(URL = 'Dataset\\Regression_data.csv'):\n",
    "    \n",
    "    # 랜덤 시드 고정\n",
    "    np.random.seed(42)\n",
    "    tf.random.set_seed(42)\n",
    "    \n",
    "    global df, LEARNING_RATE, EPOCH_COUNT, MB_SIZE, REPORT, TRAIN_RATIO, X, y, X_train, X_test, y_train, y_test, y_pred\n",
    "    \n",
    "    df = load_dataset(URL) # 데이터 로드\n",
    "    Regression_Model() # 회귀 모델"
   ]
  },
  {
   "cell_type": "code",
   "execution_count": 3,
   "metadata": {},
   "outputs": [],
   "source": [
    "# 메서드 정의\n",
    "def load_dataset(URL = 'Dataset\\Regression_data.csv'):\n",
    "    \n",
    "    # 데이터셋 로드\n",
    "    df = pd.read_csv(URL)\n",
    "\n",
    "    # 성별 인코딩\n",
    "    from sklearn.preprocessing import LabelEncoder\n",
    "    encoder = LabelEncoder()\n",
    "    df['Sex'] = encoder.fit_transform(df['Sex'])\n",
    "    \n",
    "    print(df.head())\n",
    "    \n",
    "    return df"
   ]
  },
  {
   "cell_type": "code",
   "execution_count": 4,
   "metadata": {},
   "outputs": [
    {
     "data": {
      "text/plain": [
       "'\\ndef eval_accuracy(y_true, y_predict):\\n    \\n\\t# 오차율 구하는 과정    \\n\\t# np.mean() 메서드의 이유는 미니배치 처리를 고려하여 하나의 지표로 묶어주기 위함 입니다. \\n    mdiff = np.mean(np.abs((y_predict - y_true) / y_true))\\n    # 1 에서 오차율을 빼 정확도를 구합니다. \\n    return 1 - mdiff\\n'"
      ]
     },
     "execution_count": 4,
     "metadata": {},
     "output_type": "execute_result"
    }
   ],
   "source": [
    "# 사용자 정의 평가 지표 메서드(EvalAccuracy 클래스로 해당 기능을 구현했으며 참고용)\n",
    "\"\"\"\n",
    "def eval_accuracy(y_true, y_predict):\n",
    "    \n",
    "\t# 오차율 구하는 과정    \n",
    "\t# np.mean() 메서드의 이유는 미니배치 처리를 고려하여 하나의 지표로 묶어주기 위함 입니다. \n",
    "    mdiff = np.mean(np.abs((y_predict - y_true) / y_true))\n",
    "    # 1 에서 오차율을 빼 정확도를 구합니다. \n",
    "    return 1 - mdiff\n",
    "\"\"\""
   ]
  },
  {
   "cell_type": "code",
   "execution_count": 5,
   "metadata": {},
   "outputs": [],
   "source": [
    "# 사용자 정의 평가 지표 클래스\n",
    "class EvalAccuracy(tf.keras.metrics.Metric): # TensorFlow의 Metric 클래스를 상속 받음\n",
    "\n",
    "    def __init__(self, name=\"eval_accuracy\", **kwargs): # 부모 클래스의 __init__() 메소드를 호출하여 필요한 초기화를 수행\n",
    "        super(EvalAccuracy, self).__init__(name=name, **kwargs)\n",
    "        self.correct = self.add_weight(name=\"ctp\", initializer=\"zeros\") # add_weight() 메소드를 사용하여 평가 지표를 계산하는데 필요한 변수를 생성(각 배치에서의 평가 결과를 누적하기 위해)\n",
    "        # add_weight() 는 텐서플로우 Layer 클래스의 메서드(새로운 가중치를 추가하는 기능, 여기서는 평가 지표를 계산하는 데 사용되는 일종의 내부 변수를 의미)\n",
    "        # 이 구문이 실행되면, EvalAccuracy 인스턴스는 새로운 가중치를 추가하고 그 가중치를 self.correct에 저장한다.\n",
    "        # 이 self.correct는 update_state() 메서드에서 업데이트되며, '현재까지 처리한 모든 배치에 대한 평가 지표의 평균을 저장'한다.\n",
    "\n",
    "    def update_state(self, y_true, y_predict, sample_weight=None):\n",
    "        value = tf.abs((y_predict - y_true) / y_true)\n",
    "        self.correct.assign(tf.reduce_mean(value)) # 오차율을 계산해서 correct 변수에 누적한 후, assign() 메소드를 사용하여 correct 변수의 값을 업데이트\n",
    "\n",
    "    def result(self):\n",
    "        return 1 - self.correct\n",
    "\n",
    "    def reset_states(self):\n",
    "        # 에포크마다 평가 지표 초기화\n",
    "        self.correct.assign(0.)"
   ]
  },
  {
   "cell_type": "code",
   "execution_count": 6,
   "metadata": {},
   "outputs": [],
   "source": [
    "def Regression_Model():\n",
    "    # 학습 모델 구현\n",
    "    from sklearn.model_selection import train_test_split\n",
    "    from sklearn.metrics import r2_score\n",
    "    from sklearn.metrics import mean_squared_error\n",
    "\n",
    "    # 상수 정의\n",
    "    LEARNING_RATE = 0.01\n",
    "    EPOCH_COUNT = 10\n",
    "    MB_SIZE = 10\n",
    "    REPORT = 1\n",
    "    TRAIN_RATIO = 0.8\n",
    "\n",
    "    # 학습 데이터 분리\n",
    "    X = df.drop('Rings', axis=1)\n",
    "    y = df['Rings']\n",
    "    X_train, X_test, y_train, y_test = train_test_split(X, y, train_size=TRAIN_RATIO)\n",
    "    \n",
    "    # 텐서플로우의 텐서 연산은 계산 효율성 및 GPU사용을 최적화하기 위해 자동 형변환이 발생하지 않는다.\n",
    "    # 따라서 매개변수를 float타입으로 변경해야 EvalAccuracy 클래스의 update_state 메서드가 작동한다. (사용자 정의 평가 지표)\n",
    "    y_train = y_train.astype('float32')\n",
    "    y_test = y_test.astype('float32')\n",
    "\n",
    "    # 모델 생성\n",
    "    model = tf.keras.Sequential([\n",
    "        tf.keras.layers.Dense(units=128, activation='relu', input_shape=(len(X_train.keys()),)), # (len(X_train.keys()),)로 입력해야 튜플 형태로 입력되어 오류가 발생하지 않음\n",
    "        tf.keras.layers.Dense(units=64, activation='relu'),\n",
    "        tf.keras.layers.Dense(units=1)\n",
    "    ])\n",
    "\n",
    "\n",
    "    # 옵티마이저와 손실 함수 설정\n",
    "    optimizer = tf.keras.optimizers.SGD(learning_rate=LEARNING_RATE) # SGD : 경사하강법을 기본적으로 사용하는 옵티마이저\n",
    "    model.compile(loss='mean_squared_error',\n",
    "                  optimizer=optimizer,\n",
    "                  metrics=[EvalAccuracy()])\n",
    "    \n",
    "    # 학습 시작\n",
    "    model.fit(X_train, y_train, epochs=EPOCH_COUNT, batch_size=MB_SIZE, verbose=REPORT)\n",
    "    \n",
    "    # 모델 평가\n",
    "    y_pred = model.predict(X_test)\n",
    "    \n",
    "    loss, accuracy = model.evaluate(X_test, y_test, verbose=0)\n",
    "    print(f'Accuracy: {accuracy}\\n MSE: {loss}')"
   ]
  },
  {
   "cell_type": "code",
   "execution_count": 7,
   "metadata": {},
   "outputs": [
    {
     "name": "stdout",
     "output_type": "stream",
     "text": [
      "   Sex  Length  Diameter  Height  Whole weight  Shucked weight  \\\n",
      "0    2   0.455     0.365   0.095        0.5140          0.2245   \n",
      "1    2   0.350     0.265   0.090        0.2255          0.0995   \n",
      "2    0   0.530     0.420   0.135        0.6770          0.2565   \n",
      "3    2   0.440     0.365   0.125        0.5160          0.2155   \n",
      "4    1   0.330     0.255   0.080        0.2050          0.0895   \n",
      "\n",
      "   Viscera weight  Shell weight  Rings  \n",
      "0          0.1010         0.150     15  \n",
      "1          0.0485         0.070      7  \n",
      "2          0.1415         0.210      9  \n",
      "3          0.1140         0.155     10  \n",
      "4          0.0395         0.055      7  \n",
      "Epoch 1/10\n",
      "335/335 [==============================] - 1s 1ms/step - loss: 10.0990 - eval_accuracy: 0.7902\n",
      "Epoch 2/10\n",
      "138/335 [===========>..................] - ETA: 0s - loss: 7.9541 - eval_accuracy: 0.7499"
     ]
    },
    {
     "name": "stderr",
     "output_type": "stream",
     "text": [
      "c:\\Users\\k10dh\\anaconda3\\envs\\TeamProject\\lib\\site-packages\\keras\\engine\\training.py:2448: UserWarning: Metric EvalAccuracy implements a `reset_states()` method; rename it to `reset_state()` (without the final \"s\"). The name `reset_states()` has been deprecated to improve API consistency.\n",
      "  m.reset_state()\n"
     ]
    },
    {
     "name": "stdout",
     "output_type": "stream",
     "text": [
      "335/335 [==============================] - 0s 1ms/step - loss: 7.4369 - eval_accuracy: 0.7645\n",
      "Epoch 3/10\n",
      "335/335 [==============================] - 0s 1ms/step - loss: 6.5251 - eval_accuracy: 0.9585\n",
      "Epoch 4/10\n",
      "335/335 [==============================] - 0s 1ms/step - loss: 6.0960 - eval_accuracy: 0.8512\n",
      "Epoch 5/10\n",
      "335/335 [==============================] - 0s 1ms/step - loss: 5.6880 - eval_accuracy: 0.8440\n",
      "Epoch 6/10\n",
      "335/335 [==============================] - 0s 1ms/step - loss: 5.6509 - eval_accuracy: 0.8558\n",
      "Epoch 7/10\n",
      "335/335 [==============================] - 0s 1ms/step - loss: 5.5060 - eval_accuracy: 0.9672\n",
      "Epoch 8/10\n",
      "335/335 [==============================] - 0s 1ms/step - loss: 5.4521 - eval_accuracy: 0.9369\n",
      "Epoch 9/10\n",
      "335/335 [==============================] - 0s 1ms/step - loss: 5.3299 - eval_accuracy: 0.9209\n",
      "Epoch 10/10\n",
      "335/335 [==============================] - 0s 1ms/step - loss: 5.3449 - eval_accuracy: 0.9362\n",
      "27/27 [==============================] - 0s 1ms/step\n",
      "Accuracy: 0.6657506227493286\n",
      " MSE: 10.275216102600098\n"
     ]
    },
    {
     "name": "stderr",
     "output_type": "stream",
     "text": [
      "c:\\Users\\k10dh\\anaconda3\\envs\\TeamProject\\lib\\site-packages\\keras\\engine\\training.py:2448: UserWarning: Metric EvalAccuracy implements a `reset_states()` method; rename it to `reset_state()` (without the final \"s\"). The name `reset_states()` has been deprecated to improve API consistency.\n",
      "  m.reset_state()\n"
     ]
    }
   ],
   "source": [
    "main()"
   ]
  }
 ],
 "metadata": {
  "kernelspec": {
   "display_name": "TeamProject",
   "language": "python",
   "name": "python3"
  },
  "language_info": {
   "codemirror_mode": {
    "name": "ipython",
    "version": 3
   },
   "file_extension": ".py",
   "mimetype": "text/x-python",
   "name": "python",
   "nbconvert_exporter": "python",
   "pygments_lexer": "ipython3",
   "version": "3.8.16"
  },
  "orig_nbformat": 4
 },
 "nbformat": 4,
 "nbformat_minor": 2
}
