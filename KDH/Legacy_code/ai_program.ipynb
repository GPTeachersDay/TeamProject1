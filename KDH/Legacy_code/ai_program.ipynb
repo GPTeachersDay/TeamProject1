{
 "cells": [
  {
   "cell_type": "code",
   "execution_count": 9,
   "metadata": {},
   "outputs": [
    {
     "name": "stdout",
     "output_type": "stream",
     "text": [
      "[안내] 은닉 계층 2개를 갖는 다층 퍼셉트론이 적용됩니다.\n",
      "Epoch 1   : Train - Loss = 12.305, Accuracy = 0.710 / Test - Accuracy = 0.747\n",
      "Epoch 2   : Train - Loss = 10.162, Accuracy = 0.729 / Test - Accuracy = 0.720\n",
      "Epoch 3   : Train - Loss = 10.139, Accuracy = 0.729 / Test - Accuracy = 0.722\n",
      "Epoch 4   : Train - Loss = 10.159, Accuracy = 0.728 / Test - Accuracy = 0.718\n",
      "Epoch 5   : Train - Loss = 10.183, Accuracy = 0.728 / Test - Accuracy = 0.744\n",
      "Epoch 6   : Train - Loss = 10.124, Accuracy = 0.728 / Test - Accuracy = 0.738\n",
      "Epoch 7   : Train - Loss = 10.108, Accuracy = 0.729 / Test - Accuracy = 0.711\n",
      "Epoch 8   : Train - Loss = 10.067, Accuracy = 0.729 / Test - Accuracy = 0.739\n",
      "Epoch 9   : Train - Loss = 10.024, Accuracy = 0.729 / Test - Accuracy = 0.741\n",
      "Epoch 10   : Train - Loss = 10.115, Accuracy = 0.729 / Test - Accuracy = 0.731\n",
      "==============================  Final TEST  ==============================\n",
      "\n",
      "Final Accuracy = 0.731\n"
     ]
    }
   ],
   "source": [
    "# 회귀 모델 동작\n",
    "\n",
    "# 회귀문제 단층 퍼셉트론 모델 불러오기 \n",
    "%run AnnModel1.ipynb\n",
    "# 다층 퍼셉트론 기능 추가 \n",
    "%run mlp.ipynb\n",
    "\n",
    "# 아무 값도 입력하지 않으면 은닉계층을 갖지 않는 SLP 이 구축됩니다.\n",
    "set_hidden([1,2])\n",
    "# 메서드 동작\n",
    "main()"
   ]
  },
  {
   "cell_type": "code",
   "execution_count": 12,
   "metadata": {},
   "outputs": [
    {
     "name": "stdout",
     "output_type": "stream",
     "text": [
      "[안내] 은닉 계층 2개를 갖는 다층 퍼셉트론이 적용됩니다.\n",
      "Epoch 1   : Train - Loss = 0.146, Accuracy = 0.956 / Test - Accuracy = 0.965\n",
      "Epoch 2   : Train - Loss = 0.117, Accuracy = 0.973 / Test - Accuracy = 0.970\n",
      "Epoch 3   : Train - Loss = 0.111, Accuracy = 0.974 / Test - Accuracy = 0.970\n",
      "Epoch 4   : Train - Loss = 0.106, Accuracy = 0.975 / Test - Accuracy = 0.970\n",
      "Epoch 5   : Train - Loss = 0.102, Accuracy = 0.974 / Test - Accuracy = 0.969\n",
      "Epoch 6   : Train - Loss = 0.101, Accuracy = 0.974 / Test - Accuracy = 0.967\n",
      "Epoch 7   : Train - Loss = 0.099, Accuracy = 0.974 / Test - Accuracy = 0.970\n",
      "Epoch 8   : Train - Loss = 0.097, Accuracy = 0.975 / Test - Accuracy = 0.972\n",
      "Epoch 9   : Train - Loss = 0.097, Accuracy = 0.975 / Test - Accuracy = 0.971\n",
      "Epoch 10   : Train - Loss = 0.096, Accuracy = 0.974 / Test - Accuracy = 0.971\n",
      "==============================  Final TEST  ==============================\n",
      "\n",
      "Final Accuracy = 0.971\n"
     ]
    }
   ],
   "source": [
    "# 이진판단 모델동작\n",
    "\n",
    "# 회귀문제 단층 퍼셉트론 모델 불러오기 \n",
    "%run AnnModel2.ipynb\n",
    "# 다층 퍼셉트론 기능 추가 \n",
    "%run mlp.ipynb\n",
    "\n",
    "# 아무 값도 입력하지 않으면 은닉계층을 갖지 않는 SLP 이 구축됩니다.\n",
    "set_hidden([1,2])\n",
    "# 메서드 동작\n",
    "binary_main()"
   ]
  },
  {
   "cell_type": "code",
   "execution_count": 15,
   "metadata": {},
   "outputs": [
    {
     "name": "stdout",
     "output_type": "stream",
     "text": [
      "[안내] 은닉 계층 2개를 갖는 다층 퍼셉트론이 적용됩니다.\n",
      "[Epoch 1] Train Loss = 0.757 | Test Acc = 0.495, Precision = 0.000, Recall = 0.000, F1 = 0.000\n",
      "[Epoch 2] Train Loss = 0.693 | Test Acc = 0.505, Precision = 0.505, Recall = 1.000, F1 = 0.671\n",
      "[Epoch 3] Train Loss = 0.693 | Test Acc = 0.495, Precision = 0.000, Recall = 0.000, F1 = 0.000\n",
      "[Epoch 4] Train Loss = 0.693 | Test Acc = 0.495, Precision = 0.000, Recall = 0.000, F1 = 0.000\n",
      "[Epoch 5] Train Loss = 0.693 | Test Acc = 0.505, Precision = 0.505, Recall = 1.000, F1 = 0.671\n",
      "[Epoch 6] Train Loss = 0.693 | Test Acc = 0.495, Precision = 0.000, Recall = 0.000, F1 = 0.000\n",
      "[Epoch 7] Train Loss = 0.693 | Test Acc = 0.495, Precision = 0.000, Recall = 0.000, F1 = 0.000\n",
      "[Epoch 8] Train Loss = 0.693 | Test Acc = 0.495, Precision = 0.000, Recall = 0.000, F1 = 0.000\n",
      "[Epoch 9] Train Loss = 0.693 | Test Acc = 0.495, Precision = 0.000, Recall = 0.000, F1 = 0.000\n",
      "[Epoch 10] Train Loss = 0.693 | Test Acc = 0.505, Precision = 0.505, Recall = 1.000, F1 = 0.671\n",
      "\n",
      " ========================================  FINAL TEST REPORT ======================================== \n",
      "\n",
      "► Acc = 0.505 Precision = 0.505, Recall = 1.000, F1 = 0.671\n"
     ]
    }
   ],
   "source": [
    "# 이진판단 모델동작, 평가지표 개선 및 데이터 증폭 작업 실시\n",
    "\n",
    "# 회귀문제 단층 퍼셉트론 모델 불러오기 \n",
    "%run AnnModel2_Plus.ipynb\n",
    "# 다층 퍼셉트론 기능 추가 \n",
    "%run mlp.ipynb\n",
    "\n",
    "# 아무 값도 입력하지 않으면 은닉계층을 갖지 않는 SLP 이 구축됩니다.\n",
    "set_hidden([1,2])\n",
    "# 메서드 동작\n",
    "binary_main(adjust_ratio = True)"
   ]
  },
  {
   "cell_type": "code",
   "execution_count": 16,
   "metadata": {},
   "outputs": [
    {
     "name": "stdout",
     "output_type": "stream",
     "text": [
      "[안내] 은닉 계층 2개를 갖는 다층 퍼셉트론이 적용됩니다.\n",
      "Epoch 1   : Train - Loss = 2.056, Accuracy = 0.339 / Test - Accuracy = 0.351\n",
      "Epoch 2   : Train - Loss = 1.840, Accuracy = 0.344 / Test - Accuracy = 0.351\n",
      "Epoch 3   : Train - Loss = 1.794, Accuracy = 0.344 / Test - Accuracy = 0.351\n",
      "Epoch 4   : Train - Loss = 1.763, Accuracy = 0.344 / Test - Accuracy = 0.351\n",
      "Epoch 5   : Train - Loss = 1.740, Accuracy = 0.344 / Test - Accuracy = 0.351\n",
      "Epoch 6   : Train - Loss = 1.724, Accuracy = 0.344 / Test - Accuracy = 0.351\n",
      "Epoch 7   : Train - Loss = 1.713, Accuracy = 0.344 / Test - Accuracy = 0.351\n",
      "Epoch 8   : Train - Loss = 1.705, Accuracy = 0.344 / Test - Accuracy = 0.351\n",
      "Epoch 9   : Train - Loss = 1.698, Accuracy = 0.344 / Test - Accuracy = 0.351\n",
      "Epoch 10   : Train - Loss = 1.693, Accuracy = 0.344 / Test - Accuracy = 0.351\n",
      "==============================  Final TEST  ==============================\n",
      "\n",
      "Final Accuracy = 0.351\n"
     ]
    }
   ],
   "source": [
    "# 회귀문제 단층 퍼셉트론 모델 불러오기 \n",
    "%run AnnModel3.ipynb\n",
    "# 다층 퍼셉트론 기능 추가 \n",
    "%run mlp.ipynb\n",
    "\n",
    "# 아무 값도 입력하지 않으면 은닉계층을 갖지 않는 SLP 이 구축됩니다.\n",
    "set_hidden([2,5])\n",
    "# 메서드 동작\n",
    "multiple_main()"
   ]
  }
 ],
 "metadata": {
  "kernelspec": {
   "display_name": "venv_cp",
   "language": "python",
   "name": "python3"
  },
  "language_info": {
   "codemirror_mode": {
    "name": "ipython",
    "version": 3
   },
   "file_extension": ".py",
   "mimetype": "text/x-python",
   "name": "python",
   "nbconvert_exporter": "python",
   "pygments_lexer": "ipython3",
   "version": "3.8.16"
  },
  "orig_nbformat": 4
 },
 "nbformat": 4,
 "nbformat_minor": 2
}
