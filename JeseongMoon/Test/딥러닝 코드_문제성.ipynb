{
  "nbformat": 4,
  "nbformat_minor": 0,
  "metadata": {
    "colab": {
      "provenance": []
    },
    "kernelspec": {
      "name": "python3",
      "display_name": "Python 3"
    },
    "language_info": {
      "name": "python"
    }
  },
  "cells": [
    {
      "cell_type": "code",
      "source": [
        "!pip install category_encoders"
      ],
      "metadata": {
        "colab": {
          "base_uri": "https://localhost:8080/"
        },
        "id": "tG_yvtNjUiHv",
        "outputId": "2043b685-7d7c-41ae-c4cd-3d760fe7b12f"
      },
      "execution_count": 1,
      "outputs": [
        {
          "output_type": "stream",
          "name": "stdout",
          "text": [
            "Looking in indexes: https://pypi.org/simple, https://us-python.pkg.dev/colab-wheels/public/simple/\n",
            "Requirement already satisfied: category_encoders in /usr/local/lib/python3.10/dist-packages (2.6.1)\n",
            "Requirement already satisfied: numpy>=1.14.0 in /usr/local/lib/python3.10/dist-packages (from category_encoders) (1.22.4)\n",
            "Requirement already satisfied: scikit-learn>=0.20.0 in /usr/local/lib/python3.10/dist-packages (from category_encoders) (1.2.2)\n",
            "Requirement already satisfied: scipy>=1.0.0 in /usr/local/lib/python3.10/dist-packages (from category_encoders) (1.10.1)\n",
            "Requirement already satisfied: statsmodels>=0.9.0 in /usr/local/lib/python3.10/dist-packages (from category_encoders) (0.13.5)\n",
            "Requirement already satisfied: pandas>=1.0.5 in /usr/local/lib/python3.10/dist-packages (from category_encoders) (1.5.3)\n",
            "Requirement already satisfied: patsy>=0.5.1 in /usr/local/lib/python3.10/dist-packages (from category_encoders) (0.5.3)\n",
            "Requirement already satisfied: python-dateutil>=2.8.1 in /usr/local/lib/python3.10/dist-packages (from pandas>=1.0.5->category_encoders) (2.8.2)\n",
            "Requirement already satisfied: pytz>=2020.1 in /usr/local/lib/python3.10/dist-packages (from pandas>=1.0.5->category_encoders) (2022.7.1)\n",
            "Requirement already satisfied: six in /usr/local/lib/python3.10/dist-packages (from patsy>=0.5.1->category_encoders) (1.16.0)\n",
            "Requirement already satisfied: joblib>=1.1.1 in /usr/local/lib/python3.10/dist-packages (from scikit-learn>=0.20.0->category_encoders) (1.2.0)\n",
            "Requirement already satisfied: threadpoolctl>=2.0.0 in /usr/local/lib/python3.10/dist-packages (from scikit-learn>=0.20.0->category_encoders) (3.1.0)\n",
            "Requirement already satisfied: packaging>=21.3 in /usr/local/lib/python3.10/dist-packages (from statsmodels>=0.9.0->category_encoders) (23.1)\n"
          ]
        }
      ]
    },
    {
      "cell_type": "code",
      "execution_count": 2,
      "metadata": {
        "id": "Xz0pSRxPS2Lm"
      },
      "outputs": [],
      "source": [
        "import pandas as pd \n",
        "import numpy as np \n",
        "\n",
        "import os\n",
        "import sys\n",
        "\n",
        "import matplotlib.pyplot as plt\n",
        "import seaborn as sns\n",
        "import time\n",
        "\n",
        "import lightgbm as lgbm\n",
        "import sklearn\n",
        "from sklearn.metrics import log_loss\n",
        "from sklearn.model_selection import StratifiedKFold\n",
        "from sklearn.decomposition import TruncatedSVD, PCA, FastICA, FactorAnalysis, KernelPCA, DictionaryLearning\n",
        "from sklearn.decomposition import IncrementalPCA, LatentDirichletAllocation,MiniBatchSparsePCA, SparsePCA"
      ]
    },
    {
      "cell_type": "code",
      "source": [
        "from sklearn.model_selection import train_test_split\n",
        "from sklearn.preprocessing import StandardScaler\n",
        "from sklearn.tree import DecisionTreeClassifier\n",
        "from sklearn.ensemble import RandomForestClassifier\n",
        "\n",
        "from sklearn.pipeline import make_pipeline\n",
        "from category_encoders import OneHotEncoder, OrdinalEncoder\n",
        "from sklearn.impute import SimpleImputer"
      ],
      "metadata": {
        "id": "dgUC7_TZUclc"
      },
      "execution_count": 3,
      "outputs": []
    },
    {
      "cell_type": "code",
      "source": [
        "df = pd.read_csv('/content/Regression_data.csv')\n",
        "df.head()"
      ],
      "metadata": {
        "colab": {
          "base_uri": "https://localhost:8080/",
          "height": 206
        },
        "id": "vtuD0DiWUmNN",
        "outputId": "ed67a2e4-bfab-4809-9d10-7dc21dd3064e"
      },
      "execution_count": 4,
      "outputs": [
        {
          "output_type": "execute_result",
          "data": {
            "text/plain": [
              "  Sex  Length  Diameter  Height  Whole weight  Shucked weight  Viscera weight  \\\n",
              "0   M   0.455     0.365   0.095        0.5140          0.2245          0.1010   \n",
              "1   M   0.350     0.265   0.090        0.2255          0.0995          0.0485   \n",
              "2   F   0.530     0.420   0.135        0.6770          0.2565          0.1415   \n",
              "3   M   0.440     0.365   0.125        0.5160          0.2155          0.1140   \n",
              "4   I   0.330     0.255   0.080        0.2050          0.0895          0.0395   \n",
              "\n",
              "   Shell weight  Rings  \n",
              "0         0.150     15  \n",
              "1         0.070      7  \n",
              "2         0.210      9  \n",
              "3         0.155     10  \n",
              "4         0.055      7  "
            ],
            "text/html": [
              "\n",
              "  <div id=\"df-453496ab-bc99-4224-b702-cf78de534fcc\">\n",
              "    <div class=\"colab-df-container\">\n",
              "      <div>\n",
              "<style scoped>\n",
              "    .dataframe tbody tr th:only-of-type {\n",
              "        vertical-align: middle;\n",
              "    }\n",
              "\n",
              "    .dataframe tbody tr th {\n",
              "        vertical-align: top;\n",
              "    }\n",
              "\n",
              "    .dataframe thead th {\n",
              "        text-align: right;\n",
              "    }\n",
              "</style>\n",
              "<table border=\"1\" class=\"dataframe\">\n",
              "  <thead>\n",
              "    <tr style=\"text-align: right;\">\n",
              "      <th></th>\n",
              "      <th>Sex</th>\n",
              "      <th>Length</th>\n",
              "      <th>Diameter</th>\n",
              "      <th>Height</th>\n",
              "      <th>Whole weight</th>\n",
              "      <th>Shucked weight</th>\n",
              "      <th>Viscera weight</th>\n",
              "      <th>Shell weight</th>\n",
              "      <th>Rings</th>\n",
              "    </tr>\n",
              "  </thead>\n",
              "  <tbody>\n",
              "    <tr>\n",
              "      <th>0</th>\n",
              "      <td>M</td>\n",
              "      <td>0.455</td>\n",
              "      <td>0.365</td>\n",
              "      <td>0.095</td>\n",
              "      <td>0.5140</td>\n",
              "      <td>0.2245</td>\n",
              "      <td>0.1010</td>\n",
              "      <td>0.150</td>\n",
              "      <td>15</td>\n",
              "    </tr>\n",
              "    <tr>\n",
              "      <th>1</th>\n",
              "      <td>M</td>\n",
              "      <td>0.350</td>\n",
              "      <td>0.265</td>\n",
              "      <td>0.090</td>\n",
              "      <td>0.2255</td>\n",
              "      <td>0.0995</td>\n",
              "      <td>0.0485</td>\n",
              "      <td>0.070</td>\n",
              "      <td>7</td>\n",
              "    </tr>\n",
              "    <tr>\n",
              "      <th>2</th>\n",
              "      <td>F</td>\n",
              "      <td>0.530</td>\n",
              "      <td>0.420</td>\n",
              "      <td>0.135</td>\n",
              "      <td>0.6770</td>\n",
              "      <td>0.2565</td>\n",
              "      <td>0.1415</td>\n",
              "      <td>0.210</td>\n",
              "      <td>9</td>\n",
              "    </tr>\n",
              "    <tr>\n",
              "      <th>3</th>\n",
              "      <td>M</td>\n",
              "      <td>0.440</td>\n",
              "      <td>0.365</td>\n",
              "      <td>0.125</td>\n",
              "      <td>0.5160</td>\n",
              "      <td>0.2155</td>\n",
              "      <td>0.1140</td>\n",
              "      <td>0.155</td>\n",
              "      <td>10</td>\n",
              "    </tr>\n",
              "    <tr>\n",
              "      <th>4</th>\n",
              "      <td>I</td>\n",
              "      <td>0.330</td>\n",
              "      <td>0.255</td>\n",
              "      <td>0.080</td>\n",
              "      <td>0.2050</td>\n",
              "      <td>0.0895</td>\n",
              "      <td>0.0395</td>\n",
              "      <td>0.055</td>\n",
              "      <td>7</td>\n",
              "    </tr>\n",
              "  </tbody>\n",
              "</table>\n",
              "</div>\n",
              "      <button class=\"colab-df-convert\" onclick=\"convertToInteractive('df-453496ab-bc99-4224-b702-cf78de534fcc')\"\n",
              "              title=\"Convert this dataframe to an interactive table.\"\n",
              "              style=\"display:none;\">\n",
              "        \n",
              "  <svg xmlns=\"http://www.w3.org/2000/svg\" height=\"24px\"viewBox=\"0 0 24 24\"\n",
              "       width=\"24px\">\n",
              "    <path d=\"M0 0h24v24H0V0z\" fill=\"none\"/>\n",
              "    <path d=\"M18.56 5.44l.94 2.06.94-2.06 2.06-.94-2.06-.94-.94-2.06-.94 2.06-2.06.94zm-11 1L8.5 8.5l.94-2.06 2.06-.94-2.06-.94L8.5 2.5l-.94 2.06-2.06.94zm10 10l.94 2.06.94-2.06 2.06-.94-2.06-.94-.94-2.06-.94 2.06-2.06.94z\"/><path d=\"M17.41 7.96l-1.37-1.37c-.4-.4-.92-.59-1.43-.59-.52 0-1.04.2-1.43.59L10.3 9.45l-7.72 7.72c-.78.78-.78 2.05 0 2.83L4 21.41c.39.39.9.59 1.41.59.51 0 1.02-.2 1.41-.59l7.78-7.78 2.81-2.81c.8-.78.8-2.07 0-2.86zM5.41 20L4 18.59l7.72-7.72 1.47 1.35L5.41 20z\"/>\n",
              "  </svg>\n",
              "      </button>\n",
              "      \n",
              "  <style>\n",
              "    .colab-df-container {\n",
              "      display:flex;\n",
              "      flex-wrap:wrap;\n",
              "      gap: 12px;\n",
              "    }\n",
              "\n",
              "    .colab-df-convert {\n",
              "      background-color: #E8F0FE;\n",
              "      border: none;\n",
              "      border-radius: 50%;\n",
              "      cursor: pointer;\n",
              "      display: none;\n",
              "      fill: #1967D2;\n",
              "      height: 32px;\n",
              "      padding: 0 0 0 0;\n",
              "      width: 32px;\n",
              "    }\n",
              "\n",
              "    .colab-df-convert:hover {\n",
              "      background-color: #E2EBFA;\n",
              "      box-shadow: 0px 1px 2px rgba(60, 64, 67, 0.3), 0px 1px 3px 1px rgba(60, 64, 67, 0.15);\n",
              "      fill: #174EA6;\n",
              "    }\n",
              "\n",
              "    [theme=dark] .colab-df-convert {\n",
              "      background-color: #3B4455;\n",
              "      fill: #D2E3FC;\n",
              "    }\n",
              "\n",
              "    [theme=dark] .colab-df-convert:hover {\n",
              "      background-color: #434B5C;\n",
              "      box-shadow: 0px 1px 3px 1px rgba(0, 0, 0, 0.15);\n",
              "      filter: drop-shadow(0px 1px 2px rgba(0, 0, 0, 0.3));\n",
              "      fill: #FFFFFF;\n",
              "    }\n",
              "  </style>\n",
              "\n",
              "      <script>\n",
              "        const buttonEl =\n",
              "          document.querySelector('#df-453496ab-bc99-4224-b702-cf78de534fcc button.colab-df-convert');\n",
              "        buttonEl.style.display =\n",
              "          google.colab.kernel.accessAllowed ? 'block' : 'none';\n",
              "\n",
              "        async function convertToInteractive(key) {\n",
              "          const element = document.querySelector('#df-453496ab-bc99-4224-b702-cf78de534fcc');\n",
              "          const dataTable =\n",
              "            await google.colab.kernel.invokeFunction('convertToInteractive',\n",
              "                                                     [key], {});\n",
              "          if (!dataTable) return;\n",
              "\n",
              "          const docLinkHtml = 'Like what you see? Visit the ' +\n",
              "            '<a target=\"_blank\" href=https://colab.research.google.com/notebooks/data_table.ipynb>data table notebook</a>'\n",
              "            + ' to learn more about interactive tables.';\n",
              "          element.innerHTML = '';\n",
              "          dataTable['output_type'] = 'display_data';\n",
              "          await google.colab.output.renderOutput(dataTable, element);\n",
              "          const docLink = document.createElement('div');\n",
              "          docLink.innerHTML = docLinkHtml;\n",
              "          element.appendChild(docLink);\n",
              "        }\n",
              "      </script>\n",
              "    </div>\n",
              "  </div>\n",
              "  "
            ]
          },
          "metadata": {},
          "execution_count": 4
        }
      ]
    },
    {
      "cell_type": "code",
      "source": [
        "def check_missing_col(dataframe):\n",
        "    missing_col = []\n",
        "    counted_missing_col = 0\n",
        "    for i, col in enumerate(dataframe.columns):\n",
        "        missing_values = sum(dataframe[col].isna())\n",
        "        is_missing = True if missing_values >= 1 else False\n",
        "        if is_missing:\n",
        "            counted_missing_col += 1\n",
        "            print(f'결측치가 있는 컬럼은: {col}입니다')\n",
        "            print(f'해당 컬럼에 총 {missing_values}개의 결측치가 존재합니다.')\n",
        "            missing_col.append([col, dataframe[col].dtype])\n",
        "    if counted_missing_col == 0:\n",
        "        print('결측치가 존재하지 않습니다')\n",
        "    return missing_col\n",
        "\n",
        "missing_col = check_missing_col(df)"
      ],
      "metadata": {
        "colab": {
          "base_uri": "https://localhost:8080/"
        },
        "id": "6r3jkd-hUqG5",
        "outputId": "912121f0-200b-4a31-d589-95960a36d76d"
      },
      "execution_count": 5,
      "outputs": [
        {
          "output_type": "stream",
          "name": "stdout",
          "text": [
            "결측치가 존재하지 않습니다\n"
          ]
        }
      ]
    },
    {
      "cell_type": "code",
      "source": [
        "#라벨인코딩을 하기 위함 dictionary map 생성 함수\n",
        "def make_label_map(dataframe):\n",
        "    label_maps = {}\n",
        "    for col in dataframe.columns:\n",
        "        if dataframe[col].dtype=='object':\n",
        "            label_map = {'unknown':0}\n",
        "            for i, key in enumerate(dataframe[col].unique()):\n",
        "                label_map[key] = i+1  #새로 등장하는 유니크 값들에 대해 1부터 1씩 증가시켜 키값을 부여해줍니다.\n",
        "            label_maps[col] = label_map\n",
        "    print(label_maps)\n",
        "    return label_maps"
      ],
      "metadata": {
        "id": "yd2Fs0NMYUFA"
      },
      "execution_count": 6,
      "outputs": []
    },
    {
      "cell_type": "code",
      "source": [
        "# 각 범주형 변수에 인코딩 값을 부여하는 함수\n",
        "def label_encoder(dataframe, label_map):\n",
        "    for col in dataframe.columns:\n",
        "        if dataframe[col].dtype=='object':\n",
        "            dataframe[col] = dataframe[col].map(label_map[col])\n",
        "            dataframe[col] = dataframe[col].fillna(label_map[col]['unknown']) #혹시 모를 결측값은 unknown의 값(0)으로 채워줍니다.\n",
        "    return dataframe"
      ],
      "metadata": {
        "id": "iwFbw62VYWCb"
      },
      "execution_count": 7,
      "outputs": []
    },
    {
      "cell_type": "code",
      "source": [
        "train_le = make_label_map(df[['Sex']])\n",
        "Sex_df = label_encoder(df[['Sex']], train_le)\n",
        "df['Sex'] = Sex_df[['Sex']]"
      ],
      "metadata": {
        "colab": {
          "base_uri": "https://localhost:8080/"
        },
        "id": "76GqDGHIYYFf",
        "outputId": "dd285168-a968-45c3-b9dc-137d9e67792b"
      },
      "execution_count": 8,
      "outputs": [
        {
          "output_type": "stream",
          "name": "stdout",
          "text": [
            "{'Sex': {'unknown': 0, 'M': 1, 'F': 2, 'I': 3}}\n"
          ]
        },
        {
          "output_type": "stream",
          "name": "stderr",
          "text": [
            "<ipython-input-7-3247400c2161>:5: SettingWithCopyWarning: \n",
            "A value is trying to be set on a copy of a slice from a DataFrame.\n",
            "Try using .loc[row_indexer,col_indexer] = value instead\n",
            "\n",
            "See the caveats in the documentation: https://pandas.pydata.org/pandas-docs/stable/user_guide/indexing.html#returning-a-view-versus-a-copy\n",
            "  dataframe[col] = dataframe[col].map(label_map[col])\n",
            "<ipython-input-7-3247400c2161>:6: SettingWithCopyWarning: \n",
            "A value is trying to be set on a copy of a slice from a DataFrame.\n",
            "Try using .loc[row_indexer,col_indexer] = value instead\n",
            "\n",
            "See the caveats in the documentation: https://pandas.pydata.org/pandas-docs/stable/user_guide/indexing.html#returning-a-view-versus-a-copy\n",
            "  dataframe[col] = dataframe[col].fillna(label_map[col]['unknown']) #혹시 모를 결측값은 unknown의 값(0)으로 채워줍니다.\n"
          ]
        }
      ]
    },
    {
      "cell_type": "code",
      "source": [
        "df.head()"
      ],
      "metadata": {
        "colab": {
          "base_uri": "https://localhost:8080/",
          "height": 206
        },
        "id": "F2GPYrbXYbpB",
        "outputId": "ddaaa956-6308-4810-d395-7eca9f3c3aab"
      },
      "execution_count": 9,
      "outputs": [
        {
          "output_type": "execute_result",
          "data": {
            "text/plain": [
              "   Sex  Length  Diameter  Height  Whole weight  Shucked weight  \\\n",
              "0    1   0.455     0.365   0.095        0.5140          0.2245   \n",
              "1    1   0.350     0.265   0.090        0.2255          0.0995   \n",
              "2    2   0.530     0.420   0.135        0.6770          0.2565   \n",
              "3    1   0.440     0.365   0.125        0.5160          0.2155   \n",
              "4    3   0.330     0.255   0.080        0.2050          0.0895   \n",
              "\n",
              "   Viscera weight  Shell weight  Rings  \n",
              "0          0.1010         0.150     15  \n",
              "1          0.0485         0.070      7  \n",
              "2          0.1415         0.210      9  \n",
              "3          0.1140         0.155     10  \n",
              "4          0.0395         0.055      7  "
            ],
            "text/html": [
              "\n",
              "  <div id=\"df-609b853a-5706-4721-ab7b-fedc41498555\">\n",
              "    <div class=\"colab-df-container\">\n",
              "      <div>\n",
              "<style scoped>\n",
              "    .dataframe tbody tr th:only-of-type {\n",
              "        vertical-align: middle;\n",
              "    }\n",
              "\n",
              "    .dataframe tbody tr th {\n",
              "        vertical-align: top;\n",
              "    }\n",
              "\n",
              "    .dataframe thead th {\n",
              "        text-align: right;\n",
              "    }\n",
              "</style>\n",
              "<table border=\"1\" class=\"dataframe\">\n",
              "  <thead>\n",
              "    <tr style=\"text-align: right;\">\n",
              "      <th></th>\n",
              "      <th>Sex</th>\n",
              "      <th>Length</th>\n",
              "      <th>Diameter</th>\n",
              "      <th>Height</th>\n",
              "      <th>Whole weight</th>\n",
              "      <th>Shucked weight</th>\n",
              "      <th>Viscera weight</th>\n",
              "      <th>Shell weight</th>\n",
              "      <th>Rings</th>\n",
              "    </tr>\n",
              "  </thead>\n",
              "  <tbody>\n",
              "    <tr>\n",
              "      <th>0</th>\n",
              "      <td>1</td>\n",
              "      <td>0.455</td>\n",
              "      <td>0.365</td>\n",
              "      <td>0.095</td>\n",
              "      <td>0.5140</td>\n",
              "      <td>0.2245</td>\n",
              "      <td>0.1010</td>\n",
              "      <td>0.150</td>\n",
              "      <td>15</td>\n",
              "    </tr>\n",
              "    <tr>\n",
              "      <th>1</th>\n",
              "      <td>1</td>\n",
              "      <td>0.350</td>\n",
              "      <td>0.265</td>\n",
              "      <td>0.090</td>\n",
              "      <td>0.2255</td>\n",
              "      <td>0.0995</td>\n",
              "      <td>0.0485</td>\n",
              "      <td>0.070</td>\n",
              "      <td>7</td>\n",
              "    </tr>\n",
              "    <tr>\n",
              "      <th>2</th>\n",
              "      <td>2</td>\n",
              "      <td>0.530</td>\n",
              "      <td>0.420</td>\n",
              "      <td>0.135</td>\n",
              "      <td>0.6770</td>\n",
              "      <td>0.2565</td>\n",
              "      <td>0.1415</td>\n",
              "      <td>0.210</td>\n",
              "      <td>9</td>\n",
              "    </tr>\n",
              "    <tr>\n",
              "      <th>3</th>\n",
              "      <td>1</td>\n",
              "      <td>0.440</td>\n",
              "      <td>0.365</td>\n",
              "      <td>0.125</td>\n",
              "      <td>0.5160</td>\n",
              "      <td>0.2155</td>\n",
              "      <td>0.1140</td>\n",
              "      <td>0.155</td>\n",
              "      <td>10</td>\n",
              "    </tr>\n",
              "    <tr>\n",
              "      <th>4</th>\n",
              "      <td>3</td>\n",
              "      <td>0.330</td>\n",
              "      <td>0.255</td>\n",
              "      <td>0.080</td>\n",
              "      <td>0.2050</td>\n",
              "      <td>0.0895</td>\n",
              "      <td>0.0395</td>\n",
              "      <td>0.055</td>\n",
              "      <td>7</td>\n",
              "    </tr>\n",
              "  </tbody>\n",
              "</table>\n",
              "</div>\n",
              "      <button class=\"colab-df-convert\" onclick=\"convertToInteractive('df-609b853a-5706-4721-ab7b-fedc41498555')\"\n",
              "              title=\"Convert this dataframe to an interactive table.\"\n",
              "              style=\"display:none;\">\n",
              "        \n",
              "  <svg xmlns=\"http://www.w3.org/2000/svg\" height=\"24px\"viewBox=\"0 0 24 24\"\n",
              "       width=\"24px\">\n",
              "    <path d=\"M0 0h24v24H0V0z\" fill=\"none\"/>\n",
              "    <path d=\"M18.56 5.44l.94 2.06.94-2.06 2.06-.94-2.06-.94-.94-2.06-.94 2.06-2.06.94zm-11 1L8.5 8.5l.94-2.06 2.06-.94-2.06-.94L8.5 2.5l-.94 2.06-2.06.94zm10 10l.94 2.06.94-2.06 2.06-.94-2.06-.94-.94-2.06-.94 2.06-2.06.94z\"/><path d=\"M17.41 7.96l-1.37-1.37c-.4-.4-.92-.59-1.43-.59-.52 0-1.04.2-1.43.59L10.3 9.45l-7.72 7.72c-.78.78-.78 2.05 0 2.83L4 21.41c.39.39.9.59 1.41.59.51 0 1.02-.2 1.41-.59l7.78-7.78 2.81-2.81c.8-.78.8-2.07 0-2.86zM5.41 20L4 18.59l7.72-7.72 1.47 1.35L5.41 20z\"/>\n",
              "  </svg>\n",
              "      </button>\n",
              "      \n",
              "  <style>\n",
              "    .colab-df-container {\n",
              "      display:flex;\n",
              "      flex-wrap:wrap;\n",
              "      gap: 12px;\n",
              "    }\n",
              "\n",
              "    .colab-df-convert {\n",
              "      background-color: #E8F0FE;\n",
              "      border: none;\n",
              "      border-radius: 50%;\n",
              "      cursor: pointer;\n",
              "      display: none;\n",
              "      fill: #1967D2;\n",
              "      height: 32px;\n",
              "      padding: 0 0 0 0;\n",
              "      width: 32px;\n",
              "    }\n",
              "\n",
              "    .colab-df-convert:hover {\n",
              "      background-color: #E2EBFA;\n",
              "      box-shadow: 0px 1px 2px rgba(60, 64, 67, 0.3), 0px 1px 3px 1px rgba(60, 64, 67, 0.15);\n",
              "      fill: #174EA6;\n",
              "    }\n",
              "\n",
              "    [theme=dark] .colab-df-convert {\n",
              "      background-color: #3B4455;\n",
              "      fill: #D2E3FC;\n",
              "    }\n",
              "\n",
              "    [theme=dark] .colab-df-convert:hover {\n",
              "      background-color: #434B5C;\n",
              "      box-shadow: 0px 1px 3px 1px rgba(0, 0, 0, 0.15);\n",
              "      filter: drop-shadow(0px 1px 2px rgba(0, 0, 0, 0.3));\n",
              "      fill: #FFFFFF;\n",
              "    }\n",
              "  </style>\n",
              "\n",
              "      <script>\n",
              "        const buttonEl =\n",
              "          document.querySelector('#df-609b853a-5706-4721-ab7b-fedc41498555 button.colab-df-convert');\n",
              "        buttonEl.style.display =\n",
              "          google.colab.kernel.accessAllowed ? 'block' : 'none';\n",
              "\n",
              "        async function convertToInteractive(key) {\n",
              "          const element = document.querySelector('#df-609b853a-5706-4721-ab7b-fedc41498555');\n",
              "          const dataTable =\n",
              "            await google.colab.kernel.invokeFunction('convertToInteractive',\n",
              "                                                     [key], {});\n",
              "          if (!dataTable) return;\n",
              "\n",
              "          const docLinkHtml = 'Like what you see? Visit the ' +\n",
              "            '<a target=\"_blank\" href=https://colab.research.google.com/notebooks/data_table.ipynb>data table notebook</a>'\n",
              "            + ' to learn more about interactive tables.';\n",
              "          element.innerHTML = '';\n",
              "          dataTable['output_type'] = 'display_data';\n",
              "          await google.colab.output.renderOutput(dataTable, element);\n",
              "          const docLink = document.createElement('div');\n",
              "          docLink.innerHTML = docLinkHtml;\n",
              "          element.appendChild(docLink);\n",
              "        }\n",
              "      </script>\n",
              "    </div>\n",
              "  </div>\n",
              "  "
            ]
          },
          "metadata": {},
          "execution_count": 9
        }
      ]
    },
    {
      "cell_type": "code",
      "source": [
        "X = df.drop(['Rings'], axis = 1)\n",
        "y = df['Rings']"
      ],
      "metadata": {
        "id": "YHHM9D9qU8Pa"
      },
      "execution_count": 10,
      "outputs": []
    },
    {
      "cell_type": "code",
      "source": [
        "X_train,X_test,y_train,y_test= train_test_split(X,y,test_size=0.2,random_state=42)"
      ],
      "metadata": {
        "id": "7M6VO3LlVatC"
      },
      "execution_count": 11,
      "outputs": []
    },
    {
      "cell_type": "code",
      "source": [
        "X_train.shape,X_test.shape"
      ],
      "metadata": {
        "colab": {
          "base_uri": "https://localhost:8080/"
        },
        "id": "C4G1c0XzVdjP",
        "outputId": "8e5a56f5-a0a2-48c0-cce2-cb53204d4ebb"
      },
      "execution_count": 12,
      "outputs": [
        {
          "output_type": "execute_result",
          "data": {
            "text/plain": [
              "((3341, 8), (836, 8))"
            ]
          },
          "metadata": {},
          "execution_count": 12
        }
      ]
    },
    {
      "cell_type": "code",
      "source": [
        "X_train"
      ],
      "metadata": {
        "colab": {
          "base_uri": "https://localhost:8080/",
          "height": 424
        },
        "id": "0hlyVe3LZkV5",
        "outputId": "4d50fad3-69ce-42c7-bf4d-b34e146a8431"
      },
      "execution_count": 13,
      "outputs": [
        {
          "output_type": "execute_result",
          "data": {
            "text/plain": [
              "      Sex  Length  Diameter  Height  Whole weight  Shucked weight  \\\n",
              "4038    3   0.550     0.445   0.125        0.6720          0.2880   \n",
              "1272    3   0.475     0.355   0.100        0.5035          0.2535   \n",
              "3384    2   0.305     0.225   0.070        0.1485          0.0585   \n",
              "3160    3   0.275     0.200   0.065        0.1165          0.0565   \n",
              "3894    1   0.495     0.380   0.135        0.6295          0.2630   \n",
              "...   ...     ...       ...     ...           ...             ...   \n",
              "3444    2   0.490     0.400   0.115        0.5690          0.2560   \n",
              "466     2   0.670     0.550   0.190        1.3905          0.5425   \n",
              "3092    1   0.510     0.395   0.125        0.5805          0.2440   \n",
              "3772    1   0.575     0.465   0.120        1.0535          0.5160   \n",
              "860     2   0.595     0.475   0.160        1.1405          0.5470   \n",
              "\n",
              "      Viscera weight  Shell weight  \n",
              "4038          0.1365         0.210  \n",
              "1272          0.0910         0.140  \n",
              "3384          0.0335         0.045  \n",
              "3160          0.0130         0.035  \n",
              "3894          0.1425         0.215  \n",
              "...              ...           ...  \n",
              "3444          0.1325         0.145  \n",
              "466           0.3035         0.400  \n",
              "3092          0.1335         0.188  \n",
              "3772          0.2185         0.235  \n",
              "860           0.2310         0.271  \n",
              "\n",
              "[3341 rows x 8 columns]"
            ],
            "text/html": [
              "\n",
              "  <div id=\"df-8110eade-4bd7-4c2d-84b1-bc36a57395e4\">\n",
              "    <div class=\"colab-df-container\">\n",
              "      <div>\n",
              "<style scoped>\n",
              "    .dataframe tbody tr th:only-of-type {\n",
              "        vertical-align: middle;\n",
              "    }\n",
              "\n",
              "    .dataframe tbody tr th {\n",
              "        vertical-align: top;\n",
              "    }\n",
              "\n",
              "    .dataframe thead th {\n",
              "        text-align: right;\n",
              "    }\n",
              "</style>\n",
              "<table border=\"1\" class=\"dataframe\">\n",
              "  <thead>\n",
              "    <tr style=\"text-align: right;\">\n",
              "      <th></th>\n",
              "      <th>Sex</th>\n",
              "      <th>Length</th>\n",
              "      <th>Diameter</th>\n",
              "      <th>Height</th>\n",
              "      <th>Whole weight</th>\n",
              "      <th>Shucked weight</th>\n",
              "      <th>Viscera weight</th>\n",
              "      <th>Shell weight</th>\n",
              "    </tr>\n",
              "  </thead>\n",
              "  <tbody>\n",
              "    <tr>\n",
              "      <th>4038</th>\n",
              "      <td>3</td>\n",
              "      <td>0.550</td>\n",
              "      <td>0.445</td>\n",
              "      <td>0.125</td>\n",
              "      <td>0.6720</td>\n",
              "      <td>0.2880</td>\n",
              "      <td>0.1365</td>\n",
              "      <td>0.210</td>\n",
              "    </tr>\n",
              "    <tr>\n",
              "      <th>1272</th>\n",
              "      <td>3</td>\n",
              "      <td>0.475</td>\n",
              "      <td>0.355</td>\n",
              "      <td>0.100</td>\n",
              "      <td>0.5035</td>\n",
              "      <td>0.2535</td>\n",
              "      <td>0.0910</td>\n",
              "      <td>0.140</td>\n",
              "    </tr>\n",
              "    <tr>\n",
              "      <th>3384</th>\n",
              "      <td>2</td>\n",
              "      <td>0.305</td>\n",
              "      <td>0.225</td>\n",
              "      <td>0.070</td>\n",
              "      <td>0.1485</td>\n",
              "      <td>0.0585</td>\n",
              "      <td>0.0335</td>\n",
              "      <td>0.045</td>\n",
              "    </tr>\n",
              "    <tr>\n",
              "      <th>3160</th>\n",
              "      <td>3</td>\n",
              "      <td>0.275</td>\n",
              "      <td>0.200</td>\n",
              "      <td>0.065</td>\n",
              "      <td>0.1165</td>\n",
              "      <td>0.0565</td>\n",
              "      <td>0.0130</td>\n",
              "      <td>0.035</td>\n",
              "    </tr>\n",
              "    <tr>\n",
              "      <th>3894</th>\n",
              "      <td>1</td>\n",
              "      <td>0.495</td>\n",
              "      <td>0.380</td>\n",
              "      <td>0.135</td>\n",
              "      <td>0.6295</td>\n",
              "      <td>0.2630</td>\n",
              "      <td>0.1425</td>\n",
              "      <td>0.215</td>\n",
              "    </tr>\n",
              "    <tr>\n",
              "      <th>...</th>\n",
              "      <td>...</td>\n",
              "      <td>...</td>\n",
              "      <td>...</td>\n",
              "      <td>...</td>\n",
              "      <td>...</td>\n",
              "      <td>...</td>\n",
              "      <td>...</td>\n",
              "      <td>...</td>\n",
              "    </tr>\n",
              "    <tr>\n",
              "      <th>3444</th>\n",
              "      <td>2</td>\n",
              "      <td>0.490</td>\n",
              "      <td>0.400</td>\n",
              "      <td>0.115</td>\n",
              "      <td>0.5690</td>\n",
              "      <td>0.2560</td>\n",
              "      <td>0.1325</td>\n",
              "      <td>0.145</td>\n",
              "    </tr>\n",
              "    <tr>\n",
              "      <th>466</th>\n",
              "      <td>2</td>\n",
              "      <td>0.670</td>\n",
              "      <td>0.550</td>\n",
              "      <td>0.190</td>\n",
              "      <td>1.3905</td>\n",
              "      <td>0.5425</td>\n",
              "      <td>0.3035</td>\n",
              "      <td>0.400</td>\n",
              "    </tr>\n",
              "    <tr>\n",
              "      <th>3092</th>\n",
              "      <td>1</td>\n",
              "      <td>0.510</td>\n",
              "      <td>0.395</td>\n",
              "      <td>0.125</td>\n",
              "      <td>0.5805</td>\n",
              "      <td>0.2440</td>\n",
              "      <td>0.1335</td>\n",
              "      <td>0.188</td>\n",
              "    </tr>\n",
              "    <tr>\n",
              "      <th>3772</th>\n",
              "      <td>1</td>\n",
              "      <td>0.575</td>\n",
              "      <td>0.465</td>\n",
              "      <td>0.120</td>\n",
              "      <td>1.0535</td>\n",
              "      <td>0.5160</td>\n",
              "      <td>0.2185</td>\n",
              "      <td>0.235</td>\n",
              "    </tr>\n",
              "    <tr>\n",
              "      <th>860</th>\n",
              "      <td>2</td>\n",
              "      <td>0.595</td>\n",
              "      <td>0.475</td>\n",
              "      <td>0.160</td>\n",
              "      <td>1.1405</td>\n",
              "      <td>0.5470</td>\n",
              "      <td>0.2310</td>\n",
              "      <td>0.271</td>\n",
              "    </tr>\n",
              "  </tbody>\n",
              "</table>\n",
              "<p>3341 rows × 8 columns</p>\n",
              "</div>\n",
              "      <button class=\"colab-df-convert\" onclick=\"convertToInteractive('df-8110eade-4bd7-4c2d-84b1-bc36a57395e4')\"\n",
              "              title=\"Convert this dataframe to an interactive table.\"\n",
              "              style=\"display:none;\">\n",
              "        \n",
              "  <svg xmlns=\"http://www.w3.org/2000/svg\" height=\"24px\"viewBox=\"0 0 24 24\"\n",
              "       width=\"24px\">\n",
              "    <path d=\"M0 0h24v24H0V0z\" fill=\"none\"/>\n",
              "    <path d=\"M18.56 5.44l.94 2.06.94-2.06 2.06-.94-2.06-.94-.94-2.06-.94 2.06-2.06.94zm-11 1L8.5 8.5l.94-2.06 2.06-.94-2.06-.94L8.5 2.5l-.94 2.06-2.06.94zm10 10l.94 2.06.94-2.06 2.06-.94-2.06-.94-.94-2.06-.94 2.06-2.06.94z\"/><path d=\"M17.41 7.96l-1.37-1.37c-.4-.4-.92-.59-1.43-.59-.52 0-1.04.2-1.43.59L10.3 9.45l-7.72 7.72c-.78.78-.78 2.05 0 2.83L4 21.41c.39.39.9.59 1.41.59.51 0 1.02-.2 1.41-.59l7.78-7.78 2.81-2.81c.8-.78.8-2.07 0-2.86zM5.41 20L4 18.59l7.72-7.72 1.47 1.35L5.41 20z\"/>\n",
              "  </svg>\n",
              "      </button>\n",
              "      \n",
              "  <style>\n",
              "    .colab-df-container {\n",
              "      display:flex;\n",
              "      flex-wrap:wrap;\n",
              "      gap: 12px;\n",
              "    }\n",
              "\n",
              "    .colab-df-convert {\n",
              "      background-color: #E8F0FE;\n",
              "      border: none;\n",
              "      border-radius: 50%;\n",
              "      cursor: pointer;\n",
              "      display: none;\n",
              "      fill: #1967D2;\n",
              "      height: 32px;\n",
              "      padding: 0 0 0 0;\n",
              "      width: 32px;\n",
              "    }\n",
              "\n",
              "    .colab-df-convert:hover {\n",
              "      background-color: #E2EBFA;\n",
              "      box-shadow: 0px 1px 2px rgba(60, 64, 67, 0.3), 0px 1px 3px 1px rgba(60, 64, 67, 0.15);\n",
              "      fill: #174EA6;\n",
              "    }\n",
              "\n",
              "    [theme=dark] .colab-df-convert {\n",
              "      background-color: #3B4455;\n",
              "      fill: #D2E3FC;\n",
              "    }\n",
              "\n",
              "    [theme=dark] .colab-df-convert:hover {\n",
              "      background-color: #434B5C;\n",
              "      box-shadow: 0px 1px 3px 1px rgba(0, 0, 0, 0.15);\n",
              "      filter: drop-shadow(0px 1px 2px rgba(0, 0, 0, 0.3));\n",
              "      fill: #FFFFFF;\n",
              "    }\n",
              "  </style>\n",
              "\n",
              "      <script>\n",
              "        const buttonEl =\n",
              "          document.querySelector('#df-8110eade-4bd7-4c2d-84b1-bc36a57395e4 button.colab-df-convert');\n",
              "        buttonEl.style.display =\n",
              "          google.colab.kernel.accessAllowed ? 'block' : 'none';\n",
              "\n",
              "        async function convertToInteractive(key) {\n",
              "          const element = document.querySelector('#df-8110eade-4bd7-4c2d-84b1-bc36a57395e4');\n",
              "          const dataTable =\n",
              "            await google.colab.kernel.invokeFunction('convertToInteractive',\n",
              "                                                     [key], {});\n",
              "          if (!dataTable) return;\n",
              "\n",
              "          const docLinkHtml = 'Like what you see? Visit the ' +\n",
              "            '<a target=\"_blank\" href=https://colab.research.google.com/notebooks/data_table.ipynb>data table notebook</a>'\n",
              "            + ' to learn more about interactive tables.';\n",
              "          element.innerHTML = '';\n",
              "          dataTable['output_type'] = 'display_data';\n",
              "          await google.colab.output.renderOutput(dataTable, element);\n",
              "          const docLink = document.createElement('div');\n",
              "          docLink.innerHTML = docLinkHtml;\n",
              "          element.appendChild(docLink);\n",
              "        }\n",
              "      </script>\n",
              "    </div>\n",
              "  </div>\n",
              "  "
            ]
          },
          "metadata": {},
          "execution_count": 13
        }
      ]
    },
    {
      "cell_type": "code",
      "source": [
        "# 정규화\n",
        "from sklearn.preprocessing import StandardScaler\n",
        "scaler = StandardScaler()\n",
        "X_train_scaled = scaler.fit_transform(X_train)\n",
        "X_test_scaled = scaler.transform(X_test)"
      ],
      "metadata": {
        "id": "qw909-hGs_Cn"
      },
      "execution_count": 41,
      "outputs": []
    },
    {
      "cell_type": "code",
      "source": [
        "X_train_scaled[0]"
      ],
      "metadata": {
        "colab": {
          "base_uri": "https://localhost:8080/"
        },
        "id": "LmSYXTAftCuD",
        "outputId": "148597cc-4470-47b7-aa24-fcec34c90e3d"
      },
      "execution_count": 32,
      "outputs": [
        {
          "output_type": "execute_result",
          "data": {
            "text/plain": [
              "array([ 1.26075882,  0.21017452,  0.36972535, -0.34795017, -0.32316418,\n",
              "       -0.32540694, -0.40512998, -0.21213236])"
            ]
          },
          "metadata": {},
          "execution_count": 32
        }
      ]
    },
    {
      "cell_type": "code",
      "source": [
        "import tensorflow as tf\n",
        "import keras\n",
        "from tensorflow.keras.models import Sequential\n",
        "from tensorflow.keras.layers import Dense, Flatten, Dropout\n",
        "from tensorflow.keras import regularizers"
      ],
      "metadata": {
        "id": "TuCwJo5XckpU"
      },
      "execution_count": 14,
      "outputs": []
    },
    {
      "cell_type": "code",
      "source": [
        "from keras import models\n",
        "from keras import layers\n",
        "\n",
        "def build_model():\n",
        "  model = keras.Sequential([\n",
        "    layers.Dense(64, activation='relu', input_shape=[len(X_train.keys())]),\n",
        "    layers.Dense(64, activation='relu'),\n",
        "    layers.Dense(1)\n",
        "  ])\n",
        "\n",
        "  optimizer = tf.keras.optimizers.RMSprop(0.001)\n",
        "\n",
        "  model.compile(loss='mse',\n",
        "                optimizer=optimizer,\n",
        "                metrics=['mae', 'mse'])\n",
        "  return model"
      ],
      "metadata": {
        "id": "p-WgFkubrGDj"
      },
      "execution_count": 33,
      "outputs": []
    },
    {
      "cell_type": "code",
      "source": [
        "model = build_model()\n",
        "model.summary()"
      ],
      "metadata": {
        "colab": {
          "base_uri": "https://localhost:8080/"
        },
        "id": "XOSQfMw0tg7D",
        "outputId": "1e4c6c34-36b3-479c-fd1a-85684ccbf056"
      },
      "execution_count": 34,
      "outputs": [
        {
          "output_type": "stream",
          "name": "stdout",
          "text": [
            "Model: \"sequential_1\"\n",
            "_________________________________________________________________\n",
            " Layer (type)                Output Shape              Param #   \n",
            "=================================================================\n",
            " dense_3 (Dense)             (None, 64)                576       \n",
            "                                                                 \n",
            " dense_4 (Dense)             (None, 64)                4160      \n",
            "                                                                 \n",
            " dense_5 (Dense)             (None, 1)                 65        \n",
            "                                                                 \n",
            "=================================================================\n",
            "Total params: 4,801\n",
            "Trainable params: 4,801\n",
            "Non-trainable params: 0\n",
            "_________________________________________________________________\n"
          ]
        }
      ]
    },
    {
      "cell_type": "code",
      "source": [
        "example_batch = X_train_scaled[:10]\n",
        "example_result = model.predict(example_batch)\n",
        "example_result"
      ],
      "metadata": {
        "colab": {
          "base_uri": "https://localhost:8080/"
        },
        "id": "vQCVIgzFtnMF",
        "outputId": "a98c0d7a-3a2b-4a34-f269-b2ad0265977f"
      },
      "execution_count": 37,
      "outputs": [
        {
          "output_type": "stream",
          "name": "stdout",
          "text": [
            "1/1 [==============================] - 0s 71ms/step\n"
          ]
        },
        {
          "output_type": "execute_result",
          "data": {
            "text/plain": [
              "array([[-0.17074896],\n",
              "       [-0.08182038],\n",
              "       [ 0.40308717],\n",
              "       [ 0.4025413 ],\n",
              "       [ 0.05247262],\n",
              "       [-0.10739589],\n",
              "       [ 0.21327458],\n",
              "       [-0.17530006],\n",
              "       [-0.08486304],\n",
              "       [ 0.11653577]], dtype=float32)"
            ]
          },
          "metadata": {},
          "execution_count": 37
        }
      ]
    },
    {
      "cell_type": "code",
      "source": [
        "# 파라미터 저장 경로를 설정하는 코드입니다.\n",
        "\n",
        "checkpoint_filepath = \"FMbest.hdf5\" # .hdf5는 데이터를 저장하는 확장자입니다. 'FMbest.hdf5' 파일로 최고 성능의 모델을 저장하며 .h5와 동일한 확장자입니다.\n",
        "\n",
        "# moitor : 개선을 확인할 지표\n",
        "# min_delta : 개선이 있다고 판단되는 최소 변경값. min_delta보다 변경 사항이 작다면 개선이 없다고 판단(default=0)\n",
        "# patience : 개선이 없을 경우 개선되기까지 기다리는 epochs의 수\n",
        "early_stop = keras.callbacks.EarlyStopping(monitor='val_loss', min_delta=0, patience=10, verbose=1)"
      ],
      "metadata": {
        "id": "FDjl9352c-Ia"
      },
      "execution_count": 38,
      "outputs": []
    },
    {
      "cell_type": "code",
      "source": [
        "# ModelCheckpoint를 통해 모델을 저장합니다.\n",
        "\n",
        "# filepath : 파일이 저장될 경로. 앞서 설정한 것처럼 'FMbest.hdf5'에 저장됩니다.\n",
        "# save_best_only : 최고 성능을 보이는 경우만 저장합니다. False일 경우 filepath에 모든 학습 과정이 저장됩니다.\n",
        "# save_weights_only : 모델의 가중치만 저장합니다. False일 경우 레이어까지 모두 저장합니다.\n",
        "# mode : 검증 지표가 val_acc일 경우 정확도이기 때문에 높을 수록 좋기 때문에 'max'로 설정, val_loss일 경우 낮을 수록 좋기 때문에 'min'으로 설정, 'auto'의 경우 자동으로 탐지하여 진행함.\n",
        "# save_freq : 매 에폭마다 저장을 시도합니다. integer로 설정할 경우 설정한 수만큼의 iteration마다 모델을 저장합니다.\n",
        "save_best = tf.keras.callbacks.ModelCheckpoint(\n",
        "    filepath=checkpoint_filepath, monitor='val_loss', verbose=1, save_best_only=True,\n",
        "    save_weights_only=True, mode='auto', save_freq='epoch', options=None)"
      ],
      "metadata": {
        "id": "9RFRjVa9dKx7"
      },
      "execution_count": 39,
      "outputs": []
    },
    {
      "cell_type": "code",
      "source": [
        "model.fit(X_train_scaled, y_train, batch_size=10, epochs=100, verbose=1, \n",
        "          validation_data=(X_test_scaled,y_test), # 검증 데이터\n",
        "          callbacks=[early_stop, save_best]) # 앞서 선언한 Early Stopping과 Model Checkpoint를 callbacks를 통해 설정합니다."
      ],
      "metadata": {
        "colab": {
          "base_uri": "https://localhost:8080/"
        },
        "id": "dqVRe_K4r9YA",
        "outputId": "04f2218e-5d63-4b1a-a48d-e815a999cc8f"
      },
      "execution_count": 42,
      "outputs": [
        {
          "output_type": "stream",
          "name": "stdout",
          "text": [
            "Epoch 1/100\n",
            "335/335 [==============================] - ETA: 0s - loss: 20.7170 - mae: 3.2277 - mse: 20.7170\n",
            "Epoch 1: val_loss improved from inf to 5.88671, saving model to FMbest.hdf5\n",
            "335/335 [==============================] - 2s 5ms/step - loss: 20.7170 - mae: 3.2277 - mse: 20.7170 - val_loss: 5.8867 - val_mae: 1.7428 - val_mse: 5.8867\n",
            "Epoch 2/100\n",
            "330/335 [============================>.] - ETA: 0s - loss: 6.9135 - mae: 1.6668 - mse: 6.9135\n",
            "Epoch 2: val_loss improved from 5.88671 to 5.21254, saving model to FMbest.hdf5\n",
            "335/335 [==============================] - 1s 4ms/step - loss: 6.8990 - mae: 1.6668 - mse: 6.8990 - val_loss: 5.2125 - val_mae: 1.6797 - val_mse: 5.2125\n",
            "Epoch 3/100\n",
            "323/335 [===========================>..] - ETA: 0s - loss: 4.9457 - mae: 1.5858 - mse: 4.9457\n",
            "Epoch 3: val_loss did not improve from 5.21254\n",
            "335/335 [==============================] - 1s 3ms/step - loss: 5.7829 - mae: 1.5890 - mse: 5.7829 - val_loss: 5.3768 - val_mae: 1.5811 - val_mse: 5.3768\n",
            "Epoch 4/100\n",
            "329/335 [============================>.] - ETA: 0s - loss: 5.4939 - mae: 1.5604 - mse: 5.4939\n",
            "Epoch 4: val_loss improved from 5.21254 to 4.72984, saving model to FMbest.hdf5\n",
            "335/335 [==============================] - 1s 3ms/step - loss: 5.4768 - mae: 1.5575 - mse: 5.4768 - val_loss: 4.7298 - val_mae: 1.5683 - val_mse: 4.7298\n",
            "Epoch 5/100\n",
            "328/335 [============================>.] - ETA: 0s - loss: 5.5254 - mae: 1.5554 - mse: 5.5254\n",
            "Epoch 5: val_loss did not improve from 4.72984\n",
            "335/335 [==============================] - 1s 3ms/step - loss: 5.4831 - mae: 1.5516 - mse: 5.4831 - val_loss: 4.7406 - val_mae: 1.5254 - val_mse: 4.7406\n",
            "Epoch 6/100\n",
            "320/335 [===========================>..] - ETA: 0s - loss: 5.1943 - mae: 1.5449 - mse: 5.1943\n",
            "Epoch 6: val_loss did not improve from 4.72984\n",
            "335/335 [==============================] - 1s 3ms/step - loss: 5.1254 - mae: 1.5335 - mse: 5.1254 - val_loss: 4.8547 - val_mae: 1.5455 - val_mse: 4.8547\n",
            "Epoch 7/100\n",
            "319/335 [===========================>..] - ETA: 0s - loss: 5.2037 - mae: 1.5337 - mse: 5.2037\n",
            "Epoch 7: val_loss did not improve from 4.72984\n",
            "335/335 [==============================] - 1s 3ms/step - loss: 5.1531 - mae: 1.5291 - mse: 5.1531 - val_loss: 5.2909 - val_mae: 1.7722 - val_mse: 5.2909\n",
            "Epoch 8/100\n",
            "328/335 [============================>.] - ETA: 0s - loss: 4.9796 - mae: 1.5242 - mse: 4.9796\n",
            "Epoch 8: val_loss did not improve from 4.72984\n",
            "335/335 [==============================] - 1s 3ms/step - loss: 4.9602 - mae: 1.5240 - mse: 4.9602 - val_loss: 4.8917 - val_mae: 1.5084 - val_mse: 4.8917\n",
            "Epoch 9/100\n",
            "314/335 [===========================>..] - ETA: 0s - loss: 4.9501 - mae: 1.5154 - mse: 4.9501\n",
            "Epoch 9: val_loss did not improve from 4.72984\n",
            "335/335 [==============================] - 1s 3ms/step - loss: 4.9022 - mae: 1.5150 - mse: 4.9022 - val_loss: 4.9365 - val_mae: 1.6834 - val_mse: 4.9365\n",
            "Epoch 10/100\n",
            "323/335 [===========================>..] - ETA: 0s - loss: 4.7694 - mae: 1.5157 - mse: 4.7694\n",
            "Epoch 10: val_loss did not improve from 4.72984\n",
            "335/335 [==============================] - 1s 3ms/step - loss: 4.7646 - mae: 1.5170 - mse: 4.7646 - val_loss: 5.2452 - val_mae: 1.7497 - val_mse: 5.2452\n",
            "Epoch 11/100\n",
            "325/335 [============================>.] - ETA: 0s - loss: 4.7541 - mae: 1.5289 - mse: 4.7541\n",
            "Epoch 11: val_loss improved from 4.72984 to 4.51706, saving model to FMbest.hdf5\n",
            "335/335 [==============================] - 1s 3ms/step - loss: 4.7229 - mae: 1.5231 - mse: 4.7229 - val_loss: 4.5171 - val_mae: 1.4903 - val_mse: 4.5171\n",
            "Epoch 12/100\n",
            "331/335 [============================>.] - ETA: 0s - loss: 4.7314 - mae: 1.5097 - mse: 4.7314\n",
            "Epoch 12: val_loss did not improve from 4.51706\n",
            "335/335 [==============================] - 1s 3ms/step - loss: 4.7226 - mae: 1.5094 - mse: 4.7226 - val_loss: 4.7335 - val_mae: 1.6244 - val_mse: 4.7335\n",
            "Epoch 13/100\n",
            "326/335 [============================>.] - ETA: 0s - loss: 4.5256 - mae: 1.4951 - mse: 4.5256\n",
            "Epoch 13: val_loss did not improve from 4.51706\n",
            "335/335 [==============================] - 2s 5ms/step - loss: 4.5349 - mae: 1.4955 - mse: 4.5349 - val_loss: 4.8005 - val_mae: 1.5218 - val_mse: 4.8005\n",
            "Epoch 14/100\n",
            "320/335 [===========================>..] - ETA: 0s - loss: 4.5100 - mae: 1.5077 - mse: 4.5100\n",
            "Epoch 14: val_loss did not improve from 4.51706\n",
            "335/335 [==============================] - 1s 3ms/step - loss: 4.4673 - mae: 1.4997 - mse: 4.4673 - val_loss: 5.1672 - val_mae: 1.5540 - val_mse: 5.1672\n",
            "Epoch 15/100\n",
            "329/335 [============================>.] - ETA: 0s - loss: 4.4700 - mae: 1.5043 - mse: 4.4700\n",
            "Epoch 15: val_loss improved from 4.51706 to 4.49117, saving model to FMbest.hdf5\n",
            "335/335 [==============================] - 1s 3ms/step - loss: 4.4674 - mae: 1.5047 - mse: 4.4674 - val_loss: 4.4912 - val_mae: 1.4973 - val_mse: 4.4912\n",
            "Epoch 16/100\n",
            "333/335 [============================>.] - ETA: 0s - loss: 4.3889 - mae: 1.4971 - mse: 4.3889\n",
            "Epoch 16: val_loss did not improve from 4.49117\n",
            "335/335 [==============================] - 1s 3ms/step - loss: 4.3909 - mae: 1.4976 - mse: 4.3909 - val_loss: 4.7800 - val_mae: 1.5692 - val_mse: 4.7800\n",
            "Epoch 17/100\n",
            "328/335 [============================>.] - ETA: 0s - loss: 4.3605 - mae: 1.4872 - mse: 4.3605\n",
            "Epoch 17: val_loss did not improve from 4.49117\n",
            "335/335 [==============================] - 1s 3ms/step - loss: 4.4079 - mae: 1.4946 - mse: 4.4079 - val_loss: 4.8125 - val_mae: 1.6539 - val_mse: 4.8125\n",
            "Epoch 18/100\n",
            "316/335 [===========================>..] - ETA: 0s - loss: 4.3205 - mae: 1.4907 - mse: 4.3205\n",
            "Epoch 18: val_loss improved from 4.49117 to 4.49098, saving model to FMbest.hdf5\n",
            "335/335 [==============================] - 1s 3ms/step - loss: 4.3303 - mae: 1.4898 - mse: 4.3303 - val_loss: 4.4910 - val_mae: 1.5314 - val_mse: 4.4910\n",
            "Epoch 19/100\n",
            "315/335 [===========================>..] - ETA: 0s - loss: 4.3302 - mae: 1.4957 - mse: 4.3302\n",
            "Epoch 19: val_loss did not improve from 4.49098\n",
            "335/335 [==============================] - 1s 3ms/step - loss: 4.3218 - mae: 1.4918 - mse: 4.3218 - val_loss: 4.7703 - val_mae: 1.5644 - val_mse: 4.7703\n",
            "Epoch 20/100\n",
            "312/335 [==========================>...] - ETA: 0s - loss: 4.2563 - mae: 1.4826 - mse: 4.2563\n",
            "Epoch 20: val_loss did not improve from 4.49098\n",
            "335/335 [==============================] - 1s 3ms/step - loss: 4.3333 - mae: 1.4898 - mse: 4.3333 - val_loss: 4.7732 - val_mae: 1.6096 - val_mse: 4.7732\n",
            "Epoch 21/100\n",
            "324/335 [============================>.] - ETA: 0s - loss: 4.3028 - mae: 1.4798 - mse: 4.3028\n",
            "Epoch 21: val_loss did not improve from 4.49098\n",
            "335/335 [==============================] - 1s 3ms/step - loss: 4.3208 - mae: 1.4796 - mse: 4.3208 - val_loss: 4.9019 - val_mae: 1.5159 - val_mse: 4.9019\n",
            "Epoch 22/100\n",
            "312/335 [==========================>...] - ETA: 0s - loss: 4.3070 - mae: 1.4931 - mse: 4.3070\n",
            "Epoch 22: val_loss did not improve from 4.49098\n",
            "335/335 [==============================] - 1s 3ms/step - loss: 4.2670 - mae: 1.4894 - mse: 4.2670 - val_loss: 4.6450 - val_mae: 1.4902 - val_mse: 4.6450\n",
            "Epoch 23/100\n",
            "317/335 [===========================>..] - ETA: 0s - loss: 4.2149 - mae: 1.4803 - mse: 4.2149\n",
            "Epoch 23: val_loss did not improve from 4.49098\n",
            "335/335 [==============================] - 1s 3ms/step - loss: 4.2916 - mae: 1.4889 - mse: 4.2916 - val_loss: 5.4643 - val_mae: 1.7954 - val_mse: 5.4643\n",
            "Epoch 24/100\n",
            "330/335 [============================>.] - ETA: 0s - loss: 4.3339 - mae: 1.4969 - mse: 4.3339\n",
            "Epoch 24: val_loss did not improve from 4.49098\n",
            "335/335 [==============================] - 1s 4ms/step - loss: 4.3070 - mae: 1.4921 - mse: 4.3070 - val_loss: 4.6239 - val_mae: 1.5835 - val_mse: 4.6239\n",
            "Epoch 25/100\n",
            "334/335 [============================>.] - ETA: 0s - loss: 4.2978 - mae: 1.4875 - mse: 4.2978\n",
            "Epoch 25: val_loss did not improve from 4.49098\n",
            "335/335 [==============================] - 1s 4ms/step - loss: 4.2974 - mae: 1.4876 - mse: 4.2974 - val_loss: 4.5809 - val_mae: 1.5302 - val_mse: 4.5809\n",
            "Epoch 26/100\n",
            "319/335 [===========================>..] - ETA: 0s - loss: 4.2860 - mae: 1.4821 - mse: 4.2860\n",
            "Epoch 26: val_loss did not improve from 4.49098\n",
            "335/335 [==============================] - 1s 3ms/step - loss: 4.2824 - mae: 1.4837 - mse: 4.2824 - val_loss: 4.5040 - val_mae: 1.4830 - val_mse: 4.5040\n",
            "Epoch 27/100\n",
            "332/335 [============================>.] - ETA: 0s - loss: 4.2736 - mae: 1.4748 - mse: 4.2736\n",
            "Epoch 27: val_loss did not improve from 4.49098\n",
            "335/335 [==============================] - 1s 3ms/step - loss: 4.2546 - mae: 1.4714 - mse: 4.2546 - val_loss: 4.5430 - val_mae: 1.4907 - val_mse: 4.5430\n",
            "Epoch 28/100\n",
            "329/335 [============================>.] - ETA: 0s - loss: 4.2656 - mae: 1.4830 - mse: 4.2656\n",
            "Epoch 28: val_loss did not improve from 4.49098\n",
            "335/335 [==============================] - 1s 3ms/step - loss: 4.2482 - mae: 1.4821 - mse: 4.2482 - val_loss: 4.5018 - val_mae: 1.4951 - val_mse: 4.5018\n",
            "Epoch 28: early stopping\n"
          ]
        },
        {
          "output_type": "execute_result",
          "data": {
            "text/plain": [
              "<keras.callbacks.History at 0x7fb477e16080>"
            ]
          },
          "metadata": {},
          "execution_count": 42
        }
      ]
    },
    {
      "cell_type": "code",
      "source": [
        "model.predict(X_test[0:1]) # 테스트 실행"
      ],
      "metadata": {
        "colab": {
          "base_uri": "https://localhost:8080/"
        },
        "id": "iIS_JfbkoGdx",
        "outputId": "ca8829ce-2acc-4f0d-eb91-ad49b8ccda0f"
      },
      "execution_count": 43,
      "outputs": [
        {
          "output_type": "stream",
          "name": "stdout",
          "text": [
            "1/1 [==============================] - 0s 67ms/step\n"
          ]
        },
        {
          "output_type": "execute_result",
          "data": {
            "text/plain": [
              "array([[14.1503315]], dtype=float32)"
            ]
          },
          "metadata": {},
          "execution_count": 43
        }
      ]
    },
    {
      "cell_type": "code",
      "source": [
        "test_loss, test_acc = model.evaluate(X_test_scaled,  y_test, verbose=1) # 테스트 지표 확인"
      ],
      "metadata": {
        "colab": {
          "base_uri": "https://localhost:8080/",
          "height": 184
        },
        "id": "3-3DlFQcoGZj",
        "outputId": "e0e18c95-3de6-4f2d-81cf-624a7120cd19"
      },
      "execution_count": 44,
      "outputs": [
        {
          "output_type": "stream",
          "name": "stdout",
          "text": [
            "27/27 [==============================] - 0s 2ms/step - loss: 4.5018 - mae: 1.4951 - mse: 4.5018\n"
          ]
        },
        {
          "output_type": "error",
          "ename": "ValueError",
          "evalue": "ignored",
          "traceback": [
            "\u001b[0;31m---------------------------------------------------------------------------\u001b[0m",
            "\u001b[0;31mValueError\u001b[0m                                Traceback (most recent call last)",
            "\u001b[0;32m<ipython-input-44-4a706f8645ec>\u001b[0m in \u001b[0;36m<cell line: 1>\u001b[0;34m()\u001b[0m\n\u001b[0;32m----> 1\u001b[0;31m \u001b[0mtest_loss\u001b[0m\u001b[0;34m,\u001b[0m \u001b[0mtest_acc\u001b[0m \u001b[0;34m=\u001b[0m \u001b[0mmodel\u001b[0m\u001b[0;34m.\u001b[0m\u001b[0mevaluate\u001b[0m\u001b[0;34m(\u001b[0m\u001b[0mX_test_scaled\u001b[0m\u001b[0;34m,\u001b[0m  \u001b[0my_test\u001b[0m\u001b[0;34m,\u001b[0m \u001b[0mverbose\u001b[0m\u001b[0;34m=\u001b[0m\u001b[0;36m1\u001b[0m\u001b[0;34m)\u001b[0m \u001b[0;31m# 테스트 지표 확인\u001b[0m\u001b[0;34m\u001b[0m\u001b[0;34m\u001b[0m\u001b[0m\n\u001b[0m",
            "\u001b[0;31mValueError\u001b[0m: too many values to unpack (expected 2)"
          ]
        }
      ]
    },
    {
      "cell_type": "code",
      "source": [],
      "metadata": {
        "id": "Zzah8pYBof4E"
      },
      "execution_count": null,
      "outputs": []
    }
  ]
}