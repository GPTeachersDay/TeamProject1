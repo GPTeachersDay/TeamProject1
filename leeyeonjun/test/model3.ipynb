{
 "cells": [
  {
   "cell_type": "code",
   "execution_count": 30,
   "metadata": {},
   "outputs": [
    {
     "name": "stdout",
     "output_type": "stream",
     "text": [
      "✅ 인스턴스 생성1\n"
     ]
    }
   ],
   "source": [
    "# import os\n",
    "# print(f\"✅ 현재 위치 : {os.getcwd()}\")\n",
    "\n",
    "# 클래스 코드 수정시 캐시된 파이선파일 재설정\n",
    "import model3\n",
    "import imp\n",
    "imp.reload(model3)\n",
    "\n",
    "import numpy as np\n",
    "import sklearn\n",
    "import tensorflow as tf\n",
    "\n",
    "# 클래스 불러오기\n",
    "import model3\n",
    "from model3 import *\n",
    "\n",
    "# 각종 변수 지정\n",
    "csv_path = 'D:/coding/aib/GPTeachersDay/TeamProject1/leeyeonjun/data/mulit_classification_data.csv'\n",
    "model_path = 'D:/coding/aib/GPTeachersDay/TeamProject1/leeyeonjun/test/model3.h5'\n",
    "\n",
    "# 인스턴스 생성\n",
    "steel = Model_3(csv_path, model_path, 0.8)"
   ]
  },
  {
   "cell_type": "code",
   "execution_count": 31,
   "metadata": {},
   "outputs": [
    {
     "name": "stdout",
     "output_type": "stream",
     "text": [
      "13/13 [==============================] - 0s 9ms/step - loss: 0.9645 - accuracy: 0.8067\n",
      "Loss: 0.964 / Accuracy:0.807\n"
     ]
    }
   ],
   "source": [
    "# 저장된 가중치 불러와서 테스트데이터 평가\n",
    "results = steel.model.evaluate(steel.X_test_scaled, steel.y_test)\n",
    "\n",
    "print(f'Loss: {results[0]:.3f} / Accuracy:{results[1]:.3f}')"
   ]
  },
  {
   "cell_type": "code",
   "execution_count": 32,
   "metadata": {},
   "outputs": [
    {
     "name": "stdout",
     "output_type": "stream",
     "text": [
      "[[ 8.87927273e+02  8.99163636e+02  2.31830405e+06  2.31836076e+06\n",
      "   1.02000000e+02  1.32618182e+02  1.41463636e+03  8.44545455e+01\n",
      "   5.13347273e-01  4.04147273e-01  2.30592727e-01  7.78181818e-03\n",
      "   3.53330909e-01  9.46320000e-01  2.33376182e+00  9.95763636e-01\n",
      "   5.95341818e-01 -9.18563636e-02  1.63636364e-01  5.37369774e+00]]\n",
      "WARNING:tensorflow:5 out of the last 10 calls to <function Model.make_predict_function.<locals>.predict_function at 0x000001DF89F33130> triggered tf.function retracing. Tracing is expensive and the excessive number of tracings could be due to (1) creating @tf.function repeatedly in a loop, (2) passing tensors with different shapes, (3) passing Python objects instead of tensors. For (1), please define your @tf.function outside of the loop. For (2), @tf.function has reduce_retracing=True option that can avoid unnecessary retracing. For (3), please refer to https://www.tensorflow.org/guide/function#controlling_retracing and https://www.tensorflow.org/api_docs/python/tf/function for  more details.\n"
     ]
    },
    {
     "data": {
      "text/plain": [
       "array([[0., 0., 0., 1., 0., 0., 0.]], dtype=float32)"
      ]
     },
     "execution_count": 32,
     "metadata": {},
     "output_type": "execute_result"
    }
   ],
   "source": [
    "filt = steel.X[steel.df['Fault'] == 1]\n",
    "test_input = list(filt.describe().loc[['mean']].values[0])\n",
    "test_input = np.array([test_input])\n",
    "print(test_input)\n",
    "steel.model.predict(test_input, verbose=0)"
   ]
  },
  {
   "cell_type": "code",
   "execution_count": 33,
   "metadata": {},
   "outputs": [
    {
     "name": "stdout",
     "output_type": "stream",
     "text": [
      "✅ request : [887.9272727272727, 899.1636363636363, 2318304.0545454547, 2318360.7636363637, 102.0, 132.61818181818182, 1414.6363636363637, 84.45454545454545, 0.5133472727272729, 0.40414727272727274, 0.2305927272727273, 0.007781818181818182, 0.3533309090909091, 0.94632, 2.3337618181818183, 0.9957636363636365, 0.5953418181818182, -0.09185636363636361, 0.16363636363636364, 5.373697738350175]\n",
      "결과 : Dirtiness\n"
     ]
    },
    {
     "name": "stderr",
     "output_type": "stream",
     "text": [
      "c:\\Users\\leeyeonjun85\\.conda\\envs\\p310_1\\lib\\site-packages\\sklearn\\base.py:439: UserWarning: X does not have valid feature names, but MinMaxScaler was fitted with feature names\n",
      "  warnings.warn(\n"
     ]
    }
   ],
   "source": [
    "# filt = steel.X[steel.df['target_class'] == 0]\n",
    "filt = steel.X[steel.df['Fault'] == 1]\n",
    "test_input = list(filt.describe().loc[['mean']].values[0])\n",
    "# print(f'테스트 인풋값 : {np.round(test_input, 3)}')\n",
    "\n",
    "y_RESULT, template = steel.input_predict(test_input)\n",
    "print(f'결과 : {y_RESULT}')"
   ]
  }
 ],
 "metadata": {
  "kernelspec": {
   "display_name": "p310_1",
   "language": "python",
   "name": "python3"
  },
  "language_info": {
   "codemirror_mode": {
    "name": "ipython",
    "version": 3
   },
   "file_extension": ".py",
   "mimetype": "text/x-python",
   "name": "python",
   "nbconvert_exporter": "python",
   "pygments_lexer": "ipython3",
   "version": "3.10.11"
  },
  "orig_nbformat": 4
 },
 "nbformat": 4,
 "nbformat_minor": 2
}
