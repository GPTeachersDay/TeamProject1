{
 "cells": [
  {
   "cell_type": "code",
   "execution_count": 99,
   "metadata": {},
   "outputs": [
    {
     "name": "stdout",
     "output_type": "stream",
     "text": [
      "✅ 인스턴스 생성1\n"
     ]
    }
   ],
   "source": [
    "# import os\n",
    "# print(f\"✅ 현재 위치 : {os.getcwd()}\")\n",
    "\n",
    "# 클래스 코드 수정시 캐시된 파이선파일 재설정\n",
    "import model3\n",
    "import imp\n",
    "imp.reload(model3)\n",
    "\n",
    "import numpy as np\n",
    "import sklearn\n",
    "import tensorflow as tf\n",
    "\n",
    "# 클래스 불러오기\n",
    "import model3\n",
    "from model3 import *\n",
    "\n",
    "# 각종 변수 지정\n",
    "csv_path = 'D:/coding/aib/GPTeachersDay/TeamProject1/leeyeonjun/data/mulit_classification_data.csv'\n",
    "model_path = 'D:/coding/aib/GPTeachersDay/TeamProject1/leeyeonjun/test/model3.h5'\n",
    "\n",
    "# 인스턴스 생성\n",
    "steel = Model_3(csv_path, model_path, 0.8)"
   ]
  },
  {
   "cell_type": "code",
   "execution_count": 100,
   "metadata": {},
   "outputs": [],
   "source": [
    "# # 저장된 가중치 불러와서 테스트데이터 평가\n",
    "# results = steel.model.evaluate(steel.X_test_scaled, steel.y_test)\n",
    "\n",
    "# print(f'Loss: {results[0]:.3f} / Accuracy:{results[1]:.3f}')"
   ]
  },
  {
   "cell_type": "code",
   "execution_count": 101,
   "metadata": {},
   "outputs": [
    {
     "name": "stdout",
     "output_type": "stream",
     "text": [
      "✅ request : [0.0873655053157423, 0.1652636242800177, 0.1163233957063018, 0.1163280276536132, 0.3322531715388858, 0.47728978978978975, 0.26054626054626073, 0.0005197505197505198, 0.15120551620752587, 0.4838012675748524, 0.5928740117055138, 0.11390358794292921, 0.5656983546881996, 0.5016106001236114, 0.7682250226646221, 0.6019436731455773, 0.34504932928379634, 0.5851412521537003, 0.0, 0.7682263858605325]\n",
      "\n",
      "        <div class=\"container text-center border border-3 rounded\">\n",
      "            <h5 class=\"p-2 mb-1\">\n",
      "                😃 강판에는<br>\n",
      "                99.26% 확률로 'K_Scatch' 결합<br>\n",
      "                0.71% 확률로 'Other_Faults' 결합<br>\n",
      "                들이~ 있습니다. 🔎\n",
      "            </h5>\n",
      "        </div>\n",
      "        \n"
     ]
    },
    {
     "name": "stderr",
     "output_type": "stream",
     "text": [
      "C:\\Users\\leeyeonjun85\\AppData\\Local\\Temp\\ipykernel_46688\\3670244537.py:2: UserWarning: Boolean Series key will be reindexed to match DataFrame index.\n",
      "  filt = steel.X_test_scaled[steel.df['Fault'] == 2]\n"
     ]
    }
   ],
   "source": [
    "# filt = steel.X_test_scaled[steel.df['target_class'] == 0]\n",
    "filt = steel.X_test_scaled[steel.df['Fault'] == 2]\n",
    "test_input = list(filt.describe().loc[['mean']].values[0])\n",
    "# print(f'테스트 인풋값 : {np.round(test_input, 3)}')\n",
    "\n",
    "template = steel.input_predict(test_input)\n",
    "print(template)"
   ]
  }
 ],
 "metadata": {
  "kernelspec": {
   "display_name": "p310_1",
   "language": "python",
   "name": "python3"
  },
  "language_info": {
   "codemirror_mode": {
    "name": "ipython",
    "version": 3
   },
   "file_extension": ".py",
   "mimetype": "text/x-python",
   "name": "python",
   "nbconvert_exporter": "python",
   "pygments_lexer": "ipython3",
   "version": "3.10.11"
  },
  "orig_nbformat": 4
 },
 "nbformat": 4,
 "nbformat_minor": 2
}
