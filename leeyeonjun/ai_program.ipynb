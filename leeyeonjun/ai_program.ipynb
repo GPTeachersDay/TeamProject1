{
 "cells": [
  {
   "cell_type": "code",
   "execution_count": 6,
   "metadata": {},
   "outputs": [
    {
     "name": "stdout",
     "output_type": "stream",
     "text": [
      "✅ 현재 위치 : d:\\coding\\aib\\teamproject_1\\leeyeonjun\n",
      "[안내] 은닉 계층 2개를 갖는 다층 퍼셉트론이 적용됩니다.\n",
      "Epoch 1   : Train - Loss = 10.342, Accuracy = 0.763 / Test - Accuracy = 0.711\n",
      "Epoch 2   : Train - Loss = 7.159, Accuracy = 0.802 / Test - Accuracy = 0.839\n",
      "Epoch 3   : Train - Loss = 6.623, Accuracy = 0.810 / Test - Accuracy = 0.803\n",
      "Epoch 4   : Train - Loss = 6.213, Accuracy = 0.814 / Test - Accuracy = 0.764\n",
      "Epoch 5   : Train - Loss = 6.081, Accuracy = 0.818 / Test - Accuracy = 0.823\n",
      "Epoch 6   : Train - Loss = 5.914, Accuracy = 0.818 / Test - Accuracy = 0.841\n",
      "Epoch 7   : Train - Loss = 5.687, Accuracy = 0.822 / Test - Accuracy = 0.843\n",
      "Epoch 8   : Train - Loss = 5.841, Accuracy = 0.820 / Test - Accuracy = 0.842\n",
      "Epoch 9   : Train - Loss = 5.679, Accuracy = 0.821 / Test - Accuracy = 0.826\n",
      "Epoch 10   : Train - Loss = 5.783, Accuracy = 0.823 / Test - Accuracy = 0.840\n",
      "==============================  Final TEST  ==============================\n",
      "\n",
      "Final Accuracy = 0.840\n"
     ]
    }
   ],
   "source": [
    "# 회귀 모델 동작\n",
    "\n",
    "# 회귀문제 단층 퍼셉트론 모델 불러오기 \n",
    "%run ./AnnModel1.ipynb\n",
    "# 다층 퍼셉트론 기능 추가 \n",
    "%run ./mlp.ipynb\n",
    "\n",
    "# 아무 값도 입력하지 않으면 은닉계층을 갖지 않는 SLP 이 구축됩니다.\n",
    "set_hidden([1,2])\n",
    "# 메서드 동작\n",
    "main()"
   ]
  },
  {
   "cell_type": "code",
   "execution_count": 7,
   "metadata": {},
   "outputs": [
    {
     "name": "stdout",
     "output_type": "stream",
     "text": [
      "✅ 현재 위치 : d:\\coding\\aib\\teamproject_1\\leeyeonjun\n",
      "[안내] 은닉 계층 2개를 갖는 다층 퍼셉트론이 적용됩니다.\n",
      "Epoch 1   : Train - Loss = 0.669, Accuracy = 0.907 / Test - Accuracy = 0.910\n",
      "Epoch 2   : Train - Loss = 0.314, Accuracy = 0.908 / Test - Accuracy = 0.910\n",
      "Epoch 3   : Train - Loss = 0.309, Accuracy = 0.908 / Test - Accuracy = 0.910\n",
      "Epoch 4   : Train - Loss = 0.308, Accuracy = 0.908 / Test - Accuracy = 0.910\n",
      "Epoch 5   : Train - Loss = 0.308, Accuracy = 0.908 / Test - Accuracy = 0.910\n",
      "Epoch 6   : Train - Loss = 0.308, Accuracy = 0.908 / Test - Accuracy = 0.910\n",
      "Epoch 7   : Train - Loss = 0.308, Accuracy = 0.908 / Test - Accuracy = 0.910\n",
      "Epoch 8   : Train - Loss = 0.308, Accuracy = 0.908 / Test - Accuracy = 0.910\n",
      "Epoch 9   : Train - Loss = 0.308, Accuracy = 0.908 / Test - Accuracy = 0.910\n",
      "Epoch 10   : Train - Loss = 0.308, Accuracy = 0.908 / Test - Accuracy = 0.910\n",
      "==============================  Final TEST  ==============================\n",
      "\n",
      "Final Accuracy = 0.910\n"
     ]
    }
   ],
   "source": [
    "# 이진판단 모델동작\n",
    "\n",
    "# 회귀문제 단층 퍼셉트론 모델 불러오기 \n",
    "%run ./AnnModel2.ipynb\n",
    "# 다층 퍼셉트론 기능 추가 \n",
    "%run ./mlp.ipynb\n",
    "\n",
    "# 아무 값도 입력하지 않으면 은닉계층을 갖지 않는 SLP 이 구축됩니다.\n",
    "set_hidden([1,2])\n",
    "# 메서드 동작\n",
    "binary_main()"
   ]
  },
  {
   "cell_type": "code",
   "execution_count": 8,
   "metadata": {},
   "outputs": [
    {
     "name": "stdout",
     "output_type": "stream",
     "text": [
      "✅ 현재 위치 : d:\\coding\\aib\\teamproject_1\\leeyeonjun\n",
      "[안내] 은닉 계층 2개를 갖는 다층 퍼셉트론이 적용됩니다.\n",
      "[Epoch 1] Train Loss = 0.689 | Test Acc = 0.594, Precision = 0.929, Recall = 0.199, F1 = 0.328\n",
      "[Epoch 2] Train Loss = 0.645 | Test Acc = 0.652, Precision = 0.925, Recall = 0.327, F1 = 0.484\n",
      "[Epoch 3] Train Loss = 0.611 | Test Acc = 0.709, Precision = 0.920, Recall = 0.455, F1 = 0.609\n",
      "[Epoch 4] Train Loss = 0.549 | Test Acc = 0.867, Precision = 0.891, Recall = 0.835, F1 = 0.862\n",
      "[Epoch 5] Train Loss = 0.485 | Test Acc = 0.693, Precision = 0.920, Recall = 0.418, F1 = 0.575\n",
      "[Epoch 6] Train Loss = 0.419 | Test Acc = 0.892, Precision = 0.916, Recall = 0.863, F1 = 0.888\n",
      "[Epoch 7] Train Loss = 0.301 | Test Acc = 0.910, Precision = 0.952, Recall = 0.863, F1 = 0.905\n",
      "[Epoch 8] Train Loss = 0.255 | Test Acc = 0.910, Precision = 0.963, Recall = 0.852, F1 = 0.904\n",
      "[Epoch 9] Train Loss = 0.248 | Test Acc = 0.915, Precision = 0.947, Recall = 0.878, F1 = 0.912\n",
      "[Epoch 10] Train Loss = 0.245 | Test Acc = 0.915, Precision = 0.955, Recall = 0.869, F1 = 0.910\n",
      "\n",
      " ========================================  FINAL TEST REPORT ======================================== \n",
      "\n",
      "► Acc = 0.915 Precision = 0.955, Recall = 0.869, F1 = 0.910\n"
     ]
    }
   ],
   "source": [
    "# 이진판단 모델동작, 평가지표 개선 및 데이터 증폭 작업 실시\n",
    "\n",
    "# 회귀문제 단층 퍼셉트론 모델 불러오기 \n",
    "%run ./AnnModel2_Plus.ipynb\n",
    "# 다층 퍼셉트론 기능 추가 \n",
    "%run ./mlp.ipynb\n",
    "\n",
    "# 아무 값도 입력하지 않으면 은닉계층을 갖지 않는 SLP 이 구축됩니다.\n",
    "set_hidden([1,2])\n",
    "# 메서드 동작\n",
    "binary_main(adjust_ratio = True)"
   ]
  },
  {
   "cell_type": "code",
   "execution_count": 10,
   "metadata": {},
   "outputs": [
    {
     "name": "stdout",
     "output_type": "stream",
     "text": [
      "✅ 현재 위치 : d:\\coding\\aib\\teamproject_1\\leeyeonjun\n",
      "[안내] 은닉 계층 2개를 갖는 다층 퍼셉트론이 적용됩니다.\n",
      "Epoch 1   : Train - Loss = 2.073, Accuracy = 0.310 / Test - Accuracy = 0.393\n",
      "Epoch 2   : Train - Loss = 1.854, Accuracy = 0.316 / Test - Accuracy = 0.393\n",
      "Epoch 3   : Train - Loss = 1.813, Accuracy = 0.316 / Test - Accuracy = 0.393\n",
      "Epoch 4   : Train - Loss = 1.785, Accuracy = 0.316 / Test - Accuracy = 0.393\n",
      "Epoch 5   : Train - Loss = 1.764, Accuracy = 0.316 / Test - Accuracy = 0.393\n",
      "Epoch 6   : Train - Loss = 1.750, Accuracy = 0.316 / Test - Accuracy = 0.393\n",
      "Epoch 7   : Train - Loss = 1.739, Accuracy = 0.316 / Test - Accuracy = 0.393\n",
      "Epoch 8   : Train - Loss = 1.731, Accuracy = 0.316 / Test - Accuracy = 0.393\n",
      "Epoch 9   : Train - Loss = 1.725, Accuracy = 0.316 / Test - Accuracy = 0.393\n",
      "Epoch 10   : Train - Loss = 1.720, Accuracy = 0.316 / Test - Accuracy = 0.393\n",
      "==============================  Final TEST  ==============================\n",
      "\n",
      "Final Accuracy = 0.393\n"
     ]
    }
   ],
   "source": [
    "# 다중 분류 문제해결 모델 불러오기 및 다층 퍼셉트론 모델 지원\n",
    "%run ./AnnModel3.ipynb\n",
    "%run ./mlp.ipynb\n",
    "\n",
    "# 아무 값도 입력하지 않으면 은닉계층을 갖지 않는 SLP 이 구축됩니다.\n",
    "set_hidden([2,5])\n",
    "# 메서드 동작\n",
    "multiple_main()"
   ]
  }
 ],
 "metadata": {
  "kernelspec": {
   "display_name": "venv_cp",
   "language": "python",
   "name": "python3"
  },
  "language_info": {
   "codemirror_mode": {
    "name": "ipython",
    "version": 3
   },
   "file_extension": ".py",
   "mimetype": "text/x-python",
   "name": "python",
   "nbconvert_exporter": "python",
   "pygments_lexer": "ipython3",
   "version": "3.10.11"
  },
  "orig_nbformat": 4
 },
 "nbformat": 4,
 "nbformat_minor": 2
}
