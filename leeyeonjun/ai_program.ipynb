{
 "cells": [
  {
   "cell_type": "code",
   "execution_count": 1,
   "metadata": {},
   "outputs": [
    {
     "name": "stdout",
     "output_type": "stream",
     "text": [
      "[안내] 은닉 계층 2개를 갖는 다층 퍼셉트론이 적용됩니다.\n",
      "Epoch 1   : Train - Loss = 10.007, Accuracy = 0.770 / Test - Accuracy = 0.808\n",
      "Epoch 2   : Train - Loss = 7.219, Accuracy = 0.802 / Test - Accuracy = 0.814\n",
      "Epoch 3   : Train - Loss = 6.472, Accuracy = 0.809 / Test - Accuracy = 0.802\n",
      "Epoch 4   : Train - Loss = 6.110, Accuracy = 0.814 / Test - Accuracy = 0.834\n",
      "Epoch 5   : Train - Loss = 6.037, Accuracy = 0.817 / Test - Accuracy = 0.826\n",
      "Epoch 6   : Train - Loss = 5.980, Accuracy = 0.816 / Test - Accuracy = 0.783\n",
      "Epoch 7   : Train - Loss = 5.954, Accuracy = 0.818 / Test - Accuracy = 0.830\n",
      "Epoch 8   : Train - Loss = 5.680, Accuracy = 0.822 / Test - Accuracy = 0.677\n",
      "Epoch 9   : Train - Loss = 5.722, Accuracy = 0.822 / Test - Accuracy = 0.815\n",
      "Epoch 10   : Train - Loss = 5.585, Accuracy = 0.824 / Test - Accuracy = 0.837\n",
      "==============================  Final TEST  ==============================\n",
      "\n",
      "Final Accuracy = 0.837\n"
     ]
    }
   ],
   "source": [
    "# 회귀 모델 동작\n",
    "\n",
    "# 회귀문제 단층 퍼셉트론 모델 불러오기 \n",
    "%run ./AnnModel1.ipynb\n",
    "# 다층 퍼셉트론 기능 추가 \n",
    "%run ./mlp.ipynb\n",
    "\n",
    "# 아무 값도 입력하지 않으면 은닉계층을 갖지 않는 SLP 이 구축됩니다.\n",
    "set_hidden([1,2])\n",
    "# 메서드 동작\n",
    "main()"
   ]
  },
  {
   "cell_type": "code",
   "execution_count": 2,
   "metadata": {},
   "outputs": [
    {
     "name": "stdout",
     "output_type": "stream",
     "text": [
      "[안내] 은닉 계층 2개를 갖는 다층 퍼셉트론이 적용됩니다.\n",
      "Epoch 1   : Train - Loss = 0.374, Accuracy = 0.907 / Test - Accuracy = 0.911\n",
      "Epoch 2   : Train - Loss = 0.310, Accuracy = 0.907 / Test - Accuracy = 0.911\n",
      "Epoch 3   : Train - Loss = 0.309, Accuracy = 0.907 / Test - Accuracy = 0.911\n",
      "Epoch 4   : Train - Loss = 0.309, Accuracy = 0.907 / Test - Accuracy = 0.911\n",
      "Epoch 5   : Train - Loss = 0.308, Accuracy = 0.907 / Test - Accuracy = 0.911\n",
      "Epoch 6   : Train - Loss = 0.308, Accuracy = 0.907 / Test - Accuracy = 0.911\n",
      "Epoch 7   : Train - Loss = 0.307, Accuracy = 0.907 / Test - Accuracy = 0.911\n",
      "Epoch 8   : Train - Loss = 0.306, Accuracy = 0.907 / Test - Accuracy = 0.911\n",
      "Epoch 9   : Train - Loss = 0.306, Accuracy = 0.907 / Test - Accuracy = 0.911\n",
      "Epoch 10   : Train - Loss = 0.304, Accuracy = 0.907 / Test - Accuracy = 0.911\n",
      "==============================  Final TEST  ==============================\n",
      "\n",
      "Final Accuracy = 0.911\n"
     ]
    }
   ],
   "source": [
    "# 이진판단 모델동작\n",
    "\n",
    "# 회귀문제 단층 퍼셉트론 모델 불러오기 \n",
    "%run ./AnnModel2.ipynb\n",
    "# 다층 퍼셉트론 기능 추가 \n",
    "%run ./mlp.ipynb\n",
    "\n",
    "# 아무 값도 입력하지 않으면 은닉계층을 갖지 않는 SLP 이 구축됩니다.\n",
    "set_hidden([1,2])\n",
    "# 메서드 동작\n",
    "binary_main()"
   ]
  },
  {
   "cell_type": "code",
   "execution_count": 3,
   "metadata": {},
   "outputs": [
    {
     "name": "stdout",
     "output_type": "stream",
     "text": [
      "[안내] 은닉 계층 2개를 갖는 다층 퍼셉트론이 적용됩니다.\n",
      "[Epoch 1] Train Loss = 0.693 | Test Acc = 0.500, Precision = 0.500, Recall = 1.000, F1 = 0.666\n",
      "[Epoch 2] Train Loss = 0.693 | Test Acc = 0.500, Precision = 0.000, Recall = 0.000, F1 = 0.000\n",
      "[Epoch 3] Train Loss = 0.693 | Test Acc = 0.500, Precision = 0.500, Recall = 1.000, F1 = 0.666\n",
      "[Epoch 4] Train Loss = 0.693 | Test Acc = 0.500, Precision = 0.500, Recall = 1.000, F1 = 0.666\n",
      "[Epoch 5] Train Loss = 0.693 | Test Acc = 0.500, Precision = 0.000, Recall = 0.000, F1 = 0.000\n",
      "[Epoch 6] Train Loss = 0.693 | Test Acc = 0.500, Precision = 0.500, Recall = 1.000, F1 = 0.666\n",
      "[Epoch 7] Train Loss = 0.693 | Test Acc = 0.500, Precision = 0.500, Recall = 1.000, F1 = 0.666\n",
      "[Epoch 8] Train Loss = 0.693 | Test Acc = 0.500, Precision = 0.000, Recall = 0.000, F1 = 0.000\n",
      "[Epoch 9] Train Loss = 0.693 | Test Acc = 0.500, Precision = 0.500, Recall = 1.000, F1 = 0.666\n",
      "[Epoch 10] Train Loss = 0.693 | Test Acc = 0.500, Precision = 0.500, Recall = 1.000, F1 = 0.666\n",
      "\n",
      " ========================================  FINAL TEST REPORT ======================================== \n",
      "\n",
      "► Acc = 0.500 Precision = 0.500, Recall = 1.000, F1 = 0.666\n"
     ]
    }
   ],
   "source": [
    "# 이진판단 모델동작, 평가지표 개선 및 데이터 증폭 작업 실시\n",
    "\n",
    "# 회귀문제 단층 퍼셉트론 모델 불러오기 \n",
    "%run ./AnnModel2_Plus.ipynb\n",
    "# 다층 퍼셉트론 기능 추가 \n",
    "%run ./mlp.ipynb\n",
    "\n",
    "# 아무 값도 입력하지 않으면 은닉계층을 갖지 않는 SLP 이 구축됩니다.\n",
    "set_hidden([1,2])\n",
    "# 메서드 동작\n",
    "binary_main(adjust_ratio = True)"
   ]
  },
  {
   "cell_type": "code",
   "execution_count": 4,
   "metadata": {},
   "outputs": [
    {
     "name": "stdout",
     "output_type": "stream",
     "text": [
      "[안내] 은닉 계층 2개를 갖는 다층 퍼셉트론이 적용됩니다.\n",
      "Epoch 1   : Train - Loss = 2.012, Accuracy = 0.341 / Test - Accuracy = 0.348\n",
      "Epoch 2   : Train - Loss = 1.842, Accuracy = 0.346 / Test - Accuracy = 0.348\n",
      "Epoch 3   : Train - Loss = 1.797, Accuracy = 0.346 / Test - Accuracy = 0.348\n",
      "Epoch 4   : Train - Loss = 1.765, Accuracy = 0.346 / Test - Accuracy = 0.348\n",
      "Epoch 5   : Train - Loss = 1.744, Accuracy = 0.346 / Test - Accuracy = 0.348\n",
      "Epoch 6   : Train - Loss = 1.728, Accuracy = 0.346 / Test - Accuracy = 0.348\n",
      "Epoch 7   : Train - Loss = 1.717, Accuracy = 0.346 / Test - Accuracy = 0.348\n",
      "Epoch 8   : Train - Loss = 1.709, Accuracy = 0.346 / Test - Accuracy = 0.348\n",
      "Epoch 9   : Train - Loss = 1.703, Accuracy = 0.346 / Test - Accuracy = 0.348\n",
      "Epoch 10   : Train - Loss = 1.699, Accuracy = 0.346 / Test - Accuracy = 0.348\n",
      "==============================  Final TEST  ==============================\n",
      "\n",
      "Final Accuracy = 0.348\n"
     ]
    }
   ],
   "source": [
    "# 다중 분류 문제해결 모델 불러오기 및 다층 퍼셉트론 모델 지원\n",
    "%run ./AnnModel3.ipynb\n",
    "%run ./mlp.ipynb\n",
    "\n",
    "# 아무 값도 입력하지 않으면 은닉계층을 갖지 않는 SLP 이 구축됩니다.\n",
    "set_hidden([2,5])\n",
    "# 메서드 동작\n",
    "multiple_main()"
   ]
  }
 ],
 "metadata": {
  "kernelspec": {
   "display_name": "venv_cp",
   "language": "python",
   "name": "python3"
  },
  "language_info": {
   "codemirror_mode": {
    "name": "ipython",
    "version": 3
   },
   "file_extension": ".py",
   "mimetype": "text/x-python",
   "name": "python",
   "nbconvert_exporter": "python",
   "pygments_lexer": "ipython3",
   "version": "3.10.11"
  },
  "orig_nbformat": 4
 },
 "nbformat": 4,
 "nbformat_minor": 2
}
