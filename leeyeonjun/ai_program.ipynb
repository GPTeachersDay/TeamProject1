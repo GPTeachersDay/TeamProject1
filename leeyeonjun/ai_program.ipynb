{
 "cells": [
  {
   "cell_type": "code",
   "execution_count": 6,
   "metadata": {},
   "outputs": [
    {
     "name": "stdout",
     "output_type": "stream",
     "text": [
      "[안내] 은닉 계층 2개를 갖는 다층 퍼셉트론이 적용됩니다.\n",
      "Epoch 1   : Train - Loss = 17.931, Accuracy = 0.685 / Test - Accuracy = 0.726\n",
      "Epoch 2   : Train - Loss = 10.499, Accuracy = 0.731 / Test - Accuracy = 0.727\n",
      "Epoch 3   : Train - Loss = 10.501, Accuracy = 0.731 / Test - Accuracy = 0.728\n",
      "Epoch 4   : Train - Loss = 10.507, Accuracy = 0.732 / Test - Accuracy = 0.722\n",
      "Epoch 5   : Train - Loss = 10.502, Accuracy = 0.731 / Test - Accuracy = 0.720\n",
      "Epoch 6   : Train - Loss = 10.503, Accuracy = 0.731 / Test - Accuracy = 0.722\n",
      "Epoch 7   : Train - Loss = 10.503, Accuracy = 0.732 / Test - Accuracy = 0.717\n",
      "Epoch 8   : Train - Loss = 10.499, Accuracy = 0.732 / Test - Accuracy = 0.712\n",
      "Epoch 9   : Train - Loss = 10.507, Accuracy = 0.730 / Test - Accuracy = 0.726\n",
      "Epoch 10   : Train - Loss = 10.510, Accuracy = 0.732 / Test - Accuracy = 0.725\n",
      "==============================  Final TEST  ==============================\n",
      "\n",
      "Final Accuracy = 0.725\n"
     ]
    }
   ],
   "source": [
    "# 회귀 모델 동작\n",
    "\n",
    "# 회귀문제 단층 퍼셉트론 모델 불러오기 \n",
    "%run ./AnnModel1.ipynb\n",
    "# 다층 퍼셉트론 기능 추가 \n",
    "%run ./mlp.ipynb\n",
    "\n",
    "# 아무 값도 입력하지 않으면 은닉계층을 갖지 않는 SLP 이 구축됩니다.\n",
    "set_hidden([1,2])\n",
    "# 메서드 동작\n",
    "main()"
   ]
  },
  {
   "cell_type": "code",
   "execution_count": 2,
   "metadata": {},
   "outputs": [
    {
     "name": "stdout",
     "output_type": "stream",
     "text": [
      "[안내] 은닉 계층 2개를 갖는 다층 퍼셉트론이 적용됩니다.\n",
      "Epoch 1   : Train - Loss = 0.350, Accuracy = 0.946 / Test - Accuracy = 0.959\n",
      "Epoch 2   : Train - Loss = 0.204, Accuracy = 0.953 / Test - Accuracy = 0.911\n",
      "Epoch 3   : Train - Loss = 0.310, Accuracy = 0.907 / Test - Accuracy = 0.911\n",
      "Epoch 4   : Train - Loss = 0.310, Accuracy = 0.907 / Test - Accuracy = 0.911\n",
      "Epoch 5   : Train - Loss = 0.310, Accuracy = 0.907 / Test - Accuracy = 0.911\n",
      "Epoch 6   : Train - Loss = 0.309, Accuracy = 0.907 / Test - Accuracy = 0.911\n",
      "Epoch 7   : Train - Loss = 0.309, Accuracy = 0.907 / Test - Accuracy = 0.911\n",
      "Epoch 8   : Train - Loss = 0.309, Accuracy = 0.907 / Test - Accuracy = 0.911\n",
      "Epoch 9   : Train - Loss = 0.309, Accuracy = 0.907 / Test - Accuracy = 0.911\n",
      "Epoch 10   : Train - Loss = 0.309, Accuracy = 0.907 / Test - Accuracy = 0.911\n",
      "==============================  Final TEST  ==============================\n",
      "\n",
      "Final Accuracy = 0.911\n"
     ]
    }
   ],
   "source": [
    "# 이진판단 모델동작\n",
    "\n",
    "# 회귀문제 단층 퍼셉트론 모델 불러오기 \n",
    "%run ./AnnModel2.ipynb\n",
    "# 다층 퍼셉트론 기능 추가 \n",
    "%run ./mlp.ipynb\n",
    "\n",
    "# 아무 값도 입력하지 않으면 은닉계층을 갖지 않는 SLP 이 구축됩니다.\n",
    "set_hidden([1,2])\n",
    "# 메서드 동작\n",
    "binary_main()"
   ]
  },
  {
   "cell_type": "code",
   "execution_count": 3,
   "metadata": {},
   "outputs": [
    {
     "name": "stdout",
     "output_type": "stream",
     "text": [
      "[안내] 은닉 계층 2개를 갖는 다층 퍼셉트론이 적용됩니다.\n",
      "[Epoch 1] Train Loss = 0.654 | Test Acc = 0.688, Precision = 0.980, Recall = 0.381, F1 = 0.549\n",
      "[Epoch 2] Train Loss = 0.542 | Test Acc = 0.749, Precision = 0.973, Recall = 0.511, F1 = 0.670\n",
      "[Epoch 3] Train Loss = 0.475 | Test Acc = 0.800, Precision = 0.973, Recall = 0.615, F1 = 0.754\n",
      "[Epoch 4] Train Loss = 0.411 | Test Acc = 0.849, Precision = 0.949, Recall = 0.737, F1 = 0.830\n",
      "[Epoch 5] Train Loss = 0.348 | Test Acc = 0.888, Precision = 0.940, Recall = 0.827, F1 = 0.880\n",
      "[Epoch 6] Train Loss = 0.298 | Test Acc = 0.897, Precision = 0.944, Recall = 0.843, F1 = 0.891\n",
      "[Epoch 7] Train Loss = 0.280 | Test Acc = 0.905, Precision = 0.939, Recall = 0.865, F1 = 0.900\n",
      "[Epoch 8] Train Loss = 0.267 | Test Acc = 0.908, Precision = 0.947, Recall = 0.863, F1 = 0.903\n",
      "[Epoch 9] Train Loss = 0.259 | Test Acc = 0.913, Precision = 0.944, Recall = 0.878, F1 = 0.909\n",
      "[Epoch 10] Train Loss = 0.252 | Test Acc = 0.915, Precision = 0.940, Recall = 0.885, F1 = 0.912\n",
      "\n",
      " ========================================  FINAL TEST REPORT ======================================== \n",
      "\n",
      "► Acc = 0.915 Precision = 0.940, Recall = 0.885, F1 = 0.912\n"
     ]
    }
   ],
   "source": [
    "# 이진판단 모델동작, 평가지표 개선 및 데이터 증폭 작업 실시\n",
    "\n",
    "# 회귀문제 단층 퍼셉트론 모델 불러오기 \n",
    "%run ./AnnModel2_Plus.ipynb\n",
    "# 다층 퍼셉트론 기능 추가 \n",
    "%run ./mlp.ipynb\n",
    "\n",
    "# 아무 값도 입력하지 않으면 은닉계층을 갖지 않는 SLP 이 구축됩니다.\n",
    "set_hidden([1,2])\n",
    "# 메서드 동작\n",
    "binary_main(adjust_ratio = True)"
   ]
  },
  {
   "cell_type": "code",
   "execution_count": 4,
   "metadata": {},
   "outputs": [
    {
     "name": "stdout",
     "output_type": "stream",
     "text": [
      "[안내] 은닉 계층 2개를 갖는 다층 퍼셉트론이 적용됩니다.\n",
      "Epoch 1   : Train - Loss = 2.054, Accuracy = 0.344 / Test - Accuracy = 0.342\n",
      "Epoch 2   : Train - Loss = 1.844, Accuracy = 0.350 / Test - Accuracy = 0.342\n",
      "Epoch 3   : Train - Loss = 1.799, Accuracy = 0.350 / Test - Accuracy = 0.342\n",
      "Epoch 4   : Train - Loss = 1.768, Accuracy = 0.350 / Test - Accuracy = 0.342\n",
      "Epoch 5   : Train - Loss = 1.747, Accuracy = 0.350 / Test - Accuracy = 0.342\n",
      "Epoch 6   : Train - Loss = 1.732, Accuracy = 0.350 / Test - Accuracy = 0.342\n",
      "Epoch 7   : Train - Loss = 1.722, Accuracy = 0.350 / Test - Accuracy = 0.342\n",
      "Epoch 8   : Train - Loss = 1.714, Accuracy = 0.350 / Test - Accuracy = 0.342\n",
      "Epoch 9   : Train - Loss = 1.708, Accuracy = 0.350 / Test - Accuracy = 0.342\n",
      "Epoch 10   : Train - Loss = 1.704, Accuracy = 0.350 / Test - Accuracy = 0.342\n",
      "==============================  Final TEST  ==============================\n",
      "\n",
      "Final Accuracy = 0.342\n"
     ]
    }
   ],
   "source": [
    "# 다중 분류 문제해결 모델 불러오기 및 다층 퍼셉트론 모델 지원\n",
    "%run ./AnnModel3.ipynb\n",
    "%run ./mlp.ipynb\n",
    "\n",
    "# 아무 값도 입력하지 않으면 은닉계층을 갖지 않는 SLP 이 구축됩니다.\n",
    "set_hidden([2,5])\n",
    "# 메서드 동작\n",
    "multiple_main()"
   ]
  }
 ],
 "metadata": {
  "kernelspec": {
   "display_name": "venv_cp",
   "language": "python",
   "name": "python3"
  },
  "language_info": {
   "codemirror_mode": {
    "name": "ipython",
    "version": 3
   },
   "file_extension": ".py",
   "mimetype": "text/x-python",
   "name": "python",
   "nbconvert_exporter": "python",
   "pygments_lexer": "ipython3",
   "version": "3.10.11"
  },
  "orig_nbformat": 4
 },
 "nbformat": 4,
 "nbformat_minor": 2
}
