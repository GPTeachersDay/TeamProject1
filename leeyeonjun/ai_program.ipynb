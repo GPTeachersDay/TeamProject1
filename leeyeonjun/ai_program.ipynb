{
 "cells": [
  {
   "cell_type": "code",
   "execution_count": 1,
   "metadata": {},
   "outputs": [
    {
     "name": "stdout",
     "output_type": "stream",
     "text": [
      "[안내] 은닉 계층 2개를 갖는 다층 퍼셉트론이 적용됩니다.\n",
      "Epoch 1   : Train - Loss = 11.499, Accuracy = 0.762 / Test - Accuracy = 0.793\n",
      "Epoch 2   : Train - Loss = 7.504, Accuracy = 0.801 / Test - Accuracy = 0.826\n",
      "Epoch 3   : Train - Loss = 6.821, Accuracy = 0.808 / Test - Accuracy = 0.808\n",
      "Epoch 4   : Train - Loss = 6.472, Accuracy = 0.812 / Test - Accuracy = 0.838\n",
      "Epoch 5   : Train - Loss = 6.165, Accuracy = 0.817 / Test - Accuracy = 0.659\n",
      "Epoch 6   : Train - Loss = 6.052, Accuracy = 0.819 / Test - Accuracy = 0.822\n",
      "Epoch 7   : Train - Loss = 5.922, Accuracy = 0.820 / Test - Accuracy = 0.841\n",
      "Epoch 8   : Train - Loss = 5.749, Accuracy = 0.821 / Test - Accuracy = 0.839\n",
      "Epoch 9   : Train - Loss = 5.716, Accuracy = 0.823 / Test - Accuracy = 0.799\n",
      "Epoch 10   : Train - Loss = 5.483, Accuracy = 0.825 / Test - Accuracy = 0.809\n",
      "==============================  Final TEST  ==============================\n",
      "\n",
      "Final Accuracy = 0.809\n"
     ]
    }
   ],
   "source": [
    "# 회귀 모델 동작\n",
    "\n",
    "# 회귀문제 단층 퍼셉트론 모델 불러오기 \n",
    "%run ./AnnModel1.ipynb\n",
    "# 다층 퍼셉트론 기능 추가 \n",
    "%run ./mlp.ipynb\n",
    "\n",
    "# 아무 값도 입력하지 않으면 은닉계층을 갖지 않는 SLP 이 구축됩니다.\n",
    "set_hidden([1,2])\n",
    "# 메서드 동작\n",
    "main()"
   ]
  },
  {
   "cell_type": "code",
   "execution_count": 2,
   "metadata": {},
   "outputs": [
    {
     "name": "stdout",
     "output_type": "stream",
     "text": [
      "[안내] 은닉 계층 2개를 갖는 다층 퍼셉트론이 적용됩니다.\n",
      "Epoch 1   : Train - Loss = 0.408, Accuracy = 0.909 / Test - Accuracy = 0.912\n",
      "Epoch 2   : Train - Loss = 0.267, Accuracy = 0.916 / Test - Accuracy = 0.923\n",
      "Epoch 3   : Train - Loss = 0.238, Accuracy = 0.925 / Test - Accuracy = 0.934\n",
      "Epoch 4   : Train - Loss = 0.207, Accuracy = 0.941 / Test - Accuracy = 0.948\n",
      "Epoch 5   : Train - Loss = 0.180, Accuracy = 0.953 / Test - Accuracy = 0.954\n",
      "Epoch 6   : Train - Loss = 0.153, Accuracy = 0.958 / Test - Accuracy = 0.961\n",
      "Epoch 7   : Train - Loss = 0.133, Accuracy = 0.962 / Test - Accuracy = 0.967\n",
      "Epoch 8   : Train - Loss = 0.122, Accuracy = 0.964 / Test - Accuracy = 0.967\n",
      "Epoch 9   : Train - Loss = 0.115, Accuracy = 0.966 / Test - Accuracy = 0.971\n",
      "Epoch 10   : Train - Loss = 0.110, Accuracy = 0.968 / Test - Accuracy = 0.969\n",
      "==============================  Final TEST  ==============================\n",
      "\n",
      "Final Accuracy = 0.969\n"
     ]
    }
   ],
   "source": [
    "# 이진판단 모델동작\n",
    "\n",
    "# 회귀문제 단층 퍼셉트론 모델 불러오기 \n",
    "%run ./AnnModel2.ipynb\n",
    "# 다층 퍼셉트론 기능 추가 \n",
    "%run ./mlp.ipynb\n",
    "\n",
    "# 아무 값도 입력하지 않으면 은닉계층을 갖지 않는 SLP 이 구축됩니다.\n",
    "set_hidden([1,2])\n",
    "# 메서드 동작\n",
    "binary_main()"
   ]
  },
  {
   "cell_type": "code",
   "execution_count": 3,
   "metadata": {},
   "outputs": [
    {
     "name": "stdout",
     "output_type": "stream",
     "text": [
      "[안내] 은닉 계층 2개를 갖는 다층 퍼셉트론이 적용됩니다.\n",
      "[Epoch 1] Train Loss = 0.639 | Test Acc = 0.773, Precision = 0.897, Recall = 0.619, F1 = 0.733\n",
      "[Epoch 2] Train Loss = 0.492 | Test Acc = 0.874, Precision = 0.909, Recall = 0.833, F1 = 0.869\n",
      "[Epoch 3] Train Loss = 0.375 | Test Acc = 0.918, Precision = 0.956, Recall = 0.876, F1 = 0.915\n",
      "[Epoch 4] Train Loss = 0.255 | Test Acc = 0.917, Precision = 0.961, Recall = 0.870, F1 = 0.913\n",
      "[Epoch 5] Train Loss = 0.243 | Test Acc = 0.916, Precision = 0.967, Recall = 0.862, F1 = 0.912\n",
      "[Epoch 6] Train Loss = 0.237 | Test Acc = 0.914, Precision = 0.976, Recall = 0.851, F1 = 0.909\n",
      "[Epoch 7] Train Loss = 0.230 | Test Acc = 0.925, Precision = 0.962, Recall = 0.885, F1 = 0.922\n",
      "[Epoch 8] Train Loss = 0.228 | Test Acc = 0.923, Precision = 0.973, Recall = 0.872, F1 = 0.920\n",
      "[Epoch 9] Train Loss = 0.226 | Test Acc = 0.920, Precision = 0.977, Recall = 0.861, F1 = 0.915\n",
      "[Epoch 10] Train Loss = 0.224 | Test Acc = 0.916, Precision = 0.980, Recall = 0.851, F1 = 0.911\n",
      "\n",
      " ========================================  FINAL TEST REPORT ======================================== \n",
      "\n",
      "► Acc = 0.916 Precision = 0.980, Recall = 0.851, F1 = 0.911\n"
     ]
    }
   ],
   "source": [
    "# 이진판단 모델동작, 평가지표 개선 및 데이터 증폭 작업 실시\n",
    "\n",
    "# 회귀문제 단층 퍼셉트론 모델 불러오기 \n",
    "%run ./AnnModel2_Plus.ipynb\n",
    "# 다층 퍼셉트론 기능 추가 \n",
    "%run ./mlp.ipynb\n",
    "\n",
    "# 아무 값도 입력하지 않으면 은닉계층을 갖지 않는 SLP 이 구축됩니다.\n",
    "set_hidden([1,2])\n",
    "# 메서드 동작\n",
    "binary_main(adjust_ratio = True)"
   ]
  },
  {
   "cell_type": "code",
   "execution_count": 4,
   "metadata": {},
   "outputs": [
    {
     "name": "stdout",
     "output_type": "stream",
     "text": [
      "[안내] 은닉 계층 2개를 갖는 다층 퍼셉트론이 적용됩니다.\n",
      "Epoch 1   : Train - Loss = 2.088, Accuracy = 0.333 / Test - Accuracy = 0.347\n",
      "Epoch 2   : Train - Loss = 1.844, Accuracy = 0.347 / Test - Accuracy = 0.347\n",
      "Epoch 3   : Train - Loss = 1.800, Accuracy = 0.347 / Test - Accuracy = 0.347\n",
      "Epoch 4   : Train - Loss = 1.771, Accuracy = 0.347 / Test - Accuracy = 0.347\n",
      "Epoch 5   : Train - Loss = 1.750, Accuracy = 0.347 / Test - Accuracy = 0.347\n",
      "Epoch 6   : Train - Loss = 1.736, Accuracy = 0.347 / Test - Accuracy = 0.347\n",
      "Epoch 7   : Train - Loss = 1.726, Accuracy = 0.347 / Test - Accuracy = 0.347\n",
      "Epoch 8   : Train - Loss = 1.718, Accuracy = 0.347 / Test - Accuracy = 0.347\n",
      "Epoch 9   : Train - Loss = 1.712, Accuracy = 0.347 / Test - Accuracy = 0.347\n",
      "Epoch 10   : Train - Loss = 1.708, Accuracy = 0.347 / Test - Accuracy = 0.347\n",
      "==============================  Final TEST  ==============================\n",
      "\n",
      "Final Accuracy = 0.347\n"
     ]
    }
   ],
   "source": [
    "# 다중 분류 문제해결 모델 불러오기 및 다층 퍼셉트론 모델 지원\n",
    "%run ./AnnModel3.ipynb\n",
    "%run ./mlp.ipynb\n",
    "\n",
    "# 아무 값도 입력하지 않으면 은닉계층을 갖지 않는 SLP 이 구축됩니다.\n",
    "set_hidden([2,5])\n",
    "# 메서드 동작\n",
    "multiple_main()"
   ]
  }
 ],
 "metadata": {
  "kernelspec": {
   "display_name": "venv_cp",
   "language": "python",
   "name": "python3"
  },
  "language_info": {
   "codemirror_mode": {
    "name": "ipython",
    "version": 3
   },
   "file_extension": ".py",
   "mimetype": "text/x-python",
   "name": "python",
   "nbconvert_exporter": "python",
   "pygments_lexer": "ipython3",
   "version": "3.10.11"
  },
  "orig_nbformat": 4
 },
 "nbformat": 4,
 "nbformat_minor": 2
}
