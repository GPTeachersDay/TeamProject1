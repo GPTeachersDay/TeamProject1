{
 "cells": [
  {
   "attachments": {},
   "cell_type": "markdown",
   "metadata": {},
   "source": [
    "# 모델1 : 전복"
   ]
  },
  {
   "attachments": {},
   "cell_type": "markdown",
   "metadata": {},
   "source": [
    "## 모델구성\n",
    "- 레거시모델과 가장 유사하게 모델 구성\n",
    "- 성별 원핫인코딩\n",
    "- 은닉층2개\n",
    "- 노드개수 = 특성 수(10개)\n",
    "\n",
    "## 결과\n",
    "### 성능\n",
    "- Test Loss : 4.684 / Test Accuracy : 0.756\n",
    "\n",
    "### 평가\n",
    "- 100에포크 이후로 성능이 오르지 않아 조기종료 되었음\n",
    "- 훈련점수와 검증점수의 차이가 없어 과소적합이 의심됨\n",
    "- 성능을 올리기 위하여 복잡도를 증가시키는 방향의 개선 필요"
   ]
  },
  {
   "cell_type": "code",
   "execution_count": 1,
   "metadata": {},
   "outputs": [
    {
     "name": "stdout",
     "output_type": "stream",
     "text": [
      "Python     : 3.10.11 \n",
      "Tensorflow : 2.10.1\n",
      "TF GPU     : True\n"
     ]
    }
   ],
   "source": [
    "# Tensorflow Check\n",
    "import tensorflow as tf\n",
    "from tensorflow.python.client import device_lib\n",
    "import sys\n",
    "print(f'Python     : {sys.version.split(\"|\")[0]}')\n",
    "print(f'Tensorflow : {tf.__version__}')\n",
    "print(f'TF GPU     : {\"True\" if device_lib.list_local_devices()[1] else \"False\"}')"
   ]
  },
  {
   "cell_type": "code",
   "execution_count": 2,
   "metadata": {},
   "outputs": [],
   "source": [
    "# 필요한 라이브러리 불러오기\n",
    "import numpy as np\n",
    "import pandas as pd\n",
    "import seaborn as sns\n",
    "import matplotlib.pyplot as plt\n",
    "\n",
    "from sklearn.model_selection import train_test_split\n",
    "from sklearn.preprocessing import StandardScaler, MinMaxScaler\n",
    "\n",
    "from tensorflow import keras\n",
    "\n",
    "# 각종 변수 선언\n",
    "csv_path = 'D:/coding/aib/GPTeachersDay/TeamProject1/leeyeonjun/Data/Regression_data.csv'\n",
    "EPOCHS = 1000\n",
    "MB_SIZE = 1024"
   ]
  },
  {
   "cell_type": "code",
   "execution_count": 3,
   "metadata": {},
   "outputs": [
    {
     "name": "stdout",
     "output_type": "stream",
     "text": [
      "(3341, 10) (836, 10) (3341,) (836,)\n"
     ]
    }
   ],
   "source": [
    "def load_data(csv_path, TRAIN_RATIO=0.8):\n",
    "    \n",
    "    global X, y, X_train, X_test, y_train, y_test, df\n",
    "    \n",
    "    # 데이터셋 로드\n",
    "    df = pd.read_csv(csv_path)\n",
    "    \n",
    "    # 성별 원핫 인코딩\n",
    "    df=pd.get_dummies(df,columns=['Sex'])\n",
    "    \n",
    "    # 학습 데이터 분리\n",
    "    X = df.drop('Rings', axis=1)\n",
    "    y = df['Rings'].astype('float32')\n",
    "    X_train, X_test, y_train, y_test = train_test_split(X, y, train_size=TRAIN_RATIO, random_state = 83)\n",
    "    \n",
    "    return df, X, y, X_train, X_test, y_train, y_test\n",
    "    \n",
    "df, X, y, X_train, X_test, y_train, y_test = load_data(csv_path)\n",
    "print(X_train.shape, X_test.shape, y_train.shape, y_test.shape)"
   ]
  },
  {
   "cell_type": "code",
   "execution_count": 4,
   "metadata": {},
   "outputs": [
    {
     "data": {
      "text/html": [
       "<div>\n",
       "<style scoped>\n",
       "    .dataframe tbody tr th:only-of-type {\n",
       "        vertical-align: middle;\n",
       "    }\n",
       "\n",
       "    .dataframe tbody tr th {\n",
       "        vertical-align: top;\n",
       "    }\n",
       "\n",
       "    .dataframe thead th {\n",
       "        text-align: right;\n",
       "    }\n",
       "</style>\n",
       "<table border=\"1\" class=\"dataframe\">\n",
       "  <thead>\n",
       "    <tr style=\"text-align: right;\">\n",
       "      <th></th>\n",
       "      <th>Length</th>\n",
       "      <th>Diameter</th>\n",
       "      <th>Height</th>\n",
       "      <th>Whole weight</th>\n",
       "      <th>Shucked weight</th>\n",
       "      <th>Viscera weight</th>\n",
       "      <th>Shell weight</th>\n",
       "      <th>Sex_F</th>\n",
       "      <th>Sex_I</th>\n",
       "      <th>Sex_M</th>\n",
       "    </tr>\n",
       "  </thead>\n",
       "  <tbody>\n",
       "    <tr>\n",
       "      <th>count</th>\n",
       "      <td>3341.000000</td>\n",
       "      <td>3341.000000</td>\n",
       "      <td>3341.000000</td>\n",
       "      <td>3341.000000</td>\n",
       "      <td>3341.000000</td>\n",
       "      <td>3341.000000</td>\n",
       "      <td>3341.000000</td>\n",
       "      <td>3341.000000</td>\n",
       "      <td>3341.000000</td>\n",
       "      <td>3341.000000</td>\n",
       "    </tr>\n",
       "    <tr>\n",
       "      <th>mean</th>\n",
       "      <td>0.523174</td>\n",
       "      <td>0.407287</td>\n",
       "      <td>0.139611</td>\n",
       "      <td>0.825669</td>\n",
       "      <td>0.357513</td>\n",
       "      <td>0.180396</td>\n",
       "      <td>0.237986</td>\n",
       "      <td>0.314576</td>\n",
       "      <td>0.317869</td>\n",
       "      <td>0.367555</td>\n",
       "    </tr>\n",
       "    <tr>\n",
       "      <th>std</th>\n",
       "      <td>0.119784</td>\n",
       "      <td>0.099014</td>\n",
       "      <td>0.042640</td>\n",
       "      <td>0.488083</td>\n",
       "      <td>0.221129</td>\n",
       "      <td>0.109401</td>\n",
       "      <td>0.138090</td>\n",
       "      <td>0.464416</td>\n",
       "      <td>0.465718</td>\n",
       "      <td>0.482211</td>\n",
       "    </tr>\n",
       "    <tr>\n",
       "      <th>min</th>\n",
       "      <td>0.110000</td>\n",
       "      <td>0.090000</td>\n",
       "      <td>0.000000</td>\n",
       "      <td>0.008000</td>\n",
       "      <td>0.002500</td>\n",
       "      <td>0.000500</td>\n",
       "      <td>0.003000</td>\n",
       "      <td>0.000000</td>\n",
       "      <td>0.000000</td>\n",
       "      <td>0.000000</td>\n",
       "    </tr>\n",
       "    <tr>\n",
       "      <th>25%</th>\n",
       "      <td>0.450000</td>\n",
       "      <td>0.345000</td>\n",
       "      <td>0.115000</td>\n",
       "      <td>0.441000</td>\n",
       "      <td>0.185000</td>\n",
       "      <td>0.092000</td>\n",
       "      <td>0.130000</td>\n",
       "      <td>0.000000</td>\n",
       "      <td>0.000000</td>\n",
       "      <td>0.000000</td>\n",
       "    </tr>\n",
       "    <tr>\n",
       "      <th>50%</th>\n",
       "      <td>0.545000</td>\n",
       "      <td>0.425000</td>\n",
       "      <td>0.140000</td>\n",
       "      <td>0.799500</td>\n",
       "      <td>0.334000</td>\n",
       "      <td>0.171500</td>\n",
       "      <td>0.235000</td>\n",
       "      <td>0.000000</td>\n",
       "      <td>0.000000</td>\n",
       "      <td>0.000000</td>\n",
       "    </tr>\n",
       "    <tr>\n",
       "      <th>75%</th>\n",
       "      <td>0.615000</td>\n",
       "      <td>0.480000</td>\n",
       "      <td>0.165000</td>\n",
       "      <td>1.146000</td>\n",
       "      <td>0.498500</td>\n",
       "      <td>0.252500</td>\n",
       "      <td>0.325000</td>\n",
       "      <td>1.000000</td>\n",
       "      <td>1.000000</td>\n",
       "      <td>1.000000</td>\n",
       "    </tr>\n",
       "    <tr>\n",
       "      <th>max</th>\n",
       "      <td>0.815000</td>\n",
       "      <td>0.650000</td>\n",
       "      <td>1.130000</td>\n",
       "      <td>2.779500</td>\n",
       "      <td>1.488000</td>\n",
       "      <td>0.760000</td>\n",
       "      <td>1.005000</td>\n",
       "      <td>1.000000</td>\n",
       "      <td>1.000000</td>\n",
       "      <td>1.000000</td>\n",
       "    </tr>\n",
       "  </tbody>\n",
       "</table>\n",
       "</div>"
      ],
      "text/plain": [
       "            Length     Diameter       Height  Whole weight  Shucked weight  \\\n",
       "count  3341.000000  3341.000000  3341.000000   3341.000000     3341.000000   \n",
       "mean      0.523174     0.407287     0.139611      0.825669        0.357513   \n",
       "std       0.119784     0.099014     0.042640      0.488083        0.221129   \n",
       "min       0.110000     0.090000     0.000000      0.008000        0.002500   \n",
       "25%       0.450000     0.345000     0.115000      0.441000        0.185000   \n",
       "50%       0.545000     0.425000     0.140000      0.799500        0.334000   \n",
       "75%       0.615000     0.480000     0.165000      1.146000        0.498500   \n",
       "max       0.815000     0.650000     1.130000      2.779500        1.488000   \n",
       "\n",
       "       Viscera weight  Shell weight        Sex_F        Sex_I        Sex_M  \n",
       "count     3341.000000   3341.000000  3341.000000  3341.000000  3341.000000  \n",
       "mean         0.180396      0.237986     0.314576     0.317869     0.367555  \n",
       "std          0.109401      0.138090     0.464416     0.465718     0.482211  \n",
       "min          0.000500      0.003000     0.000000     0.000000     0.000000  \n",
       "25%          0.092000      0.130000     0.000000     0.000000     0.000000  \n",
       "50%          0.171500      0.235000     0.000000     0.000000     0.000000  \n",
       "75%          0.252500      0.325000     1.000000     1.000000     1.000000  \n",
       "max          0.760000      1.005000     1.000000     1.000000     1.000000  "
      ]
     },
     "execution_count": 4,
     "metadata": {},
     "output_type": "execute_result"
    }
   ],
   "source": [
    "X_train.describe()"
   ]
  },
  {
   "cell_type": "code",
   "execution_count": 5,
   "metadata": {},
   "outputs": [
    {
     "name": "stdout",
     "output_type": "stream",
     "text": [
      "Model: \"Abalone_Model\"\n",
      "_________________________________________________________________\n",
      " Layer (type)                Output Shape              Param #   \n",
      "=================================================================\n",
      " input_1 (InputLayer)        [(None, 10)]              0         \n",
      "                                                                 \n",
      " dense (Dense)               (None, 10)                110       \n",
      "                                                                 \n",
      " dense_1 (Dense)             (None, 10)                110       \n",
      "                                                                 \n",
      " dense_2 (Dense)             (None, 1)                 11        \n",
      "                                                                 \n",
      "=================================================================\n",
      "Total params: 231\n",
      "Trainable params: 231\n",
      "Non-trainable params: 0\n",
      "_________________________________________________________________\n",
      "None\n"
     ]
    }
   ],
   "source": [
    "def get_model(shape, node_n=4, dout=0.01):\n",
    "    inputs  = keras.Input(shape=shape)\n",
    "    \n",
    "    x = keras.layers.Dense(node_n)(inputs)\n",
    "    x = keras.layers.Dense(node_n)(x)\n",
    "    \n",
    "    outputs = keras.layers.Dense(1)(x)\n",
    "    model   = keras.Model(inputs, outputs, name='Abalone_Model')\n",
    "    return model\n",
    "\n",
    "model = get_model(len(X_train.columns), node_n=10, dout=0.01)\n",
    "print(model.summary())\n",
    "    "
   ]
  },
  {
   "cell_type": "code",
   "execution_count": 6,
   "metadata": {},
   "outputs": [
    {
     "data": {
      "image/png": "[encoded data removed]",
      "text/plain": [
       "<IPython.core.display.Image object>"
      ]
     },
     "execution_count": 6,
     "metadata": {},
     "output_type": "execute_result"
    }
   ],
   "source": [
    "keras.utils.plot_model(model, show_shapes=True, to_file='model1_model.png')"
   ]
  },
  {
   "cell_type": "code",
   "execution_count": 7,
   "metadata": {},
   "outputs": [],
   "source": [
    "class EvalAccuracy(tf.keras.metrics.Metric):\n",
    "    def __init__(self, name=\"accuracy\", **kwargs):\n",
    "        super(EvalAccuracy, self).__init__(name=name, **kwargs)\n",
    "        self.correct = self.add_weight(name=name, initializer=\"zeros\")\n",
    "\n",
    "    def update_state(self, y_true, y_predict, sample_weight=None):\n",
    "        value = tf.abs((y_predict - y_true) / y_true)\n",
    "        self.correct.assign(tf.reduce_mean(value))\n",
    "\n",
    "    def result(self):\n",
    "        return 1 - self.correct\n",
    "\n",
    "    def reset_state(self):\n",
    "        self.correct.assign(0.)\n",
    "\n",
    "class CustomCallback(keras.callbacks.Callback):\n",
    "    def on_train_begin(self, logs=None):\n",
    "        print(\"Starting training\")\n",
    "\n",
    "    def on_train_end(self, logs=None):\n",
    "        print(\"End training\")\n",
    "\n",
    "    def on_epoch_begin(self, epoch, logs=None):\n",
    "        keys = list(logs.keys())\n",
    "        # print(\"Start epoch {} of training; got log keys: {}\".format(epoch, keys))\n",
    "\n",
    "    def on_epoch_end(self, epoch, logs=None):\n",
    "        if epoch % 100 == 0:print()\n",
    "        if epoch % 10 == 0:\n",
    "            print(f'{epoch} / ', end='')"
   ]
  },
  {
   "cell_type": "code",
   "execution_count": 8,
   "metadata": {},
   "outputs": [
    {
     "name": "stdout",
     "output_type": "stream",
     "text": [
      "Starting training\n"
     ]
    },
    {
     "name": "stderr",
     "output_type": "stream",
     "text": [
      "c:\\Users\\leeyeonjun85\\.conda\\envs\\p310_1\\lib\\site-packages\\keras\\engine\\training.py:2319: UserWarning: Metric EvalAccuracy implements a `reset_states()` method; rename it to `reset_state()` (without the final \"s\"). The name `reset_states()` has been deprecated to improve API consistency.\n",
      "  m.reset_state()\n"
     ]
    },
    {
     "name": "stdout",
     "output_type": "stream",
     "text": [
      "\n",
      "0 / 10 / 20 / 30 / 40 / 50 / 60 / 70 / 80 / 90 / \n",
      "100 / 110 / 120 / 130 / 140 / 150 / 160 / 170 / 180 / 190 / \n",
      "200 / 210 / 220 / 230 / 240 / 250 / 260 / 270 / 280 / 290 / \n",
      "300 / 310 / 320 / 330 / 340 / 350 / 360 / 370 / 380 / 390 / \n",
      "400 / 410 / 420 / 430 / 440 / 450 / 460 / 470 / 480 / 490 / \n",
      "500 / 510 / 520 / End training\n"
     ]
    }
   ],
   "source": [
    "model.compile(\n",
    "        optimizer=keras.optimizers.Adam(0.01),\n",
    "        loss=keras.losses.MeanSquaredError(),\n",
    "        metrics=[EvalAccuracy()]\n",
    "        )\n",
    "\n",
    "# 얼리스타핑\n",
    "earlystop = keras.callbacks.EarlyStopping(monitor='val_accuracy'\n",
    "                                        , min_delta=0.000001\n",
    "                                        , patience=EPOCHS//5)\n",
    "\n",
    "# 모델 저장\n",
    "checkpoint_path = 'model1.h5'\n",
    "checkpoint = keras.callbacks.ModelCheckpoint(\n",
    "                                        checkpoint_path\n",
    "                                        , monitor='val_accuracy'\n",
    "                                        , verbose=0\n",
    "                                        , save_best_only=True\n",
    "                                        , save_weights_only=True)\n",
    "\n",
    "# 모델 학습\n",
    "history = model.fit(X_train, y_train\n",
    "                    , batch_size=MB_SIZE\n",
    "                    , validation_split = 0.2\n",
    "                    , verbose=0\n",
    "                    , epochs=EPOCHS\n",
    "                    , callbacks=[earlystop, checkpoint, CustomCallback()]\n",
    "                    )"
   ]
  },
  {
   "cell_type": "code",
   "execution_count": 14,
   "metadata": {},
   "outputs": [
    {
     "name": "stdout",
     "output_type": "stream",
     "text": [
      "27/27 [==============================] - 0s 5ms/step - loss: 4.6845 - accuracy: 0.7564\n",
      "Test Loss : 4.684 / Test Accuracy : 0.756\n"
     ]
    },
    {
     "name": "stderr",
     "output_type": "stream",
     "text": [
      "c:\\Users\\leeyeonjun85\\.conda\\envs\\p310_1\\lib\\site-packages\\keras\\engine\\training.py:2319: UserWarning: Metric EvalAccuracy implements a `reset_states()` method; rename it to `reset_state()` (without the final \"s\"). The name `reset_states()` has been deprecated to improve API consistency.\n",
      "  m.reset_state()\n"
     ]
    }
   ],
   "source": [
    "model.load_weights(checkpoint_path)\n",
    "loss, accuracy = model.evaluate(X_test, y_test)\n",
    "print(f'Test Loss : {loss:.3f} / Test Accuracy : {accuracy:.3f}')"
   ]
  },
  {
   "cell_type": "code",
   "execution_count": 10,
   "metadata": {},
   "outputs": [
    {
     "data": {
      "text/html": [
       "<div>\n",
       "<style scoped>\n",
       "    .dataframe tbody tr th:only-of-type {\n",
       "        vertical-align: middle;\n",
       "    }\n",
       "\n",
       "    .dataframe tbody tr th {\n",
       "        vertical-align: top;\n",
       "    }\n",
       "\n",
       "    .dataframe thead th {\n",
       "        text-align: right;\n",
       "    }\n",
       "</style>\n",
       "<table border=\"1\" class=\"dataframe\">\n",
       "  <thead>\n",
       "    <tr style=\"text-align: right;\">\n",
       "      <th></th>\n",
       "      <th>loss</th>\n",
       "      <th>accuracy</th>\n",
       "      <th>val_loss</th>\n",
       "      <th>val_accuracy</th>\n",
       "    </tr>\n",
       "  </thead>\n",
       "  <tbody>\n",
       "    <tr>\n",
       "      <th>0</th>\n",
       "      <td>99.029037</td>\n",
       "      <td>0.109058</td>\n",
       "      <td>83.875305</td>\n",
       "      <td>0.152323</td>\n",
       "    </tr>\n",
       "    <tr>\n",
       "      <th>1</th>\n",
       "      <td>77.669609</td>\n",
       "      <td>0.247546</td>\n",
       "      <td>63.545090</td>\n",
       "      <td>0.288816</td>\n",
       "    </tr>\n",
       "    <tr>\n",
       "      <th>2</th>\n",
       "      <td>57.433075</td>\n",
       "      <td>0.398648</td>\n",
       "      <td>43.233803</td>\n",
       "      <td>0.453770</td>\n",
       "    </tr>\n",
       "    <tr>\n",
       "      <th>3</th>\n",
       "      <td>37.418915</td>\n",
       "      <td>0.580813</td>\n",
       "      <td>24.251234</td>\n",
       "      <td>0.651226</td>\n",
       "    </tr>\n",
       "    <tr>\n",
       "      <th>4</th>\n",
       "      <td>20.056648</td>\n",
       "      <td>0.760284</td>\n",
       "      <td>11.970469</td>\n",
       "      <td>0.771322</td>\n",
       "    </tr>\n",
       "    <tr>\n",
       "      <th>...</th>\n",
       "      <td>...</td>\n",
       "      <td>...</td>\n",
       "      <td>...</td>\n",
       "      <td>...</td>\n",
       "    </tr>\n",
       "    <tr>\n",
       "      <th>524</th>\n",
       "      <td>4.864634</td>\n",
       "      <td>0.841917</td>\n",
       "      <td>5.295318</td>\n",
       "      <td>0.840097</td>\n",
       "    </tr>\n",
       "    <tr>\n",
       "      <th>525</th>\n",
       "      <td>4.879333</td>\n",
       "      <td>0.844289</td>\n",
       "      <td>5.337078</td>\n",
       "      <td>0.835710</td>\n",
       "    </tr>\n",
       "    <tr>\n",
       "      <th>526</th>\n",
       "      <td>4.885193</td>\n",
       "      <td>0.834044</td>\n",
       "      <td>5.284296</td>\n",
       "      <td>0.843455</td>\n",
       "    </tr>\n",
       "    <tr>\n",
       "      <th>527</th>\n",
       "      <td>4.892731</td>\n",
       "      <td>0.845065</td>\n",
       "      <td>5.294801</td>\n",
       "      <td>0.839728</td>\n",
       "    </tr>\n",
       "    <tr>\n",
       "      <th>528</th>\n",
       "      <td>4.867598</td>\n",
       "      <td>0.836545</td>\n",
       "      <td>5.335870</td>\n",
       "      <td>0.834895</td>\n",
       "    </tr>\n",
       "  </tbody>\n",
       "</table>\n",
       "<p>529 rows × 4 columns</p>\n",
       "</div>"
      ],
      "text/plain": [
       "          loss  accuracy   val_loss  val_accuracy\n",
       "0    99.029037  0.109058  83.875305      0.152323\n",
       "1    77.669609  0.247546  63.545090      0.288816\n",
       "2    57.433075  0.398648  43.233803      0.453770\n",
       "3    37.418915  0.580813  24.251234      0.651226\n",
       "4    20.056648  0.760284  11.970469      0.771322\n",
       "..         ...       ...        ...           ...\n",
       "524   4.864634  0.841917   5.295318      0.840097\n",
       "525   4.879333  0.844289   5.337078      0.835710\n",
       "526   4.885193  0.834044   5.284296      0.843455\n",
       "527   4.892731  0.845065   5.294801      0.839728\n",
       "528   4.867598  0.836545   5.335870      0.834895\n",
       "\n",
       "[529 rows x 4 columns]"
      ]
     },
     "execution_count": 10,
     "metadata": {},
     "output_type": "execute_result"
    }
   ],
   "source": [
    "import json\n",
    "hist = pd.DataFrame(history.history)\n",
    "hist['epoch'] = history.epoch\n",
    "hist = hist.set_index('epoch')\n",
    "hist.to_json('model1.json')\n",
    "\n",
    "with open('model1.json') as json_file:\n",
    "    json_file = json.loads(json_file.read())\n",
    "model1_hist = pd.DataFrame(json_file)\n",
    "model1_hist"
   ]
  },
  {
   "cell_type": "code",
   "execution_count": 11,
   "metadata": {},
   "outputs": [
    {
     "data": {
      "image/png": "[encoded data removed]",
      "text/plain": [
       "<Figure size 1600x600 with 2 Axes>"
      ]
     },
     "metadata": {},
     "output_type": "display_data"
    }
   ],
   "source": [
    "fig = plt.figure(figsize=(16, 6))\n",
    "fig.suptitle('History', fontsize = 21)\n",
    "\n",
    "# Accuracy Plot\n",
    "ax = plt.subplot(1, 2, 1)\n",
    "plt.title(f'Accuracy History', fontsize = 16, y = 1)\n",
    "plt.plot(history.history[\"accuracy\"], color='r', linewidth=2, label=\"Training\")\n",
    "plt.plot(history.history[\"val_accuracy\"], color='b', linewidth=2, label=\"Validation\")\n",
    "\n",
    "# Loss Plot\n",
    "ax = plt.subplot(1, 2, 2)\n",
    "plt.title(f'Loss History', fontsize = 16, y = 1)\n",
    "plt.plot(history.history[\"loss\"], color='r', linewidth=2, label=\"Training\")\n",
    "plt.plot(history.history[\"val_loss\"], color='b', linewidth=2, label=\"Validation\")\n",
    "\n",
    "plt.legend(fontsize=12, loc=(0.7, 0.8))\n",
    "plt.subplots_adjust(right=0.95, left=0.05, top=0.85, bottom=0.15, wspace=0.2, hspace=0.2)\n",
    "plt.show()\n",
    "\n",
    "fig.savefig('model1_history.png', dpi=80, bbox_inches='tight')"
   ]
  }
 ],
 "metadata": {
  "kernelspec": {
   "display_name": "p310_1",
   "language": "python",
   "name": "python3"
  },
  "language_info": {
   "codemirror_mode": {
    "name": "ipython",
    "version": 3
   },
   "file_extension": ".py",
   "mimetype": "text/x-python",
   "name": "python",
   "nbconvert_exporter": "python",
   "pygments_lexer": "ipython3",
   "version": "3.10.11"
  },
  "orig_nbformat": 4
 },
 "nbformat": 4,
 "nbformat_minor": 2
}
