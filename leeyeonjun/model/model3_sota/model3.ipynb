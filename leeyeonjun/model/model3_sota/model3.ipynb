{
 "cells": [
  {
   "cell_type": "code",
   "execution_count": 1,
   "metadata": {},
   "outputs": [
    {
     "name": "stderr",
     "output_type": "stream",
     "text": [
      "C:\\Users\\leeyeonjun85\\AppData\\Local\\Temp\\ipykernel_47544\\3207708561.py:6: DeprecationWarning: the imp module is deprecated in favour of importlib and slated for removal in Python 3.12; see the module's documentation for alternative uses\n",
      "  import imp\n"
     ]
    }
   ],
   "source": [
    "# import os\n",
    "# print(f\"✅ 현재 위치 : {os.getcwd()}\")\n",
    "\n",
    "# 클래스 코드 수정시 캐시된 파이선파일 재설정\n",
    "import model3\n",
    "import imp\n",
    "imp.reload(model3)\n",
    "\n",
    "import numpy as np\n",
    "import sklearn\n",
    "import tensorflow as tf\n",
    "\n",
    "# 클래스 불러오기\n",
    "import model3\n",
    "from model3 import *\n",
    "\n",
    "# 각종 변수 지정\n",
    "csv_path = 'D:/coding/aib/GPTeachersDay/TeamProject1/leeyeonjun/data/mulit_classification_data.csv'\n",
    "model_path = 'D:/coding/aib/GPTeachersDay/TeamProject1/leeyeonjun/model/model3_sota/best_model_weights_classify.h5'\n",
    "\n",
    "# 인스턴스 생성\n",
    "steel = Model_3(csv_path, model_path, 0.8)"
   ]
  },
  {
   "cell_type": "code",
   "execution_count": 2,
   "metadata": {},
   "outputs": [
    {
     "name": "stdout",
     "output_type": "stream",
     "text": [
      "13/13 [==============================] - 1s 5ms/step - loss: 0.9645 - accuracy: 0.8067\n",
      "Loss: 0.964 / Accuracy:0.807\n"
     ]
    }
   ],
   "source": [
    "# 저장된 가중치 불러와서 테스트데이터 평가\n",
    "results = steel.model.evaluate(steel.X_test_scaled, steel.y_test)\n",
    "print(f'Loss: {results[0]:.3f} / Accuracy:{results[1]:.3f}')"
   ]
  },
  {
   "cell_type": "code",
   "execution_count": 19,
   "metadata": {},
   "outputs": [
    {
     "name": "stdout",
     "output_type": "stream",
     "text": [
      "['Bumps' 'Dirtiness' 'K_Scatch' 'Other_Faults' 'Pastry' 'Stains'\n",
      " 'Z_Scratch']\n",
      "\n",
      "        <div class=\"container text-center border border-3 rounded\">\n",
      "            <h5 class=\"p-2 mb-1\">\n",
      "                🔎 강판에는<br>\n",
      "                99.26% 확률로 '<b>K_Scatch</b>' 결합<br>\n",
      "                0.71% 확률로 '<b>Other_Faults</b>' 결합<br>\n",
      "                이 있습니다. 😃\n",
      "            </h5>\n",
      "        </div>\n",
      "        \n"
     ]
    },
    {
     "name": "stderr",
     "output_type": "stream",
     "text": [
      "C:\\Users\\leeyeonjun85\\AppData\\Local\\Temp\\ipykernel_47544\\3786573992.py:5: UserWarning: Boolean Series key will be reindexed to match DataFrame index.\n",
      "  filt = steel.X_test_scaled[steel.df['Fault'] == 2] # K_Scatch\n"
     ]
    }
   ],
   "source": [
    "print(steel.encoder.classes_)\n",
    "# filt = steel.X_test_scaled[steel.df['Fault'] == 0] # Bumps\n",
    "# filt = steel.X_test_scaled[steel.df['Fault'] == 1] # Dirtiness\n",
    "filt = steel.X_test_scaled[steel.df['Fault'] == 2] # K_Scatch\n",
    "# filt = steel.X_test_scaled[steel.df['Fault'] == 3] # Other_Faults\n",
    "# filt = steel.X_test_scaled[steel.df['Fault'] == 4] # Pastry\n",
    "# filt = steel.X_test_scaled[steel.df['Fault'] == 5] # Stains\n",
    "# filt = steel.X_test_scaled[steel.df['Fault'] == 6] # Z_Scratch\n",
    "test_input = list(filt.describe().loc[['mean']].values[0])\n",
    "# print(f'테스트 인풋값 : {np.round(test_input, 3)}')\n",
    "\n",
    "template = steel.input_predict(test_input)\n",
    "print(template)"
   ]
  }
 ],
 "metadata": {
  "kernelspec": {
   "display_name": "p310_1",
   "language": "python",
   "name": "python3"
  },
  "language_info": {
   "codemirror_mode": {
    "name": "ipython",
    "version": 3
   },
   "file_extension": ".py",
   "mimetype": "text/x-python",
   "name": "python",
   "nbconvert_exporter": "python",
   "pygments_lexer": "ipython3",
   "version": "3.10.11"
  },
  "orig_nbformat": 4
 },
 "nbformat": 4,
 "nbformat_minor": 2
}
