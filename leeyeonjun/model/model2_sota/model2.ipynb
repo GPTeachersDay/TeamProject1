{
 "cells": [
  {
   "cell_type": "code",
   "execution_count": 11,
   "metadata": {},
   "outputs": [
    {
     "name": "stdout",
     "output_type": "stream",
     "text": [
      "✅ 인스턴스 생성2\n"
     ]
    }
   ],
   "source": [
    "# import os\n",
    "# print(f\"✅ 현재 위치 : {os.getcwd()}\")\n",
    "\n",
    "# 클래스 코드 수정시 캐시된 파이선파일 재설정\n",
    "import model2\n",
    "import imp\n",
    "imp.reload(model2)\n",
    "import numpy as np\n",
    "# 클래스 불러오기\n",
    "import model2\n",
    "from model2 import *\n",
    "\n",
    "# 각종 변수 지정\n",
    "csv_path = 'D:/coding/aib/GPTeachersDay/TeamProject1/leeyeonjun/data/binary_classification_data.csv'\n",
    "model_path = 'D:/coding/aib/GPTeachersDay/TeamProject1/leeyeonjun/model/model2_sota/model2.h5'\n",
    "\n",
    "# 인스턴스 생성\n",
    "star = Model_2(csv_path, model_path, 0.8)"
   ]
  },
  {
   "cell_type": "code",
   "execution_count": 12,
   "metadata": {},
   "outputs": [
    {
     "name": "stdout",
     "output_type": "stream",
     "text": [
      "112/112 [==============================] - 3s 19ms/step - loss: 0.5563 - tp: 324.0000 - fp: 478.0000 - tn: 2761.0000 - fn: 17.0000 - accuracy: 0.8617 - precision: 0.4040 - recall: 0.9501 - auc: 0.9641 - prc: 0.7319\n",
      "Test Loss : 0.556 / Recall : 0.950\n"
     ]
    }
   ],
   "source": [
    "# 저장된 가중치 불러와서 테스트데이터 평가\n",
    "star.model.load_weights('model2.h5')\n",
    "results = star.model.evaluate(star.X_test, star.y_test)\n",
    "print(f'Test Loss : {results[0]:.3f} / Recall : {results[7]:.3f}')"
   ]
  },
  {
   "cell_type": "code",
   "execution_count": 13,
   "metadata": {},
   "outputs": [
    {
     "data": {
      "text/html": [
       "<div>\n",
       "<style scoped>\n",
       "    .dataframe tbody tr th:only-of-type {\n",
       "        vertical-align: middle;\n",
       "    }\n",
       "\n",
       "    .dataframe tbody tr th {\n",
       "        vertical-align: top;\n",
       "    }\n",
       "\n",
       "    .dataframe thead th {\n",
       "        text-align: right;\n",
       "    }\n",
       "</style>\n",
       "<table border=\"1\" class=\"dataframe\">\n",
       "  <thead>\n",
       "    <tr style=\"text-align: right;\">\n",
       "      <th></th>\n",
       "      <th>val_loss</th>\n",
       "      <th>val_tp</th>\n",
       "      <th>val_fp</th>\n",
       "      <th>val_tn</th>\n",
       "      <th>val_fn</th>\n",
       "      <th>val_accuracy</th>\n",
       "      <th>val_precision</th>\n",
       "      <th>val_recall</th>\n",
       "      <th>val_auc</th>\n",
       "      <th>val_prc</th>\n",
       "      <th>lr</th>\n",
       "    </tr>\n",
       "  </thead>\n",
       "  <tbody>\n",
       "    <tr>\n",
       "      <th>346</th>\n",
       "      <td>0.609944</td>\n",
       "      <td>261.0</td>\n",
       "      <td>389.0</td>\n",
       "      <td>2204.0</td>\n",
       "      <td>10.0</td>\n",
       "      <td>0.860684</td>\n",
       "      <td>0.401538</td>\n",
       "      <td>0.963100</td>\n",
       "      <td>0.975885</td>\n",
       "      <td>0.760238</td>\n",
       "      <td>0.007326</td>\n",
       "    </tr>\n",
       "    <tr>\n",
       "      <th>347</th>\n",
       "      <td>0.276315</td>\n",
       "      <td>255.0</td>\n",
       "      <td>163.0</td>\n",
       "      <td>2430.0</td>\n",
       "      <td>16.0</td>\n",
       "      <td>0.937500</td>\n",
       "      <td>0.610048</td>\n",
       "      <td>0.940959</td>\n",
       "      <td>0.983401</td>\n",
       "      <td>0.870941</td>\n",
       "      <td>0.007312</td>\n",
       "    </tr>\n",
       "    <tr>\n",
       "      <th>349</th>\n",
       "      <td>0.103053</td>\n",
       "      <td>254.0</td>\n",
       "      <td>54.0</td>\n",
       "      <td>2539.0</td>\n",
       "      <td>17.0</td>\n",
       "      <td>0.975209</td>\n",
       "      <td>0.824675</td>\n",
       "      <td>0.937269</td>\n",
       "      <td>0.987861</td>\n",
       "      <td>0.931511</td>\n",
       "      <td>0.007284</td>\n",
       "    </tr>\n",
       "    <tr>\n",
       "      <th>348</th>\n",
       "      <td>0.203498</td>\n",
       "      <td>253.0</td>\n",
       "      <td>147.0</td>\n",
       "      <td>2446.0</td>\n",
       "      <td>18.0</td>\n",
       "      <td>0.942388</td>\n",
       "      <td>0.632500</td>\n",
       "      <td>0.933579</td>\n",
       "      <td>0.984345</td>\n",
       "      <td>0.894920</td>\n",
       "      <td>0.007298</td>\n",
       "    </tr>\n",
       "    <tr>\n",
       "      <th>78</th>\n",
       "      <td>0.105193</td>\n",
       "      <td>252.0</td>\n",
       "      <td>50.0</td>\n",
       "      <td>2543.0</td>\n",
       "      <td>19.0</td>\n",
       "      <td>0.975908</td>\n",
       "      <td>0.834437</td>\n",
       "      <td>0.929889</td>\n",
       "      <td>0.982408</td>\n",
       "      <td>0.939844</td>\n",
       "      <td>0.009851</td>\n",
       "    </tr>\n",
       "  </tbody>\n",
       "</table>\n",
       "</div>"
      ],
      "text/plain": [
       "     val_loss  val_tp  val_fp  val_tn  val_fn  val_accuracy  val_precision  \\\n",
       "346  0.609944   261.0   389.0  2204.0    10.0      0.860684       0.401538   \n",
       "347  0.276315   255.0   163.0  2430.0    16.0      0.937500       0.610048   \n",
       "349  0.103053   254.0    54.0  2539.0    17.0      0.975209       0.824675   \n",
       "348  0.203498   253.0   147.0  2446.0    18.0      0.942388       0.632500   \n",
       "78   0.105193   252.0    50.0  2543.0    19.0      0.975908       0.834437   \n",
       "\n",
       "     val_recall   val_auc   val_prc        lr  \n",
       "346    0.963100  0.975885  0.760238  0.007326  \n",
       "347    0.940959  0.983401  0.870941  0.007312  \n",
       "349    0.937269  0.987861  0.931511  0.007284  \n",
       "348    0.933579  0.984345  0.894920  0.007298  \n",
       "78     0.929889  0.982408  0.939844  0.009851  "
      ]
     },
     "execution_count": 13,
     "metadata": {},
     "output_type": "execute_result"
    }
   ],
   "source": [
    "# 학습 기록 json 확인\n",
    "import json\n",
    "with open('model2.json') as json_file:\n",
    "    json_file = json.loads(json_file.read())\n",
    "model2_hist = pd.DataFrame(json_file)\n",
    "model2_hist.sort_values(by=['val_recall'], ascending=False).iloc[:5,10:]"
   ]
  },
  {
   "cell_type": "code",
   "execution_count": 16,
   "metadata": {},
   "outputs": [
    {
     "name": "stdout",
     "output_type": "stream",
     "text": [
      "테스트 인풋값 : [56.691 38.711  3.131 15.554 49.826 56.469  2.757 17.932]\n",
      "✅ input_list : [56.690607840146434, 38.71059825091519, 3.1306553846644296, 15.553576032483223, 49.82599513151983, 56.46896295494326, 2.7570685762983524, 17.93172838452288]\n",
      "✅ input_scaled : [[-2.12688825 -1.15220028  2.52052466  2.27360865  1.28020533  1.55735052\n",
      "  -1.24149101 -0.82309135]]\n",
      "맥동성 여부 : 1\n"
     ]
    },
    {
     "name": "stderr",
     "output_type": "stream",
     "text": [
      "c:\\Users\\leeyeonjun85\\.conda\\envs\\p310_1\\lib\\site-packages\\sklearn\\base.py:439: UserWarning: X does not have valid feature names, but StandardScaler was fitted with feature names\n",
      "  warnings.warn(\n"
     ]
    }
   ],
   "source": [
    "# filt = star.X[star.df['target_class'] == 0]\n",
    "filt = star.X[star.df['target_class'] == 1]\n",
    "test_input = list(filt.describe().loc[['mean']].values[0])\n",
    "print(f'테스트 인풋값 : {np.round(test_input, 3)}')\n",
    "\n",
    "result = star.input_predict(test_input)\n",
    "print(f'맥동성 여부 : {result}')"
   ]
  }
 ],
 "metadata": {
  "kernelspec": {
   "display_name": "p310_1",
   "language": "python",
   "name": "python3"
  },
  "language_info": {
   "codemirror_mode": {
    "name": "ipython",
    "version": 3
   },
   "file_extension": ".py",
   "mimetype": "text/x-python",
   "name": "python",
   "nbconvert_exporter": "python",
   "pygments_lexer": "ipython3",
   "version": "3.10.11"
  },
  "orig_nbformat": 4
 },
 "nbformat": 4,
 "nbformat_minor": 2
}
