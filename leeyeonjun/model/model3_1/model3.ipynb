{
 "cells": [
  {
   "cell_type": "code",
   "execution_count": 3,
   "metadata": {},
   "outputs": [
    {
     "ename": "ValueError",
     "evalue": "Cannot assign value to variable ' dense_9/kernel:0': Shape mismatch.The variable shape (27, 1024), and the assigned value shape (20, 256) are incompatible.",
     "output_type": "error",
     "traceback": [
      "\u001b[1;31m---------------------------------------------------------------------------\u001b[0m",
      "\u001b[1;31mValueError\u001b[0m                                Traceback (most recent call last)",
      "Cell \u001b[1;32mIn[3], line 22\u001b[0m\n\u001b[0;32m     19\u001b[0m model_path \u001b[39m=\u001b[39m \u001b[39m'\u001b[39m\u001b[39mD:/coding/aib/GPTeachersDay/TeamProject1/leeyeonjun/model/model3_1/best_model_weights_classify.h5\u001b[39m\u001b[39m'\u001b[39m\n\u001b[0;32m     21\u001b[0m \u001b[39m# 인스턴스 생성\u001b[39;00m\n\u001b[1;32m---> 22\u001b[0m steel \u001b[39m=\u001b[39m Model_3(csv_path, model_path, \u001b[39m0.8\u001b[39;49m)\n",
      "File \u001b[1;32md:\\coding\\aib\\GPTeachersDay\\TeamProject1\\leeyeonjun\\model\\model3_1\\model3.py:30\u001b[0m, in \u001b[0;36mModel_3.__init__\u001b[1;34m(self, csv_path, model_path, TRAIN_RATIO)\u001b[0m\n\u001b[0;32m     28\u001b[0m \u001b[39m# 모델생성\u001b[39;00m\n\u001b[0;32m     29\u001b[0m \u001b[39mself\u001b[39m\u001b[39m.\u001b[39mmodel \u001b[39m=\u001b[39m \u001b[39mself\u001b[39m\u001b[39m.\u001b[39mget_model()\n\u001b[1;32m---> 30\u001b[0m \u001b[39mself\u001b[39;49m\u001b[39m.\u001b[39;49mmodel\u001b[39m.\u001b[39;49mload_weights(model_path)\n",
      "File \u001b[1;32mc:\\Users\\leeyeonjun85\\.conda\\envs\\p310_1\\lib\\site-packages\\keras\\utils\\traceback_utils.py:70\u001b[0m, in \u001b[0;36mfilter_traceback.<locals>.error_handler\u001b[1;34m(*args, **kwargs)\u001b[0m\n\u001b[0;32m     67\u001b[0m     filtered_tb \u001b[39m=\u001b[39m _process_traceback_frames(e\u001b[39m.\u001b[39m__traceback__)\n\u001b[0;32m     68\u001b[0m     \u001b[39m# To get the full stack trace, call:\u001b[39;00m\n\u001b[0;32m     69\u001b[0m     \u001b[39m# `tf.debugging.disable_traceback_filtering()`\u001b[39;00m\n\u001b[1;32m---> 70\u001b[0m     \u001b[39mraise\u001b[39;00m e\u001b[39m.\u001b[39mwith_traceback(filtered_tb) \u001b[39mfrom\u001b[39;00m \u001b[39mNone\u001b[39;00m\n\u001b[0;32m     71\u001b[0m \u001b[39mfinally\u001b[39;00m:\n\u001b[0;32m     72\u001b[0m     \u001b[39mdel\u001b[39;00m filtered_tb\n",
      "File \u001b[1;32mc:\\Users\\leeyeonjun85\\.conda\\envs\\p310_1\\lib\\site-packages\\keras\\backend.py:4302\u001b[0m, in \u001b[0;36mbatch_set_value\u001b[1;34m(tuples)\u001b[0m\n\u001b[0;32m   4300\u001b[0m \u001b[39mif\u001b[39;00m tf\u001b[39m.\u001b[39mexecuting_eagerly() \u001b[39mor\u001b[39;00m tf\u001b[39m.\u001b[39minside_function():\n\u001b[0;32m   4301\u001b[0m     \u001b[39mfor\u001b[39;00m x, value \u001b[39min\u001b[39;00m tuples:\n\u001b[1;32m-> 4302\u001b[0m         x\u001b[39m.\u001b[39;49massign(np\u001b[39m.\u001b[39;49masarray(value, dtype\u001b[39m=\u001b[39;49mdtype_numpy(x)))\n\u001b[0;32m   4303\u001b[0m \u001b[39melse\u001b[39;00m:\n\u001b[0;32m   4304\u001b[0m     \u001b[39mwith\u001b[39;00m get_graph()\u001b[39m.\u001b[39mas_default():\n",
      "\u001b[1;31mValueError\u001b[0m: Cannot assign value to variable ' dense_9/kernel:0': Shape mismatch.The variable shape (27, 1024), and the assigned value shape (20, 256) are incompatible."
     ]
    }
   ],
   "source": [
    "# import os\n",
    "# print(f\"✅ 현재 위치 : {os.getcwd()}\")\n",
    "\n",
    "# 클래스 코드 수정시 캐시된 파이선파일 재설정\n",
    "import model3\n",
    "import imp\n",
    "imp.reload(model3)\n",
    "\n",
    "import numpy as np\n",
    "import sklearn\n",
    "import tensorflow as tf\n",
    "\n",
    "# 클래스 불러오기\n",
    "import model3\n",
    "from model3 import *\n",
    "\n",
    "# 각종 변수 지정\n",
    "csv_path = 'D:/coding/aib/GPTeachersDay/TeamProject1/leeyeonjun/data/mulit_classification_data.csv'\n",
    "model_path = 'D:/coding/aib/GPTeachersDay/TeamProject1/leeyeonjun/model/model3_1/best_model_weights_classify.h5'\n",
    "\n",
    "# 인스턴스 생성\n",
    "steel = Model_3(csv_path, model_path, 0.8)"
   ]
  },
  {
   "cell_type": "code",
   "execution_count": 2,
   "metadata": {},
   "outputs": [
    {
     "name": "stdout",
     "output_type": "stream",
     "text": [
      "13/13 [==============================] - 1s 6ms/step - loss: 1.1904 - accuracy: 0.7532\n",
      "Loss: 1.190 / Accuracy:0.753\n"
     ]
    }
   ],
   "source": [
    "# 저장된 가중치 불러와서 테스트데이터 평가\n",
    "results = steel.model.evaluate(steel.X_test, steel.y_test)\n",
    "\n",
    "print(f'Loss: {results[0]:.3f} / Accuracy:{results[1]:.3f}')"
   ]
  },
  {
   "cell_type": "code",
   "execution_count": 164,
   "metadata": {},
   "outputs": [
    {
     "data": {
      "text/html": [
       "<div>\n",
       "<style scoped>\n",
       "    .dataframe tbody tr th:only-of-type {\n",
       "        vertical-align: middle;\n",
       "    }\n",
       "\n",
       "    .dataframe tbody tr th {\n",
       "        vertical-align: top;\n",
       "    }\n",
       "\n",
       "    .dataframe thead th {\n",
       "        text-align: right;\n",
       "    }\n",
       "</style>\n",
       "<table border=\"1\" class=\"dataframe\">\n",
       "  <thead>\n",
       "    <tr style=\"text-align: right;\">\n",
       "      <th></th>\n",
       "      <th>loss</th>\n",
       "      <th>accuracy</th>\n",
       "      <th>val_loss</th>\n",
       "      <th>val_accuracy</th>\n",
       "      <th>lr</th>\n",
       "    </tr>\n",
       "  </thead>\n",
       "  <tbody>\n",
       "    <tr>\n",
       "      <th>0</th>\n",
       "      <td>82.058937</td>\n",
       "      <td>0.164384</td>\n",
       "      <td>91.637733</td>\n",
       "      <td>0.324759</td>\n",
       "      <td>0.001</td>\n",
       "    </tr>\n",
       "    <tr>\n",
       "      <th>1</th>\n",
       "      <td>92.988396</td>\n",
       "      <td>0.346495</td>\n",
       "      <td>84.931625</td>\n",
       "      <td>0.221865</td>\n",
       "      <td>0.001</td>\n",
       "    </tr>\n",
       "    <tr>\n",
       "      <th>2</th>\n",
       "      <td>86.373833</td>\n",
       "      <td>0.198227</td>\n",
       "      <td>77.636223</td>\n",
       "      <td>0.279743</td>\n",
       "      <td>0.001</td>\n",
       "    </tr>\n",
       "    <tr>\n",
       "      <th>3</th>\n",
       "      <td>78.185234</td>\n",
       "      <td>0.238517</td>\n",
       "      <td>74.767197</td>\n",
       "      <td>0.086817</td>\n",
       "      <td>0.001</td>\n",
       "    </tr>\n",
       "    <tr>\n",
       "      <th>4</th>\n",
       "      <td>75.024757</td>\n",
       "      <td>0.103948</td>\n",
       "      <td>72.513588</td>\n",
       "      <td>0.180064</td>\n",
       "      <td>0.001</td>\n",
       "    </tr>\n",
       "    <tr>\n",
       "      <th>...</th>\n",
       "      <td>...</td>\n",
       "      <td>...</td>\n",
       "      <td>...</td>\n",
       "      <td>...</td>\n",
       "      <td>...</td>\n",
       "    </tr>\n",
       "    <tr>\n",
       "      <th>295</th>\n",
       "      <td>0.923681</td>\n",
       "      <td>0.846898</td>\n",
       "      <td>1.228266</td>\n",
       "      <td>0.762058</td>\n",
       "      <td>0.001</td>\n",
       "    </tr>\n",
       "    <tr>\n",
       "      <th>296</th>\n",
       "      <td>0.924513</td>\n",
       "      <td>0.854150</td>\n",
       "      <td>1.231784</td>\n",
       "      <td>0.762058</td>\n",
       "      <td>0.001</td>\n",
       "    </tr>\n",
       "    <tr>\n",
       "      <th>297</th>\n",
       "      <td>0.921703</td>\n",
       "      <td>0.850927</td>\n",
       "      <td>1.247968</td>\n",
       "      <td>0.755627</td>\n",
       "      <td>0.001</td>\n",
       "    </tr>\n",
       "    <tr>\n",
       "      <th>298</th>\n",
       "      <td>0.915258</td>\n",
       "      <td>0.845286</td>\n",
       "      <td>1.221015</td>\n",
       "      <td>0.752412</td>\n",
       "      <td>0.001</td>\n",
       "    </tr>\n",
       "    <tr>\n",
       "      <th>299</th>\n",
       "      <td>0.920616</td>\n",
       "      <td>0.847703</td>\n",
       "      <td>1.262298</td>\n",
       "      <td>0.745981</td>\n",
       "      <td>0.001</td>\n",
       "    </tr>\n",
       "  </tbody>\n",
       "</table>\n",
       "<p>300 rows × 5 columns</p>\n",
       "</div>"
      ],
      "text/plain": [
       "          loss  accuracy   val_loss  val_accuracy     lr\n",
       "0    82.058937  0.164384  91.637733      0.324759  0.001\n",
       "1    92.988396  0.346495  84.931625      0.221865  0.001\n",
       "2    86.373833  0.198227  77.636223      0.279743  0.001\n",
       "3    78.185234  0.238517  74.767197      0.086817  0.001\n",
       "4    75.024757  0.103948  72.513588      0.180064  0.001\n",
       "..         ...       ...        ...           ...    ...\n",
       "295   0.923681  0.846898   1.228266      0.762058  0.001\n",
       "296   0.924513  0.854150   1.231784      0.762058  0.001\n",
       "297   0.921703  0.850927   1.247968      0.755627  0.001\n",
       "298   0.915258  0.845286   1.221015      0.752412  0.001\n",
       "299   0.920616  0.847703   1.262298      0.745981  0.001\n",
       "\n",
       "[300 rows x 5 columns]"
      ]
     },
     "execution_count": 164,
     "metadata": {},
     "output_type": "execute_result"
    }
   ],
   "source": [
    "# 학습 기록 json 확인\n",
    "import json\n",
    "with open('model3.json') as json_file:\n",
    "    json_file = json.loads(json_file.read())\n",
    "model3_hist = pd.DataFrame(json_file)\n",
    "model3_hist"
   ]
  },
  {
   "cell_type": "code",
   "execution_count": 165,
   "metadata": {},
   "outputs": [
    {
     "data": {
      "text/html": [
       "<div>\n",
       "<style scoped>\n",
       "    .dataframe tbody tr th:only-of-type {\n",
       "        vertical-align: middle;\n",
       "    }\n",
       "\n",
       "    .dataframe tbody tr th {\n",
       "        vertical-align: top;\n",
       "    }\n",
       "\n",
       "    .dataframe thead th {\n",
       "        text-align: right;\n",
       "    }\n",
       "</style>\n",
       "<table border=\"1\" class=\"dataframe\">\n",
       "  <thead>\n",
       "    <tr style=\"text-align: right;\">\n",
       "      <th></th>\n",
       "      <th>loss</th>\n",
       "      <th>accuracy</th>\n",
       "      <th>val_loss</th>\n",
       "      <th>val_accuracy</th>\n",
       "      <th>lr</th>\n",
       "    </tr>\n",
       "  </thead>\n",
       "  <tbody>\n",
       "    <tr>\n",
       "      <th>298</th>\n",
       "      <td>0.915258</td>\n",
       "      <td>0.845286</td>\n",
       "      <td>1.221015</td>\n",
       "      <td>0.752412</td>\n",
       "      <td>0.001</td>\n",
       "    </tr>\n",
       "    <tr>\n",
       "      <th>295</th>\n",
       "      <td>0.923681</td>\n",
       "      <td>0.846898</td>\n",
       "      <td>1.228266</td>\n",
       "      <td>0.762058</td>\n",
       "      <td>0.001</td>\n",
       "    </tr>\n",
       "    <tr>\n",
       "      <th>293</th>\n",
       "      <td>0.932745</td>\n",
       "      <td>0.850121</td>\n",
       "      <td>1.229056</td>\n",
       "      <td>0.765273</td>\n",
       "      <td>0.001</td>\n",
       "    </tr>\n",
       "    <tr>\n",
       "      <th>296</th>\n",
       "      <td>0.924513</td>\n",
       "      <td>0.854150</td>\n",
       "      <td>1.231784</td>\n",
       "      <td>0.762058</td>\n",
       "      <td>0.001</td>\n",
       "    </tr>\n",
       "    <tr>\n",
       "      <th>291</th>\n",
       "      <td>0.957041</td>\n",
       "      <td>0.830782</td>\n",
       "      <td>1.244908</td>\n",
       "      <td>0.762058</td>\n",
       "      <td>0.001</td>\n",
       "    </tr>\n",
       "  </tbody>\n",
       "</table>\n",
       "</div>"
      ],
      "text/plain": [
       "         loss  accuracy  val_loss  val_accuracy     lr\n",
       "298  0.915258  0.845286  1.221015      0.752412  0.001\n",
       "295  0.923681  0.846898  1.228266      0.762058  0.001\n",
       "293  0.932745  0.850121  1.229056      0.765273  0.001\n",
       "296  0.924513  0.854150  1.231784      0.762058  0.001\n",
       "291  0.957041  0.830782  1.244908      0.762058  0.001"
      ]
     },
     "execution_count": 165,
     "metadata": {},
     "output_type": "execute_result"
    }
   ],
   "source": [
    "model3_hist.sort_values(by=['val_loss'], ascending=True).iloc[:5,:]"
   ]
  },
  {
   "cell_type": "code",
   "execution_count": 166,
   "metadata": {},
   "outputs": [
    {
     "data": {
      "text/plain": [
       "0       4\n",
       "1       4\n",
       "2       4\n",
       "3       4\n",
       "4       4\n",
       "       ..\n",
       "1936    3\n",
       "1937    3\n",
       "1938    3\n",
       "1939    3\n",
       "1940    3\n",
       "Name: Fault, Length: 1941, dtype: int32"
      ]
     },
     "execution_count": 166,
     "metadata": {},
     "output_type": "execute_result"
    }
   ],
   "source": [
    "steel.df['Fault']"
   ]
  },
  {
   "cell_type": "code",
   "execution_count": 167,
   "metadata": {},
   "outputs": [
    {
     "data": {
      "text/plain": [
       "array([[1.09050192e-01, 2.20374437e-03, 2.75770873e-01, ...,\n",
       "        1.12246163e-02, 1.11082615e-02, 7.15121906e-03],\n",
       "       [9.21988070e-01, 7.53213244e-05, 1.41311437e-04, ...,\n",
       "        2.84192920e-05, 5.52825441e-05, 1.01999636e-03],\n",
       "       [2.96297371e-02, 1.40663562e-02, 1.42941324e-04, ...,\n",
       "        5.78134835e-01, 9.64383435e-06, 2.37041677e-05],\n",
       "       ...,\n",
       "       [2.11185403e-03, 3.83028691e-06, 9.94466484e-01, ...,\n",
       "        1.28896363e-05, 4.17622214e-05, 3.74688621e-04],\n",
       "       [2.36817114e-02, 2.50652269e-03, 1.97948050e-03, ...,\n",
       "        5.81561744e-01, 2.58571472e-05, 2.22561612e-05],\n",
       "       [4.07349318e-01, 6.47429551e-04, 5.46827959e-03, ...,\n",
       "        1.48469852e-02, 1.00854981e-04, 3.65690631e-03]], dtype=float32)"
      ]
     },
     "execution_count": 167,
     "metadata": {},
     "output_type": "execute_result"
    }
   ],
   "source": [
    "steel.model.predict(steel.X_test, verbose=0)"
   ]
  },
  {
   "cell_type": "code",
   "execution_count": 168,
   "metadata": {},
   "outputs": [
    {
     "name": "stdout",
     "output_type": "stream",
     "text": [
      "[[ 8.87927273e+02  8.99163636e+02  2.31830405e+06  2.31836076e+06\n",
      "   3.63490909e+02  4.51636364e+01  5.78545455e+01  4.05450545e+04\n",
      "   1.02000000e+02  1.32618182e+02  1.41463636e+03  1.63636364e-01\n",
      "   8.36363636e-01  8.44545455e+01  5.13347273e-01  4.04147273e-01\n",
      "   2.30592727e-01  7.78181818e-03  3.53330909e-01  9.46320000e-01\n",
      "   8.72727273e-01  2.33376182e+00  9.95763636e-01  1.56902364e+00\n",
      "   5.95341818e-01 -9.18563636e-02  5.84501818e-01]]\n"
     ]
    },
    {
     "data": {
      "text/plain": [
       "array([[0., 0., 0., 1., 0., 0., 0.]], dtype=float32)"
      ]
     },
     "execution_count": 168,
     "metadata": {},
     "output_type": "execute_result"
    }
   ],
   "source": [
    "filt = steel.X[steel.df['Fault'] == 1]\n",
    "test_input = list(filt.describe().loc[['mean']].values[0])\n",
    "test_input = np.array([test_input])\n",
    "print(test_input)\n",
    "steel.model.predict(test_input, verbose=0)"
   ]
  },
  {
   "cell_type": "code",
   "execution_count": 169,
   "metadata": {},
   "outputs": [
    {
     "name": "stdout",
     "output_type": "stream",
     "text": [
      "✅ input_list : [887.9272727272727, 899.1636363636363, 2318304.0545454547, 2318360.7636363637, 363.4909090909091, 45.163636363636364, 57.85454545454545, 40545.05454545454, 102.0, 132.61818181818182, 1414.6363636363637, 0.16363636363636364, 0.8363636363636363, 84.45454545454545, 0.5133472727272729, 0.40414727272727274, 0.2305927272727273, 0.007781818181818182, 0.3533309090909091, 0.94632, 0.8727272727272727, 2.3337618181818183, 0.9957636363636365, 1.5690236363636367, 0.5953418181818182, -0.09185636363636361, 0.5845018181818182]\n",
      "✅ input_scaled : [[0.52077846 0.52379382 0.17904993 0.17905271 0.00234191 0.00403634\n",
      "  0.00307739 0.00343217 0.52040816 0.44473573 0.33092833 0.16363636\n",
      "  0.83636364 0.17097902 0.51582322 0.41081462 0.2241532  0.00638871\n",
      "  0.34388282 0.94358974 0.87272727 0.35309541 0.19971646 0.32039408\n",
      "  0.8000917  0.57025251 0.52449281]]\n",
      "✅ result_list : [[0.20778985 0.42537433 0.00451265 0.17854305 0.14404792 0.00984425\n",
      "  0.02988793]]\n",
      "✅ y_label : 1\n",
      "✅ y_RESULT : Dirtiness\n",
      "결과 : Dirtiness\n"
     ]
    },
    {
     "name": "stderr",
     "output_type": "stream",
     "text": [
      "c:\\Users\\leeyeonjun85\\.conda\\envs\\p310_1\\lib\\site-packages\\sklearn\\base.py:439: UserWarning: X does not have valid feature names, but MinMaxScaler was fitted with feature names\n",
      "  warnings.warn(\n"
     ]
    }
   ],
   "source": [
    "# filt = steel.X[steel.df['target_class'] == 0]\n",
    "filt = steel.X[steel.df['Fault'] == 1]\n",
    "test_input = list(filt.describe().loc[['mean']].values[0])\n",
    "# print(f'테스트 인풋값 : {np.round(test_input, 3)}')\n",
    "\n",
    "result = steel.input_predict(test_input)\n",
    "print(f'결과 : {result}')"
   ]
  }
 ],
 "metadata": {
  "kernelspec": {
   "display_name": "p310_1",
   "language": "python",
   "name": "python3"
  },
  "language_info": {
   "codemirror_mode": {
    "name": "ipython",
    "version": 3
   },
   "file_extension": ".py",
   "mimetype": "text/x-python",
   "name": "python",
   "nbconvert_exporter": "python",
   "pygments_lexer": "ipython3",
   "version": "3.10.11"
  },
  "orig_nbformat": 4
 },
 "nbformat": 4,
 "nbformat_minor": 2
}
