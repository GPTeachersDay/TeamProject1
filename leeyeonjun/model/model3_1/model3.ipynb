{
 "cells": [
  {
   "cell_type": "code",
   "execution_count": 61,
   "metadata": {},
   "outputs": [
    {
     "name": "stdout",
     "output_type": "stream",
     "text": [
      "✅ 인스턴스 생성5\n"
     ]
    }
   ],
   "source": [
    "# import os\n",
    "# print(f\"✅ 현재 위치 : {os.getcwd()}\")\n",
    "\n",
    "# 클래스 코드 수정시 캐시된 파이선파일 재설정\n",
    "import model3\n",
    "import imp\n",
    "imp.reload(model3)\n",
    "\n",
    "import numpy as np\n",
    "import sklearn\n",
    "import tensorflow as tf\n",
    "\n",
    "# 클래스 불러오기\n",
    "import model3\n",
    "from model3 import *\n",
    "\n",
    "# 각종 변수 지정\n",
    "csv_path = 'D:/coding/aib/GPTeachersDay/TeamProject1/leeyeonjun/data/mulit_classification_data.csv'\n",
    "model_path = 'D:/coding/aib/GPTeachersDay/TeamProject1/leeyeonjun/model/model3_1/model3.h5'\n",
    "\n",
    "# 인스턴스 생성\n",
    "steel = Model_3(csv_path, model_path, 0.8)"
   ]
  },
  {
   "cell_type": "code",
   "execution_count": 62,
   "metadata": {},
   "outputs": [
    {
     "name": "stdout",
     "output_type": "stream",
     "text": [
      "13/13 [==============================] - 0s 5ms/step - loss: 11930556.0000 - accuracy: 0.3650\n",
      "Loss: 11930556.000 / Accuracy:0.365\n"
     ]
    }
   ],
   "source": [
    "# 저장된 가중치 불러와서 테스트데이터 평가\n",
    "results = steel.model.evaluate(steel.X_test, steel.y_test)\n",
    "\n",
    "print(f'Loss: {results[0]:.3f} / Accuracy:{results[1]:.3f}')"
   ]
  },
  {
   "cell_type": "code",
   "execution_count": 23,
   "metadata": {},
   "outputs": [
    {
     "data": {
      "text/html": [
       "<div>\n",
       "<style scoped>\n",
       "    .dataframe tbody tr th:only-of-type {\n",
       "        vertical-align: middle;\n",
       "    }\n",
       "\n",
       "    .dataframe tbody tr th {\n",
       "        vertical-align: top;\n",
       "    }\n",
       "\n",
       "    .dataframe thead th {\n",
       "        text-align: right;\n",
       "    }\n",
       "</style>\n",
       "<table border=\"1\" class=\"dataframe\">\n",
       "  <thead>\n",
       "    <tr style=\"text-align: right;\">\n",
       "      <th></th>\n",
       "      <th>val_loss</th>\n",
       "      <th>val_tp</th>\n",
       "      <th>val_fp</th>\n",
       "      <th>val_tn</th>\n",
       "      <th>val_fn</th>\n",
       "      <th>val_accuracy</th>\n",
       "      <th>val_precision</th>\n",
       "      <th>val_recall</th>\n",
       "      <th>val_auc</th>\n",
       "      <th>val_prc</th>\n",
       "      <th>lr</th>\n",
       "    </tr>\n",
       "  </thead>\n",
       "  <tbody>\n",
       "    <tr>\n",
       "      <th>256</th>\n",
       "      <td>0.063732</td>\n",
       "      <td>240.0</td>\n",
       "      <td>24.0</td>\n",
       "      <td>2569.0</td>\n",
       "      <td>31.0</td>\n",
       "      <td>0.980796</td>\n",
       "      <td>0.909091</td>\n",
       "      <td>0.885609</td>\n",
       "      <td>0.988227</td>\n",
       "      <td>0.950635</td>\n",
       "      <td>4.000000e-05</td>\n",
       "    </tr>\n",
       "    <tr>\n",
       "      <th>257</th>\n",
       "      <td>0.063765</td>\n",
       "      <td>240.0</td>\n",
       "      <td>24.0</td>\n",
       "      <td>2569.0</td>\n",
       "      <td>31.0</td>\n",
       "      <td>0.980796</td>\n",
       "      <td>0.909091</td>\n",
       "      <td>0.885609</td>\n",
       "      <td>0.988167</td>\n",
       "      <td>0.950463</td>\n",
       "      <td>4.000000e-05</td>\n",
       "    </tr>\n",
       "    <tr>\n",
       "      <th>369</th>\n",
       "      <td>0.063778</td>\n",
       "      <td>240.0</td>\n",
       "      <td>23.0</td>\n",
       "      <td>2570.0</td>\n",
       "      <td>31.0</td>\n",
       "      <td>0.981145</td>\n",
       "      <td>0.912548</td>\n",
       "      <td>0.885609</td>\n",
       "      <td>0.988912</td>\n",
       "      <td>0.950536</td>\n",
       "      <td>1.280000e-08</td>\n",
       "    </tr>\n",
       "    <tr>\n",
       "      <th>370</th>\n",
       "      <td>0.063780</td>\n",
       "      <td>240.0</td>\n",
       "      <td>23.0</td>\n",
       "      <td>2570.0</td>\n",
       "      <td>31.0</td>\n",
       "      <td>0.981145</td>\n",
       "      <td>0.912548</td>\n",
       "      <td>0.885609</td>\n",
       "      <td>0.988948</td>\n",
       "      <td>0.950583</td>\n",
       "      <td>1.280000e-08</td>\n",
       "    </tr>\n",
       "    <tr>\n",
       "      <th>368</th>\n",
       "      <td>0.063783</td>\n",
       "      <td>240.0</td>\n",
       "      <td>23.0</td>\n",
       "      <td>2570.0</td>\n",
       "      <td>31.0</td>\n",
       "      <td>0.981145</td>\n",
       "      <td>0.912548</td>\n",
       "      <td>0.885609</td>\n",
       "      <td>0.989219</td>\n",
       "      <td>0.950982</td>\n",
       "      <td>1.280000e-08</td>\n",
       "    </tr>\n",
       "  </tbody>\n",
       "</table>\n",
       "</div>"
      ],
      "text/plain": [
       "     val_loss  val_tp  val_fp  val_tn  val_fn  val_accuracy  val_precision  \\\n",
       "256  0.063732   240.0    24.0  2569.0    31.0      0.980796       0.909091   \n",
       "257  0.063765   240.0    24.0  2569.0    31.0      0.980796       0.909091   \n",
       "369  0.063778   240.0    23.0  2570.0    31.0      0.981145       0.912548   \n",
       "370  0.063780   240.0    23.0  2570.0    31.0      0.981145       0.912548   \n",
       "368  0.063783   240.0    23.0  2570.0    31.0      0.981145       0.912548   \n",
       "\n",
       "     val_recall   val_auc   val_prc            lr  \n",
       "256    0.885609  0.988227  0.950635  4.000000e-05  \n",
       "257    0.885609  0.988167  0.950463  4.000000e-05  \n",
       "369    0.885609  0.988912  0.950536  1.280000e-08  \n",
       "370    0.885609  0.988948  0.950583  1.280000e-08  \n",
       "368    0.885609  0.989219  0.950982  1.280000e-08  "
      ]
     },
     "execution_count": 23,
     "metadata": {},
     "output_type": "execute_result"
    }
   ],
   "source": [
    "# 학습 기록 json 확인\n",
    "import json\n",
    "with open('model2.json') as json_file:\n",
    "    json_file = json.loads(json_file.read())\n",
    "model2_hist = pd.DataFrame(json_file)\n",
    "model2_hist.sort_values(by=['val_loss'], ascending=True).iloc[:5,10:]"
   ]
  },
  {
   "cell_type": "code",
   "execution_count": 24,
   "metadata": {},
   "outputs": [
    {
     "name": "stdout",
     "output_type": "stream",
     "text": [
      "테스트 인풋값 : [56.691 38.711  3.131 15.554 49.826 56.469  2.757 17.932]\n",
      "✅ input_list : [56.690607840146434, 38.71059825091519, 3.1306553846644296, 15.553576032483223, 49.82599513151983, 56.46896295494326, 2.7570685762983524, 17.93172838452288]\n",
      "✅ input_scaled : [[-2.12688825 -1.15220028  2.52052466  2.27360865  1.28020533  1.55735052\n",
      "  -1.24149101 -0.82309135]]\n"
     ]
    },
    {
     "name": "stderr",
     "output_type": "stream",
     "text": [
      "c:\\Users\\leeyeonjun85\\.conda\\envs\\p310_1\\lib\\site-packages\\sklearn\\base.py:439: UserWarning: X does not have valid feature names, but StandardScaler was fitted with feature names\n",
      "  warnings.warn(\n"
     ]
    },
    {
     "name": "stdout",
     "output_type": "stream",
     "text": [
      "맥동성 여부 : 0\n"
     ]
    }
   ],
   "source": [
    "# filt = star.X[star.df['target_class'] == 0]\n",
    "filt = star.X[star.df['target_class'] == 1]\n",
    "test_input = list(filt.describe().loc[['mean']].values[0])\n",
    "# print(f'테스트 인풋값 : {np.round(test_input, 3)}')\n",
    "\n",
    "result = star.input_predict(test_input)\n",
    "print(f'맥동성 여부 : {result}')"
   ]
  }
 ],
 "metadata": {
  "kernelspec": {
   "display_name": "p310_1",
   "language": "python",
   "name": "python3"
  },
  "language_info": {
   "codemirror_mode": {
    "name": "ipython",
    "version": 3
   },
   "file_extension": ".py",
   "mimetype": "text/x-python",
   "name": "python",
   "nbconvert_exporter": "python",
   "pygments_lexer": "ipython3",
   "version": "3.10.11"
  },
  "orig_nbformat": 4
 },
 "nbformat": 4,
 "nbformat_minor": 2
}
