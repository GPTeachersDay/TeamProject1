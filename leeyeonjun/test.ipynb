{
 "cells": [
  {
   "cell_type": "code",
   "execution_count": 64,
   "metadata": {},
   "outputs": [
    {
     "name": "stdout",
     "output_type": "stream",
     "text": [
      "✅ 인스턴스 생성\n",
      "✅ 생성된 데이터프레임의 컬럼\n",
      "Index(['Length', 'Diameter', 'Height', 'Whole weight', 'Shucked weight',\n",
      "       'Viscera weight', 'Shell weight', 'Rings', 'Sex_F', 'Sex_I', 'Sex_M',\n",
      "       'Area', 'Perimeter'],\n",
      "      dtype='object')\n",
      "✅ 생성된 X의 컬럼\n",
      "Index(['Length', 'Diameter', 'Height', 'Whole weight', 'Shucked weight',\n",
      "       'Viscera weight', 'Shell weight', 'Sex_F', 'Sex_I', 'Sex_M', 'Area',\n",
      "       'Perimeter'],\n",
      "      dtype='object')\n",
      "✅ 생성된 y의 이름 : Rings\n",
      "✅ Shape 확인\n",
      " (3217, 12) (805, 12) (3217,) (805,)\n"
     ]
    }
   ],
   "source": [
    "import imp\n",
    "imp.reload(modules.Abalone)\n",
    "\n",
    "import modules\n",
    "from modules.Abalone import *\n",
    "\n",
    "\n",
    "ref_model = Modeling()\n",
    "df, X, y, X_train, X_test, y_train, y_test = ref_model.load_data()\n",
    "print(f'✅ 생성된 데이터프레임의 컬럼\\n{df.columns}')\n",
    "print(f'✅ 생성된 X의 컬럼\\n{X.columns}')\n",
    "print(f'✅ 생성된 y의 이름 : {y.name}')\n",
    "print(f'✅ Shape 확인\\n', X_train.shape, X_test.shape, y_train.shape, y_test.shape)\n"
   ]
  }
 ],
 "metadata": {
  "kernelspec": {
   "display_name": "p310_1",
   "language": "python",
   "name": "python3"
  },
  "language_info": {
   "codemirror_mode": {
    "name": "ipython",
    "version": 3
   },
   "file_extension": ".py",
   "mimetype": "text/x-python",
   "name": "python",
   "nbconvert_exporter": "python",
   "pygments_lexer": "ipython3",
   "version": "3.10.11"
  },
  "orig_nbformat": 4
 },
 "nbformat": 4,
 "nbformat_minor": 2
}
