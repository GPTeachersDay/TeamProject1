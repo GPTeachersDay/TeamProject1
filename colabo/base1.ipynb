{
 "cells": [
  {
   "attachments": {},
   "cell_type": "markdown",
   "metadata": {},
   "source": [
    "# 데이터 로드"
   ]
  },
  {
   "cell_type": "code",
   "execution_count": 9,
   "metadata": {},
   "outputs": [
    {
     "name": "stdout",
     "output_type": "stream",
     "text": [
      "(3341, 10) (836, 10) (3341,) (836,)\n"
     ]
    }
   ],
   "source": [
    "import pandas as pd\n",
    "from sklearn.model_selection import train_test_split\n",
    "def load_dataset(csv_path, TRAIN_RATIO=0.8):\n",
    "    \n",
    "    # 데이터셋 로드\n",
    "    df = pd.read_csv(csv_path)\n",
    "    \n",
    "    # 성별 원핫 인코딩\n",
    "    df=pd.get_dummies(df,columns=['Sex'])\n",
    "    \n",
    "    # 학습 데이터 분리\n",
    "    X = df.drop('Rings', axis=1)\n",
    "    y = df['Rings']\n",
    "    X_train, X_test, y_train, y_test = train_test_split(X, y, train_size=TRAIN_RATIO, random_state = 83)\n",
    "    \n",
    "    return X_train, X_test, y_train, y_test\n",
    "\n",
    "csv_path = '../colabo/Data/Regression_data.csv'\n",
    "X_train, X_test, y_train, y_test = load_dataset(csv_path)\n",
    "print(X_train.shape, X_test.shape, y_train.shape, y_test.shape)"
   ]
  },
  {
   "cell_type": "code",
   "execution_count": 16,
   "metadata": {},
   "outputs": [
    {
     "name": "stdout",
     "output_type": "stream",
     "text": [
      "Model: \"sequential_2\"\n",
      "_________________________________________________________________\n",
      " Layer (type)                Output Shape              Param #   \n",
      "=================================================================\n",
      " dense_6 (Dense)             (None, 128)               1408      \n",
      "                                                                 \n",
      " dense_7 (Dense)             (None, 64)                8256      \n",
      "                                                                 \n",
      " dense_8 (Dense)             (None, 1)                 65        \n",
      "                                                                 \n",
      "=================================================================\n",
      "Total params: 9,729\n",
      "Trainable params: 9,729\n",
      "Non-trainable params: 0\n",
      "_________________________________________________________________\n"
     ]
    }
   ],
   "source": [
    "# 베이스모델\n",
    "def Base_Model(LEARNING_RATE=0.01):\n",
    "    import tensorflow as tf\n",
    "    model = tf.keras.Sequential([\n",
    "            tf.keras.layers.Dense(units=128, activation='relu', input_shape=(len(X_train.keys()),)),\n",
    "            tf.keras.layers.Dense(units=64, activation='relu'),\n",
    "            tf.keras.layers.Dense(units=1)\n",
    "        ])\n",
    "    optimizer = tf.keras.optimizers.SGD(learning_rate=LEARNING_RATE) # SGD : 경사하강법을 기본적으로 사용하는 옵티마이저\n",
    "    model.compile(loss='mean_squared_error', optimizer=optimizer) # metrics=[eval_accuracy(y_pred, y_test)] 직접 작성한 eval_accuracy를 평가지표로 사용할 수 있음\n",
    "    return model\n",
    "\n",
    "model = Base_Model()\n",
    "model.summary()"
   ]
  },
  {
   "cell_type": "code",
   "execution_count": 18,
   "metadata": {},
   "outputs": [
    {
     "name": "stdout",
     "output_type": "stream",
     "text": [
      "Epoch 1/5\n",
      "84/84 [==============================] - 1s 8ms/step - loss: 6.5764 - val_loss: 7.7109\n",
      "Epoch 2/5\n",
      "84/84 [==============================] - 0s 6ms/step - loss: 6.5082 - val_loss: 8.1434\n",
      "Epoch 3/5\n",
      "84/84 [==============================] - 0s 6ms/step - loss: 6.5330 - val_loss: 5.2535\n",
      "Epoch 4/5\n",
      "84/84 [==============================] - 1s 6ms/step - loss: 6.5213 - val_loss: 4.7294\n",
      "Epoch 5/5\n",
      "84/84 [==============================] - 0s 5ms/step - loss: 5.9877 - val_loss: 5.8692\n"
     ]
    }
   ],
   "source": [
    "EPOCHS = 5\n",
    "\n",
    "history = model.fit(\n",
    "  X_train, y_train,\n",
    "  validation_split = 0.2,\n",
    "  verbose=1,\n",
    "  epochs=EPOCHS)"
   ]
  }
 ],
 "metadata": {
  "kernelspec": {
   "display_name": "p310_1",
   "language": "python",
   "name": "python3"
  },
  "language_info": {
   "codemirror_mode": {
    "name": "ipython",
    "version": 3
   },
   "file_extension": ".py",
   "mimetype": "text/x-python",
   "name": "python",
   "nbconvert_exporter": "python",
   "pygments_lexer": "ipython3",
   "version": "3.10.11"
  },
  "orig_nbformat": 4
 },
 "nbformat": 4,
 "nbformat_minor": 2
}
